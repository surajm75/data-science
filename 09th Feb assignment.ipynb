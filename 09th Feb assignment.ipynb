{
 "cells": [
  {
   "cell_type": "markdown",
   "id": "353ceee2",
   "metadata": {},
   "source": [
    "Q1, Create a vehicle class with an init method having instance variables as name_of_vehicle, max_speed\n",
    "and average_of_vehicle."
   ]
  },
  {
   "cell_type": "code",
   "execution_count": 1,
   "id": "9f6bcf95",
   "metadata": {},
   "outputs": [],
   "source": [
    "class vehicle:\n",
    "    def __init__(self,name_of_vehicle, max_speed, average_of_vehicle):\n",
    "        self.name_of_vehicle = name_of_vehicle\n",
    "        self.max_speed = max_speed\n",
    "        self.average_of_vehicle = average_of_vehicle\n",
    "        \n",
    "obj_vehicle = vehicle(\"Bike\",80,40)\n",
    "\n"
   ]
  },
  {
   "cell_type": "code",
   "execution_count": 13,
   "id": "23e1082a",
   "metadata": {},
   "outputs": [
    {
     "name": "stdout",
     "output_type": "stream",
     "text": [
      "The max speed of vehicle is 80\n"
     ]
    }
   ],
   "source": [
    "print(f\"The max speed of vehicle is {obj_vehicle.max_speed}\")"
   ]
  },
  {
   "cell_type": "markdown",
   "id": "2db7f442",
   "metadata": {},
   "source": [
    "Q2. Create a child class car from the vehicle class created in Que 1, which will inherit the vehicle class.\n",
    "Create a method named seating_capacity which takes capacity as an argument and returns the name of\n",
    "the vehicle and its seating capacity."
   ]
  },
  {
   "cell_type": "code",
   "execution_count": 8,
   "id": "a4d44758",
   "metadata": {},
   "outputs": [],
   "source": [
    "class car(vehicle):\n",
    "    def seating_capacity(self, capacity):\n",
    "        return f\"The vehicle {self.name_of_vehicle} has capacity {capacity}.\""
   ]
  },
  {
   "cell_type": "code",
   "execution_count": 9,
   "id": "60cbd88e",
   "metadata": {},
   "outputs": [],
   "source": [
    "obj_car = car(\"Toyota Camry\", 200, 30)"
   ]
  },
  {
   "cell_type": "code",
   "execution_count": 10,
   "id": "10478910",
   "metadata": {},
   "outputs": [
    {
     "data": {
      "text/plain": [
       "'The vehicle Toyota Camry has capacity 5.'"
      ]
     },
     "execution_count": 10,
     "metadata": {},
     "output_type": "execute_result"
    }
   ],
   "source": [
    "obj_car.seating_capacity(5)"
   ]
  },
  {
   "cell_type": "markdown",
   "id": "6855758f",
   "metadata": {},
   "source": [
    "Q3. What is multiple inheritance? Write a python code to demonstrate multiple inheritance."
   ]
  },
  {
   "cell_type": "markdown",
   "id": "6f5b23c6",
   "metadata": {},
   "source": [
    "Multiple inheritance is a feature in object-oriented programming languages that allows a class to inherit attributes and methods from multiple parent classes. In multiple inheritance, a child class can inherit from more than one parent class, thereby inheriting and combining the features of all the parent classes."
   ]
  },
  {
   "cell_type": "code",
   "execution_count": 12,
   "id": "a012e0c7",
   "metadata": {},
   "outputs": [
    {
     "name": "stdout",
     "output_type": "stream",
     "text": [
      "This is method A from class A.\n",
      "This is method B from class B.\n",
      "This is method C from class C.\n"
     ]
    }
   ],
   "source": [
    "class A:\n",
    "    def method_a(self):\n",
    "        print(\"This is method A from class A.\")\n",
    "\n",
    "\n",
    "class B:\n",
    "    def method_b(self):\n",
    "        print(\"This is method B from class B.\")\n",
    "\n",
    "\n",
    "class C(A, B):\n",
    "    def method_c(self):\n",
    "        print(\"This is method C from class C.\")\n",
    "\n",
    "\n",
    "# Creating an instance of class C\n",
    "my_instance = C()\n",
    "\n",
    "# Accessing methods from class A, class B, and class C\n",
    "my_instance.method_a()\n",
    "my_instance.method_b()\n",
    "my_instance.method_c()"
   ]
  },
  {
   "cell_type": "markdown",
   "id": "f3ba499e",
   "metadata": {},
   "source": [
    "Q4. What are getter and setter in python? Create a class and create a getter and a setter method in this\n",
    "class."
   ]
  },
  {
   "cell_type": "markdown",
   "id": "a0e352ba",
   "metadata": {},
   "source": [
    "In Python, getters and setters are methods used to access and modify the values of class attributes. Getters retrieve the value of an attribute, while setters modify the value of an attribute. They provide a way to control access to attributes, enforce validation or computation logic, and maintain encapsulation."
   ]
  },
  {
   "cell_type": "code",
   "execution_count": 14,
   "id": "e9fac312",
   "metadata": {},
   "outputs": [],
   "source": [
    "class LNT:\n",
    "    def __init__(self,Budget,BU):\n",
    "        self.__Budget = Budget\n",
    "        self.BU = BU\n",
    "        \n",
    "    @property   \n",
    "    def Budget_access(self):\n",
    "        return self.__Budget\n",
    "    \n",
    "    @Budget_access.setter\n",
    "    def modify_budget(self,new_budget):\n",
    "        self.__Budget = new_budget\n",
    "        \n",
    "    @Budget_access.deleter\n",
    "    def delete_budget(self):\n",
    "        del self.__Budget"
   ]
  },
  {
   "cell_type": "code",
   "execution_count": 15,
   "id": "afcb210a",
   "metadata": {},
   "outputs": [],
   "source": [
    "obj_LNT = LNT('100000', 'Defence')"
   ]
  },
  {
   "cell_type": "markdown",
   "id": "94c70692",
   "metadata": {},
   "source": [
    "Q5.What is method overriding in python? Write a python code to demonstrate method overriding."
   ]
  },
  {
   "cell_type": "markdown",
   "id": "f8c8b4ba",
   "metadata": {},
   "source": [
    "Method overriding in Python is a feature that allows a subclass to provide a different implementation of a method that is already defined in its superclass. It enables the subclass to modify or extend the behavior of the inherited method."
   ]
  },
  {
   "cell_type": "code",
   "execution_count": 16,
   "id": "8df735cf",
   "metadata": {},
   "outputs": [
    {
     "name": "stdout",
     "output_type": "stream",
     "text": [
      "The dog barks.\n",
      "The cat meows.\n"
     ]
    }
   ],
   "source": [
    "class Animal:\n",
    "    def make_sound(self):\n",
    "        print(\"The animal makes a generic sound.\")\n",
    "\n",
    "class Dog(Animal):\n",
    "    def make_sound(self):\n",
    "        print(\"The dog barks.\")\n",
    "\n",
    "class Cat(Animal):\n",
    "    def make_sound(self):\n",
    "        print(\"The cat meows.\")\n",
    "\n",
    "# Creating instances of Dog and Cat\n",
    "dog = Dog()\n",
    "cat = Cat()\n",
    "\n",
    "# Calling the overridden methods\n",
    "dog.make_sound()  # Output: The dog barks.\n",
    "cat.make_sound()  # Output: The cat meows.\n"
   ]
  },
  {
   "cell_type": "code",
   "execution_count": null,
   "id": "dfb46898",
   "metadata": {},
   "outputs": [],
   "source": []
  }
 ],
 "metadata": {
  "kernelspec": {
   "display_name": "Python 3 (ipykernel)",
   "language": "python",
   "name": "python3"
  },
  "language_info": {
   "codemirror_mode": {
    "name": "ipython",
    "version": 3
   },
   "file_extension": ".py",
   "mimetype": "text/x-python",
   "name": "python",
   "nbconvert_exporter": "python",
   "pygments_lexer": "ipython3",
   "version": "3.10.5"
  }
 },
 "nbformat": 4,
 "nbformat_minor": 5
}
