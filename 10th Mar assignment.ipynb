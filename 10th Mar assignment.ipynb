{
 "cells": [
  {
   "cell_type": "markdown",
   "id": "f92011da",
   "metadata": {},
   "source": [
    "Q1: What is Estimation Statistics? Explain point estimate and interval estimate."
   ]
  },
  {
   "cell_type": "markdown",
   "id": "a0120a3d",
   "metadata": {},
   "source": [
    "Q1: What is Estimation Statistics? Explain point estimate and interval estimate.\n",
    "ChatGPT\n",
    "Estimation statistics is a branch of statistics that deals with estimating population parameters based on sample data. It involves using sample statistics to make inferences or predictions about population parameters, which are typically unknown.\n",
    "\n",
    "Point Estimate:\n",
    "A point estimate is a single value that is used to estimate an unknown population parameter. It is calculated using sample data and serves as a \"best guess\" or approximation of the true population parameter. For example, if you want to estimate the population mean, you can use the sample mean as a point estimate.\n",
    "\n",
    "Interval Estimate:\n",
    "An interval estimate provides a range of values within which the true population parameter is likely to lie. It takes into account both the point estimate and the variability of the sample data. Interval estimates are often represented as a range with a certain level of confidence. The confidence level reflects the probability that the interval contains the true population parameter."
   ]
  },
  {
   "cell_type": "markdown",
   "id": "c2a97209",
   "metadata": {},
   "source": [
    "Q2. Write a Python function to estimate the population mean using a sample mean and standard\n",
    "deviation."
   ]
  },
  {
   "cell_type": "code",
   "execution_count": 1,
   "id": "b8bb03df",
   "metadata": {},
   "outputs": [],
   "source": [
    "import math\n",
    "\n",
    "def estimate_population_mean(sample_mean, sample_std_dev, sample_size):\n",
    "    # Calculate the standard error\n",
    "    standard_error = sample_std_dev / math.sqrt(sample_size)\n",
    "    \n",
    "    # Calculate the margin of error (using a 95% confidence level, Z-value is 1.96)\n",
    "    margin_of_error = 1.96 * standard_error\n",
    "    \n",
    "    # Calculate the lower and upper bounds of the confidence interval\n",
    "    lower_bound = sample_mean - margin_of_error\n",
    "    upper_bound = sample_mean + margin_of_error\n",
    "    \n",
    "    # Return the estimated population mean and the confidence interval\n",
    "    return sample_mean, (lower_bound, upper_bound)"
   ]
  },
  {
   "cell_type": "code",
   "execution_count": 3,
   "id": "43a9c9e2",
   "metadata": {},
   "outputs": [
    {
     "name": "stdout",
     "output_type": "stream",
     "text": [
      "Estimated population mean: 45.0\n",
      "Confidence interval: (42.975720704382255, 47.024279295617745)\n"
     ]
    }
   ],
   "source": [
    "sample_mean = 45.0\n",
    "sample_std_dev = 8.0\n",
    "sample_size = 60\n",
    "\n",
    "estimated_mean, confidence_interval = estimate_population_mean(sample_mean, sample_std_dev, sample_size)\n",
    "\n",
    "print(\"Estimated population mean:\", estimated_mean)\n",
    "print(\"Confidence interval:\", confidence_interval)"
   ]
  },
  {
   "cell_type": "markdown",
   "id": "8b1a1a63",
   "metadata": {},
   "source": [
    "Q3: What is Hypothesis testing? Why is it used? State the importance of Hypothesis testing."
   ]
  },
  {
   "cell_type": "markdown",
   "id": "3ba6a322",
   "metadata": {},
   "source": [
    "Hypothesis testing is a statistical technique used to make inferences or draw conclusions about a population based on sample data. It involves formulating two competing hypotheses, the null hypothesis (H0) and the alternative hypothesis (Ha), and evaluating the evidence from the sample data to determine which hypothesis is more supported by the data.\n",
    "\n",
    "The null hypothesis typically represents the status quo or the absence of an effect, while the alternative hypothesis suggests the presence of a specific effect or relationship. Hypothesis testing aims to provide statistical evidence to either accept the null hypothesis or reject it in favor of the alternative hypothesis.\n",
    "\n",
    "The importance of hypothesis testing lies in its ability to provide a systematic and objective approach to making decisions and drawing conclusions based on available evidence. Here are some key reasons why hypothesis testing is used and its significance:\n",
    "\n",
    "Inference and generalization: Hypothesis testing allows researchers to make inferences about a larger population based on sample data. By collecting a representative sample, they can draw conclusions that apply beyond the observed sample.\n",
    "\n",
    "Scientific research: Hypothesis testing is fundamental to the scientific method. It helps researchers evaluate theories, validate hypotheses, and contribute to the accumulation of scientific knowledge. By testing hypotheses, researchers can confirm or challenge existing beliefs and theories.\n",
    "\n",
    "Decision-making: Hypothesis testing provides a framework for decision-making in various fields, such as business, medicine, social sciences, and engineering. It enables researchers, practitioners, and policymakers to assess the effectiveness of interventions, treatments, or strategies and make informed choices based on statistical evidence.\n",
    "\n",
    "Statistical significance: Hypothesis testing allows researchers to determine whether the observed results are statistically significant or occurred by chance. It helps differentiate between meaningful effects and random variation, providing a basis for drawing meaningful conclusions.\n",
    "\n",
    "Error control: Hypothesis testing provides a mechanism to control errors in decision-making. By setting a significance level (often denoted as alpha), researchers can quantify the risk of making incorrect decisions and balance between the risks of Type I errors (rejecting a true null hypothesis) and Type II errors (failing to reject a false null hypothesis)."
   ]
  },
  {
   "cell_type": "markdown",
   "id": "1e34e979",
   "metadata": {},
   "source": [
    "Q4. Create a hypothesis that states whether the average weight of male college students is greater than\n",
    "the average weight of female college students."
   ]
  },
  {
   "cell_type": "markdown",
   "id": "9f810b5e",
   "metadata": {},
   "source": [
    "Hypothesis: The average weight of male college students is greater than the average weight of female college students.\n",
    "\n",
    "Null hypothesis (H0): The average weight of male college students is equal to or less than the average weight of female college students.\n",
    "\n",
    "Alternative hypothesis (Ha): The average weight of male college students is greater than the average weight of female college students.\n",
    "\n",
    "In statistical terms, the hypothesis can be represented as:\n",
    "\n",
    "H0: μm ≤ μf\n",
    "Ha: μm > μf\n",
    "\n",
    "Where:\n",
    "μm represents the population mean weight of male college students, and\n",
    "μf represents the population mean weight of female college students.\n",
    "\n",
    "Please note that the hypothesis statement provided is for illustrative purposes and does not imply any actual data or evidence. In order to test this hypothesis, you would need to collect data on the weights of male and female college students and perform appropriate statistical analysis, such as a t-test or analysis of variance (ANOVA), to evaluate the evidence and draw conclusions about the population means.\n",
    "\n",
    "\n",
    "\n",
    "\n",
    "\n"
   ]
  },
  {
   "cell_type": "markdown",
   "id": "98dd383b",
   "metadata": {},
   "source": [
    "Q5. Write a Python script to conduct a hypothesis test on the difference between two population means,\n",
    "given a sample from each population."
   ]
  },
  {
   "cell_type": "code",
   "execution_count": 22,
   "id": "aa2301fa",
   "metadata": {},
   "outputs": [
    {
     "name": "stdout",
     "output_type": "stream",
     "text": [
      "P value is 1.0618298086752696e-17\n",
      "Reject the null hypothesis.\n",
      "There is enough evidence to suggest a significant difference between the population means.\n"
     ]
    }
   ],
   "source": [
    "import numpy as np\n",
    "from scipy import stats\n",
    "\n",
    "np.random.seed(0)\n",
    "s1 = np.random.normal(loc=50, scale=5, size=100)\n",
    "s2 = np.random.normal(loc=60, scale = 10, size = 80)\n",
    "\n",
    "alpha = 0.05\n",
    "\n",
    "t_stat, p_value = stats.ttest_ind(s1, s2)\n",
    "\n",
    "print(f\"P value is {p_value}\")\n",
    "\n",
    "if p_value < alpha:\n",
    "    print(\"Reject the null hypothesis.\")\n",
    "    print(\"There is enough evidence to suggest a significant difference between the population means.\")\n",
    "else:\n",
    "    print(\"Failed to reject the null hypothesis.\")\n",
    "    print(\"There is no enough evidence to suggest a significant difference between the population means.\")\n",
    "\n",
    "#print(s1)\n",
    "#print(s2)"
   ]
  },
  {
   "cell_type": "markdown",
   "id": "cd142696",
   "metadata": {},
   "source": [
    "Q6: What is a null and alternative hypothesis? Give some examples."
   ]
  },
  {
   "cell_type": "markdown",
   "id": "699241af",
   "metadata": {},
   "source": [
    "In statistical hypothesis testing, the null hypothesis (H0) and alternative hypothesis (Ha) are two competing statements about a population parameter or relationship between variables. These hypotheses are formulated based on the research question or the specific hypothesis being investigated.\n",
    "\n",
    "The null hypothesis represents the default or status quo assumption. It suggests that there is no significant difference, effect, or relationship in the population. It is usually denoted as \"no difference\" or \"no effect\" and is typically the hypothesis that researchers aim to challenge or reject. The null hypothesis is often symbolized as H0.\n",
    "\n",
    "On the other hand, the alternative hypothesis represents the opposite of the null hypothesis. It proposes that there is a significant difference, effect, or relationship in the population. It is the hypothesis that researchers hope to support or confirm. The alternative hypothesis is denoted as Ha or H1.\n",
    "\n",
    "Here are some examples to illustrate null and alternative hypotheses:\n",
    "\n",
    "Example: Does a new drug reduce blood pressure?\n",
    "\n",
    "Null hypothesis (H0): The new drug does not have an effect on reducing blood pressure.\n",
    "Alternative hypothesis (Ha): The new drug has an effect on reducing blood pressure.\n",
    "\n",
    "Example: Is there a gender difference in average income?\n",
    "\n",
    "Null hypothesis (H0): There is no difference in average income between genders.\n",
    "Alternative hypothesis (Ha): There is a difference in average income between genders.\n",
    "\n",
    "Example: Does a teaching method improve test scores?\n",
    "\n",
    "Null hypothesis (H0): The teaching method does not improve test scores.\n",
    "Alternative hypothesis (Ha): The teaching method improves test scores.\n",
    "\n",
    "Example: Is a new advertising campaign more effective than the existing one?\n",
    "\n",
    "Null hypothesis (H0): The new advertising campaign is not more effective than the existing one.\n",
    "Alternative hypothesis (Ha): The new advertising campaign is more effective than the existing one."
   ]
  },
  {
   "cell_type": "markdown",
   "id": "5189cc18",
   "metadata": {},
   "source": [
    "Q7: Write down the steps involved in hypothesis testing."
   ]
  },
  {
   "cell_type": "markdown",
   "id": "9f611239",
   "metadata": {},
   "source": [
    "\n",
    "The steps involved in hypothesis testing can be summarized as follows:\n",
    "\n",
    "State the null and alternative hypotheses: Clearly define the null hypothesis (H0) and the alternative hypothesis (Ha) based on the research question or the hypothesis being investigated. The null hypothesis typically represents the absence of an effect, while the alternative hypothesis suggests the presence of a specific effect.\n",
    "\n",
    "Set the significance level: Determine the desired level of significance (alpha), which represents the probability of rejecting the null hypothesis when it is true. Commonly used significance levels are 0.05 (5%) or 0.01 (1%), but the choice depends on the specific study and field of research.\n",
    "\n",
    "Select the appropriate test statistic: Choose a statistical test that is suitable for the type of data and the specific research question. The choice of test depends on factors such as the nature of the variables (continuous or categorical), the number of groups being compared, and the study design.\n",
    "\n",
    "Collect and analyze the data: Collect a representative sample from the population of interest. Perform the necessary statistical analysis using the chosen test statistic to calculate the test statistic value and obtain the corresponding p-value.\n",
    "\n",
    "Determine the critical region or rejection region: Define the critical region based on the significance level and the chosen test statistic. The critical region is the range of values that, if the test statistic falls within, would lead to rejecting the null hypothesis. It represents extreme or unlikely values under the assumption of the null hypothesis.\n",
    "\n",
    "Compare the test statistic and the critical value: Compare the calculated test statistic with the critical value(s) associated with the chosen significance level. If the test statistic falls within the critical region, the null hypothesis is rejected in favor of the alternative hypothesis. If the test statistic does not fall within the critical region, the null hypothesis is not rejected.\n",
    "\n",
    "Interpret the results and draw conclusions: Based on the outcome of the hypothesis test, interpret the results in the context of the research question. If the null hypothesis is rejected, it suggests evidence in favor of the alternative hypothesis. If the null hypothesis is not rejected, it indicates insufficient evidence to support the alternative hypothesis"
   ]
  },
  {
   "cell_type": "markdown",
   "id": "38468659",
   "metadata": {},
   "source": [
    "Q8. Define p-value and explain its significance in hypothesis testing."
   ]
  },
  {
   "cell_type": "markdown",
   "id": "e91ea3c3",
   "metadata": {},
   "source": [
    "In statistical hypothesis testing, the p-value is the probability of obtaining a test statistic as extreme as or more extreme than the observed results, assuming that the null hypothesis is true.\n",
    "\n",
    "In simpler terms, the p-value is a measure of the evidence against the null hypothesis. A small p-value indicates that the observed results are unlikely to have occurred by chance, and provides evidence to reject the null hypothesis in favor of the alternative hypothesis.\n",
    "\n",
    "The significance of the p-value in hypothesis testing is that it helps us make decisions about whether to accept or reject the null hypothesis. Typically, a p-value threshold of 0.05 or lower is used to determine statistical significance. If the p-value is less than or equal to 0.05, we reject the null hypothesis and conclude that the alternative hypothesis is supported by the evidence. If the p-value is greater than 0.05, we fail to reject the null hypothesis, which means that we do not have sufficient evidence to support the alternative hypothesis.\n",
    "\n",
    "It is important to note that the p-value is not a guarantee of the truth or falsity of a hypothesis. It is simply a measure of the evidence against the null hypothesis, and should be used in conjunction with other factors such as effect size and study design to make informed decisions about the validity of a hypothesis."
   ]
  },
  {
   "cell_type": "markdown",
   "id": "4f1c4731",
   "metadata": {},
   "source": [
    "Q9. Generate a Student's t-distribution plot using Python's matplotlib library, with the degrees of freedom\n",
    "parameter set to 10."
   ]
  },
  {
   "cell_type": "code",
   "execution_count": 32,
   "id": "15aab304",
   "metadata": {},
   "outputs": [
    {
     "data": {
      "image/png": "[encoded data removed]",
      "text/plain": [
       "<Figure size 640x480 with 1 Axes>"
      ]
     },
     "metadata": {},
     "output_type": "display_data"
    }
   ],
   "source": [
    "import numpy as np\n",
    "import matplotlib.pyplot as plt\n",
    "from scipy.stats import t \n",
    "d = 10\n",
    "x = np.linspace(-5,5,1000)\n",
    "\n",
    "#now used pdf of t-ditribution to compute y-values\n",
    "#f(x) = (1 / sqrt(d* pi)) * (1 + (x^2 / d))^(-(d+1)/2)\n",
    "\n",
    "y = t.pdf(x,d)\n",
    "\n",
    "plt.plot(x,y)\n",
    "\n",
    "plt.xlabel(\"x\")\n",
    "plt.ylabel(\"Probability Density\")\n",
    "plt.title(\"Student's t-distribution with degree of freedom 10\")\n",
    "plt.show()"
   ]
  },
  {
   "cell_type": "code",
   "execution_count": null,
   "id": "ad1fcb92",
   "metadata": {},
   "outputs": [],
   "source": [
    "#mean of t-distribution is zero and std is std.p/n"
   ]
  },
  {
   "cell_type": "markdown",
   "id": "6aa6fabd",
   "metadata": {},
   "source": [
    "Q10. Write a Python program to calculate the two-sample t-test for independent samples, given two\n",
    "random samples of equal size and a null hypothesis that the population means are equal."
   ]
  },
  {
   "cell_type": "code",
   "execution_count": 36,
   "id": "5d73e500",
   "metadata": {},
   "outputs": [
    {
     "name": "stdout",
     "output_type": "stream",
     "text": [
      "t-stat = -3.5971927597496247\n",
      "p-value = 0.00040627960203623494\n",
      "Reject the null hypothesis the population means are not equal\n"
     ]
    }
   ],
   "source": [
    "import numpy as np\n",
    "from scipy import stats\n",
    "\n",
    "np.random.seed(0)\n",
    "\n",
    "s1 = np.random.normal(loc=50, scale=10, size=100)\n",
    "s2 = np.random.normal(loc=55, scale=10, size=100)\n",
    "\n",
    "alpha = 0.05\n",
    "\n",
    "t_stat, p_value = stats.ttest_ind(s1,s2)\n",
    "\n",
    "print(f\"t-stat = {t_stat}\")\n",
    "print(f\"p-value = {p_value}\")\n",
    "\n",
    "if p_value < alpha:\n",
    "    print(\"Reject the null hypothesis the population means are not equal\")\n",
    "else:\n",
    "    print(\"Failed to reject the null hypothesis the population means are equal\")\n"
   ]
  },
  {
   "cell_type": "markdown",
   "id": "cdae8f6d",
   "metadata": {},
   "source": [
    "Q11: What is Student’s t distribution? When to use the t-Distribution."
   ]
  },
  {
   "cell_type": "markdown",
   "id": "ce32182c",
   "metadata": {},
   "source": [
    "Student's t-distribution, also known as the t-distribution, is a probability distribution that is widely used in statistics. It was first introduced by William Sealy Gosset in 1908, who used the pen name \"Student\" for his work while working for the Guinness brewery in Dublin, Ireland.\n",
    "\n",
    "The t-distribution is similar in shape to the normal distribution, but with fatter tails. It is used in situations where the population standard deviation is unknown and must be estimated from the sample. The t-distribution takes into account the added uncertainty that comes with estimating the population standard deviation from a small sample size.\n",
    "\n",
    "The t-distribution is often used in hypothesis testing to test the difference between two means, where the population standard deviation is unknown. Specifically, the t-distribution is used when the sample size is small (typically less than 30) and the population standard deviation is unknown. The t-distribution is also used to construct confidence intervals for the population mean when the sample size is small and the population standard deviation is unknown.\n",
    "\n",
    "In contrast, the normal distribution is used when the sample size is large (typically greater than 30) and the population standard deviation is known or can be assumed to be known.\n",
    "\n",
    "The t-distribution is characterized by its degrees of freedom (df), which is equal to the sample size minus one. As the degrees of freedom increase, the t-distribution becomes more similar to the normal distribution. When the degrees of freedom are very large (typically greater than 30), the t-distribution is nearly identical to the standard normal distribution.\n",
    "\n",
    "Overall, the t-distribution is a useful tool for making inferences about population parameters when the sample size is small and the population standard deviation is unknown. It becomes more similar to the normal distribution as the sample size increases, and in fact, approaches the normal distribution as the sample size goes to infinity."
   ]
  },
  {
   "cell_type": "markdown",
   "id": "cdb68fd5",
   "metadata": {},
   "source": [
    "Q12: What is t-statistic? State the formula for t-statistic."
   ]
  },
  {
   "cell_type": "markdown",
   "id": "5e4c77f4",
   "metadata": {},
   "source": [
    "The t-statistic is a measure of how much the sample mean deviates from the hypothesized population mean, taking into account the variability of the sample. It is used in hypothesis testing to determine whether a sample mean is significantly different from a hypothesized population mean.\n",
    "\n",
    "The formula for the t-statistic is:\n",
    "\n",
    "t = (x̄ - μ) / (s / sqrt(n))\n",
    "\n",
    "where:\n",
    "- x̄ is the sample mean\n",
    "- μ is the hypothesized population mean\n",
    "- s is the sample standard deviation\n",
    "- n is the sample size\n",
    "\n",
    "The t-statistic measures the difference between the sample mean and the hypothesized population mean in units of the standard error of the sample mean. The standard error of the sample mean is given by s / sqrt(n), which is a measure of the variability of the sample mean. The larger the t-statistic, the more evidence there is that the sample mean is significantly different from the hypothesized population mean.\n",
    "\n",
    "In hypothesis testing, we compare the calculated t-statistic to a critical value from the t-distribution with n-1 degrees of freedom at a specified level of significance α. If the calculated t-statistic is greater than the critical value, we reject the null hypothesis and conclude that the sample mean is significantly different from the hypothesized population mean. Otherwise, we fail to reject the null hypothesis and conclude that there is not enough evidence to conclude that the sample mean is significantly different from the hypothesized population mean."
   ]
  },
  {
   "cell_type": "markdown",
   "id": "ec693fba",
   "metadata": {},
   "source": [
    "Q13. A coffee shop owner wants to estimate the average daily revenue for their shop. They take a random\n",
    "sample of 50 days and find the sample mean revenue to be $500 with a standard deviation of $50.\n",
    "Estimate the population mean revenue with a 95% confidence interval."
   ]
  },
  {
   "cell_type": "markdown",
   "id": "393478d2",
   "metadata": {},
   "source": [
    "sample size(n) = 50\n",
    "sample std(s) = 50\n",
    "To estimate the population mean revenue for the coffee shop with a 95% confidence interval, we can use the following formula:\n",
    "\n",
    "confidence interval = sample mean ± margin of error\n",
    "\n",
    "where the margin of error is:\n",
    "\n",
    "margin of error = t * (s / sqrt(n))\n",
    "\n",
    "t is critical value which can be calculated from t-distribution table for degree of freedom n-1 i.e. 49\n",
    " t = 2.0009\n",
    "    \n",
    "margin of error = 14.18 \n",
    "\n",
    "Therefore, the 95% confidence interval for the population mean revenue is:\n",
    "\n",
    "confidence interval = $500 ± $14.14\n",
    "\n",
    "So the 95% confidence interval for the population mean revenue is between $485.86 and $514.14.\n",
    "\n",
    "We can interpret this as: we are 95% confident that the true population mean revenue for the coffee shop falls within the range of $485.86 to $514.14 based on the sample of 50 days that we have taken.\n",
    "\n",
    "\n",
    "    \n"
   ]
  },
  {
   "cell_type": "markdown",
   "id": "6c588fc9",
   "metadata": {},
   "source": [
    "Q14. A researcher hypothesizes that a new drug will decrease blood pressure by 10 mmHg. They conduct a\n",
    "clinical trial with 100 patients and find that the sample mean decrease in blood pressure is 8 mmHg with a\n",
    "standard deviation of 3 mmHg. Test the hypothesis with a significance level of 0.05."
   ]
  },
  {
   "cell_type": "markdown",
   "id": "224d9d85",
   "metadata": {},
   "source": [
    "sample mean = 9, sample_std = 3 \n",
    "\n",
    "significance level = 0.05 \n",
    "\n",
    "1.State the null and alternative hypotheses:\n",
    "\n",
    "Null hypothesis (H0): The mean decrease in blood pressure is not significantly different from 10 mmHg.\n",
    "\n",
    "Alternative hypothesis (Ha): The mean decrease in blood pressure is significantly less than 10 mmHg.\n",
    "\n",
    "2.t-st = (8-10)*sqrt(100)/3 = -6.67\n",
    "\n",
    "3.Now find the critical value of t, from the t-ditribution for degree of freedom (100-1) = 99 for one tail = -1.66\n",
    "\n",
    "sample mean is less than the hypothesized population mean, then the critical value will be negative\n",
    "\n",
    "as -6.67 < - 1.66\n",
    "\n",
    "we reject the null hypothesis and conclude that the mean decrease in blood pressure is significantly less than 10 mmHg.\n",
    "\n"
   ]
  },
  {
   "cell_type": "markdown",
   "id": "5f9763f4",
   "metadata": {},
   "source": [
    "Q15. An electronics company produces a certain type of product with a mean weight of 5 pounds and a\n",
    "standard deviation of 0.5 pounds. A random sample of 25 products is taken, and the sample mean weight\n",
    "is found to be 4.8 pounds. Test the hypothesis that the true mean weight of the products is less than 5\n",
    "pounds with a significance level of 0.01."
   ]
  },
  {
   "cell_type": "markdown",
   "id": "cf6b8046",
   "metadata": {},
   "source": [
    "s_mean = 5, s_std = 0.5\n",
    "n = 25, xi = 4.8\n",
    "\n",
    "1.State the null and alternative hypotheses:\n",
    "\n",
    "Null hypothesis (H0): true mean weight of the products is not less than 5 pounds.\n",
    "\n",
    "Alternative hypothesis (Ha): true mean weight of the products is less than 5 pounds.\n",
    "\n",
    "2.t-st = (4.8-5)*5/0.5 = -2\n",
    "\n",
    "3.Now find the critical value of t, from the t-ditribution for degree of freedom (25-1) = 24 for one tail = -2.492\\\n",
    "\n",
    "-2.492 > -2 \n",
    "So we reject the null hypothesis and conclude true mean weight of the products is less than 5 pounds\n",
    "\n"
   ]
  },
  {
   "cell_type": "markdown",
   "id": "8a3b4c7f",
   "metadata": {},
   "source": [
    "Q16. Two groups of students are given different study materials to prepare for a test. The first group (n1 =\n",
    "30) has a mean score of 80 with a standard deviation of 10, and the second group (n2 = 40) has a mean\n",
    "score of 75 with a standard deviation of 8. Test the hypothesis that the population means for the two\n",
    "groups are equal with a significance level of 0.01."
   ]
  },
  {
   "cell_type": "code",
   "execution_count": 40,
   "id": "835a941c",
   "metadata": {},
   "outputs": [
    {
     "name": "stdout",
     "output_type": "stream",
     "text": [
      "P-value = 2.550228813888231e-07\n",
      "Reject the null hypothesis and conclude the population means for the two groups are not equal \n"
     ]
    }
   ],
   "source": [
    "#let's solve by using python code\n",
    "\n",
    "import numpy as np\n",
    "from scipy import stats\n",
    "\n",
    "np.random.seed(0)\n",
    "s1 = np.random.normal(80,10,30)\n",
    "s2 = np.random.normal(75,8,40)\n",
    "\n",
    "t_stat, p_value = stats.ttest_ind(s1,s2)\n",
    "alpha = 0.01\n",
    "print(f\"P-value = {p_value}\")\n",
    "\n",
    "if p_value < alpha:\n",
    "    print(\"Reject the null hypothesis and conclude the population means for the two groups are not equal \")\n",
    "else: \n",
    "    print(\"Failed to reject the null hypothesis and conclude the population means for the two groups are equal \")\n"
   ]
  },
  {
   "cell_type": "markdown",
   "id": "3356bc9b",
   "metadata": {},
   "source": [
    "Q17. A marketing company wants to estimate the average number of ads watched by viewers during a TV\n",
    "program. They take a random sample of 50 viewers and find that the sample mean is 4 with a standard\n",
    "deviation of 1.5. Estimate the population mean with a 99% confidence interval."
   ]
  },
  {
   "cell_type": "markdown",
   "id": "9e29a29e",
   "metadata": {},
   "source": [
    "s_mean = 4, s_std = 1.5\n",
    "n = 50\n",
    "\n",
    "alpha = 0.01\n",
    "\n",
    "margin of error = t * (s / sqrt(n))\n",
    "\n",
    "t is critical value which can be calculated from t-distribution table for degree of freedom n-1 i.e. 49\n",
    " t = 2.576\n",
    "    \n",
    "margin of error = 0.539\n",
    "\n",
    "CI = (4 - 0.539, 4 + 0.539) = (3.461, 4.539)\n",
    "\n",
    "Therefore, we can estimate with 99% confidence that the population mean number of ads watched by viewers during a TV program is between 3.461 and 4.539."
   ]
  },
  {
   "cell_type": "code",
   "execution_count": null,
   "id": "cded7e2a",
   "metadata": {},
   "outputs": [],
   "source": []
  },
  {
   "cell_type": "code",
   "execution_count": null,
   "id": "a3e4e231",
   "metadata": {},
   "outputs": [],
   "source": []
  }
 ],
 "metadata": {
  "kernelspec": {
   "display_name": "Python 3 (ipykernel)",
   "language": "python",
   "name": "python3"
  },
  "language_info": {
   "codemirror_mode": {
    "name": "ipython",
    "version": 3
   },
   "file_extension": ".py",
   "mimetype": "text/x-python",
   "name": "python",
   "nbconvert_exporter": "python",
   "pygments_lexer": "ipython3",
   "version": "3.10.5"
  }
 },
 "nbformat": 4,
 "nbformat_minor": 5
}
