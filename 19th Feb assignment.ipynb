{
 "cells": [
  {
   "cell_type": "markdown",
   "id": "3c3dc2fc",
   "metadata": {},
   "source": [
    "Q1. What is Flask Framework? What are the advantages of Flask Framework?"
   ]
  },
  {
   "cell_type": "markdown",
   "id": "1f2fc817",
   "metadata": {},
   "source": [
    "Flask is a micro web framework written in Python. It is designed to be simple, lightweight, and easy to use. Flask allows developers to quickly build web applications by providing essential tools and libraries while keeping the core framework minimalistic.\n",
    "\n",
    "Advantages of Flask Framework:\n",
    "\n",
    "Simplicity: Flask follows a \"micro\" philosophy, providing only the essentials for web development. It has a small learning curve, making it easy for beginners to get started and understand the framework.\n",
    "\n",
    "Flexibility: Flask allows developers to have a high degree of control over their application structure and components. It does not impose rigid patterns or conventions, enabling developers to choose the tools and libraries they prefer.\n",
    "\n",
    "Lightweight: Flask has a minimalistic core, which means it has fewer dependencies and a smaller footprint compared to full-stack frameworks. This results in faster application startup times and better performance.\n",
    "\n",
    "Extensibility: Flask is highly extensible, allowing developers to add additional functionality through its large ecosystem of extensions. These extensions provide ready-to-use features like authentication, database integration, caching, and more.\n",
    "\n",
    "Python Integration: Flask is built in Python and seamlessly integrates with the Python ecosystem. Developers can leverage the vast range of libraries and tools available in the Python ecosystem for tasks like data manipulation, scientific computing, machine learning, and more.\n",
    "\n",
    "Testing Support: Flask provides built-in support for testing web applications, making it easier to write test cases and ensure the reliability and correctness of the application. This promotes the use of test-driven development (TDD) practices.\n",
    "\n",
    "Scalability: Flask's lightweight nature and flexibility make it suitable for building scalable applications. Developers can choose the components and design patterns that align with their scalability requirements.\n",
    "\n",
    "Large Community: Flask has a vibrant and active community of developers who contribute to its development, provide support, and create useful extensions and resources. This community-driven ecosystem ensures ongoing improvement and availability of resources for developers"
   ]
  },
  {
   "cell_type": "markdown",
   "id": "7ddcfe6a",
   "metadata": {},
   "source": [
    "Q2. Create a simple Flask application to display ‘Hello World!!’. Attach the screenshot of the output in\n",
    "Jupyter Notebook."
   ]
  },
  {
   "cell_type": "code",
   "execution_count": 1,
   "id": "f726a18f",
   "metadata": {},
   "outputs": [],
   "source": [
    "#creating here itself because flask is blocked in my system"
   ]
  },
  {
   "cell_type": "code",
   "execution_count": null,
   "id": "cbf57bc7",
   "metadata": {},
   "outputs": [],
   "source": [
    "from flask import Flask\n",
    "app = Flask(__name__)\n",
    "@app.route(\"/\")\n",
    "def hell_world():\n",
    "    return 'Hello World!!'\n",
    "\n",
    "if __name__ == \"__main__\":\n",
    "    app.run(port=5000)"
   ]
  },
  {
   "cell_type": "code",
   "execution_count": null,
   "id": "1d2c4b6c",
   "metadata": {},
   "outputs": [],
   "source": [
    "#unable to attach screenshot please suggest how to do so"
   ]
  },
  {
   "cell_type": "code",
   "execution_count": null,
   "id": "8d9de7cc",
   "metadata": {},
   "outputs": [],
   "source": []
  },
  {
   "cell_type": "markdown",
   "id": "db36fc8b",
   "metadata": {},
   "source": [
    "Q4. Create a “/welcome” route to display the welcome message “Welcome to ABC Corporation” and a “/”\n",
    "route to show the following details:\n",
    "Company Name: ABC Corporation\n",
    "Location: India\n",
    "Contact Detail: 999-999-9999"
   ]
  },
  {
   "cell_type": "code",
   "execution_count": null,
   "id": "19919600",
   "metadata": {},
   "outputs": [
    {
     "name": "stdout",
     "output_type": "stream",
     "text": [
      " * Serving Flask app '__main__'\n",
      " * Debug mode: off\n"
     ]
    },
    {
     "name": "stderr",
     "output_type": "stream",
     "text": [
      "WARNING: This is a development server. Do not use it in a production deployment. Use a production WSGI server instead.\n",
      " * Running on http://127.0.0.1:5001\n",
      "Press CTRL+C to quit\n",
      "127.0.0.1 - - [04/Jun/2023 20:32:51] \"GET / HTTP/1.1\" 200 -\n",
      "127.0.0.1 - - [04/Jun/2023 20:32:52] \"GET /favicon.ico HTTP/1.1\" 404 -\n",
      "127.0.0.1 - - [04/Jun/2023 20:33:03] \"GET /welcome HTTP/1.1\" 200 -\n"
     ]
    }
   ],
   "source": [
    "from flask import Flask\n",
    "app2 = Flask(__name__)\n",
    "\n",
    "@app2.route(\"/\")\n",
    "def title():\n",
    "    return \"Company Name: ABC Corporation, Location: India, Contact Detail: 999-999-9999\"\n",
    "\n",
    "@app2.route(\"/welcome\")\n",
    "def welcome():\n",
    "    return \"Welcome to ABC Corporation\"\n",
    "\n",
    "if __name__ == \"__main__\":\n",
    "    app2.run(port=5001)"
   ]
  },
  {
   "cell_type": "code",
   "execution_count": null,
   "id": "638fee3d",
   "metadata": {},
   "outputs": [],
   "source": []
  },
  {
   "cell_type": "markdown",
   "id": "0bc3cb0a",
   "metadata": {},
   "source": [
    "Q3. What is App routing in Flask? Why do we use app routes?"
   ]
  },
  {
   "cell_type": "markdown",
   "id": "07066886",
   "metadata": {},
   "source": [
    "App routing in Flask refers to the process of mapping URLs (Uniform Resource Locators) to specific functions or views in a Flask application. It allows defining different routes or endpoints that correspond to specific actions or functionalities within the application.\n",
    "\n",
    "In Flask, app routes are defined using the @app.route() decorator, which associates a URL pattern with a Python function. The URL pattern can include placeholders for dynamic values, allowing for variable parts in the URL. When a user requests a specific URL, Flask matches the requested URL with the defined routes and invokes the associated function or view.\n",
    "\n",
    "We use app routes in Flask for several reasons:\n",
    "\n",
    "URL Mapping: App routes allow us to map specific URLs to corresponding functions or views within our Flask application. This enables the application to respond to different URL patterns and perform the appropriate actions or render the appropriate templates.\n",
    "\n",
    "Endpoint Customization: App routes provide the ability to customize the endpoints or URLs of our application. We can define meaningful and user-friendly URLs that represent specific resources or actions within the application.\n",
    "\n",
    "Modularizing the Application: By using app routes, we can modularize the application's functionality into different views or blueprints. Each route can be associated with a specific blueprint or view function, making the codebase more organized and maintainable.\n",
    "\n",
    "Handling HTTP Methods: App routes allow us to define routes that handle different HTTP methods such as GET, POST, PUT, DELETE, etc. This enables us to implement RESTful APIs or build web forms that handle form submissions.\n",
    "\n",
    "Parameter Handling: App routes can handle dynamic URL parameters by using placeholders in the URL pattern. This allows us to extract and use values from the URL within our view functions for further processing or rendering"
   ]
  },
  {
   "cell_type": "markdown",
   "id": "48ab157f",
   "metadata": {},
   "source": [
    "Q5. What function is used in Flask for URL Building? Write a Python code to demonstrate the working of the\n",
    "url_for() function."
   ]
  },
  {
   "cell_type": "markdown",
   "id": "bfef3e9a",
   "metadata": {},
   "source": [
    "In Flask, the url_for() function is used for URL building. It generates a URL for a specific function or endpoint based on its name. The url_for() function takes the name of the function as an argument and returns the corresponding URL.\n",
    "\n",
    "Here's a Python code example to demonstrate the usage of the url_for() function in Flask:"
   ]
  },
  {
   "cell_type": "code",
   "execution_count": null,
   "id": "e1a1c37c",
   "metadata": {},
   "outputs": [],
   "source": [
    "from flask import Flask, url_for\n",
    "app = Flask(__name__)\n",
    "\n",
    "@app.route(\"/\")\n",
    "def home():\n",
    "    return 'Welcome to the home page!'\n",
    "\n",
    "@app.route('/about')\n",
    "def about():\n",
    "    return 'This is the about page!'\n",
    "\n",
    "@app.route('/contact')\n",
    "def contact():\n",
    "    return 'You can reach us at the contact page.'\n",
    "\n",
    "if __name__ = \"__main__\":\n",
    "    #app.run(host=\"0.0.0.0\")\n",
    "    with app.test_request_context():\n",
    "        home_url = url_for('home')\n",
    "        about_url = url_for('about')\n",
    "        contact_url = url_for('contact')\n",
    "        \n",
    "        print(f'Home URL: {home_url}')\n",
    "        print(f'About URL: {about_url}')\n",
    "        print(f'Contact URL: {contact_url}')"
   ]
  },
  {
   "cell_type": "code",
   "execution_count": null,
   "id": "39ad6cff",
   "metadata": {},
   "outputs": [],
   "source": []
  },
  {
   "cell_type": "code",
   "execution_count": null,
   "id": "ea4fef6e",
   "metadata": {},
   "outputs": [],
   "source": []
  }
 ],
 "metadata": {
  "kernelspec": {
   "display_name": "Python 3 (ipykernel)",
   "language": "python",
   "name": "python3"
  },
  "language_info": {
   "codemirror_mode": {
    "name": "ipython",
    "version": 3
   },
   "file_extension": ".py",
   "mimetype": "text/x-python",
   "name": "python",
   "nbconvert_exporter": "python",
   "pygments_lexer": "ipython3",
   "version": "3.10.5"
  }
 },
 "nbformat": 4,
 "nbformat_minor": 5
}
