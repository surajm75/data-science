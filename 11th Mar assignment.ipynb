{
 "cells": [
  {
   "cell_type": "markdown",
   "id": "d36b748a",
   "metadata": {},
   "source": [
    "Q1: What is the difference between a t-test and a z-test? Provide an example scenario where you would\n",
    "use each type of test."
   ]
  },
  {
   "cell_type": "markdown",
   "id": "1a0fe80d",
   "metadata": {},
   "source": [
    "The main difference between a t-test and a z-test is the type of distribution used to calculate the test statistic. A z-test uses a standard normal distribution, while a t-test uses a student t-distribution.\n",
    "\n",
    "A z-test is used when the population standard deviation is known, and the sample size is large (typically n > 30). For example, a researcher might use a z-test to compare the mean heights of two populations of adult males, assuming that the standard deviation of heights in the population is known to be 2 inches.\n",
    "\n",
    "On the other hand, a t-test is used when the population standard deviation is unknown and must be estimated from the sample data, or when the sample size is small (typically n < 30). For example, a researcher might use a t-test to compare the mean test scores of two groups of students, where the population standard deviation is not known and the sample size is relatively small.\n",
    "\n",
    "Another scenario where a t-test might be used is when the data are not normally distributed, but the sample size is large enough (typically n > 30) for the central limit theorem to apply. In this case, the sample mean can be assumed to follow a normal distribution, and a t-test can be used to compare the means of two groups.\n",
    "\n",
    "In summary, a z-test is used when the population standard deviation is known and the sample size is large, while a t-test is used when the population standard deviation is unknown or the sample size is small."
   ]
  },
  {
   "cell_type": "markdown",
   "id": "9e9c0b86",
   "metadata": {},
   "source": [
    "Q2: Differentiate between one-tailed and two-tailed tests."
   ]
  },
  {
   "cell_type": "markdown",
   "id": "8e85ef99",
   "metadata": {},
   "source": [
    "In hypothesis testing, a one-tailed test is a statistical test that is used to determine whether a sample mean or proportion is significantly greater than or less than a hypothesized value in a specific direction, either positive or negative. A one-tailed test is also known as a directional test.\n",
    "\n",
    "For example, if a researcher wants to test the hypothesis that a new medicine increases the average lifespan of patients, they might use a one-tailed test with the alternative hypothesis that the mean lifespan of patients who receive the medicine is greater than the mean lifespan of patients who do not receive the medicine.\n",
    "\n",
    "On the other hand, a two-tailed test is a statistical test that is used to determine whether a sample mean or proportion is significantly different from a hypothesized value, regardless of the direction. A two-tailed test is also known as a non-directional test.\n",
    "\n",
    "For example, if a researcher wants to test the hypothesis that the mean height of a population is different from a certain value, they might use a two-tailed test with the alternative hypothesis that the mean height of the population is not equal to the hypothesized value.\n",
    "\n",
    "The choice between a one-tailed and two-tailed test depends on the research question and the directionality of the hypothesis. A one-tailed test is more appropriate when the research question is focused on a specific direction of effect, while a two-tailed test is more appropriate when the research question is more general and the direction of effect is not specified.\n",
    "\n",
    "It is important to choose the appropriate type of test to avoid errors in hypothesis testing and to ensure that the results are valid and reliable."
   ]
  },
  {
   "cell_type": "markdown",
   "id": "4709edb1",
   "metadata": {},
   "source": [
    "Q3: Explain the concept of Type 1 and Type 2 errors in hypothesis testing. Provide an example scenario for\n",
    "each type of error."
   ]
  },
  {
   "cell_type": "markdown",
   "id": "cded726a",
   "metadata": {},
   "source": [
    "In hypothesis testing, Type 1 and Type 2 errors are two types of errors that can occur when making a decision about a null hypothesis.\n",
    "\n",
    "A Type 1 error occurs when the null hypothesis is rejected even though it is actually true. In other words, a Type 1 error is a false positive result. The probability of making a Type 1 error is denoted by alpha (α), which is the level of significance chosen for the hypothesis test.\n",
    "\n",
    "An example scenario of a Type 1 error is a medical test that incorrectly diagnoses a healthy person as having a disease. In this case, the null hypothesis is that the person is healthy, and the alternative hypothesis is that the person has the disease. If the medical test has a high false positive rate, it might incorrectly reject the null hypothesis and diagnose a healthy person as having the disease.\n",
    "\n",
    "A Type 2 error occurs when the null hypothesis is not rejected even though it is false. In other words, a Type 2 error is a false negative result. The probability of making a Type 2 error is denoted by beta (β).\n",
    "\n",
    "An example scenario of a Type 2 error is a medical test that incorrectly diagnoses a person with a disease as healthy. In this case, the null hypothesis is that the person has the disease, and the alternative hypothesis is that the person is healthy. If the medical test has a high false negative rate, it might incorrectly fail to reject the null hypothesis and diagnose a person with the disease as healthy.\n",
    "\n",
    "It is important to balance the risk of Type 1 and Type 2 errors when conducting a hypothesis test. A smaller value of alpha reduces the risk of Type 1 errors but increases the risk of Type 2 errors, while a larger value of alpha increases the risk of Type 1 errors but decreases the risk of Type 2 errors. Similarly, a larger sample size or a more powerful statistical test can reduce the risk of both Type 1 and Type 2 errors."
   ]
  },
  {
   "cell_type": "markdown",
   "id": "b9f41c94",
   "metadata": {},
   "source": [
    "Q4: Explain Bayes's theorem with an example."
   ]
  },
  {
   "cell_type": "markdown",
   "id": "14da634c",
   "metadata": {},
   "source": [
    "Bayes's theorem is a mathematical formula that describes the probability of an event based on prior knowledge or evidence. It is commonly used in statistical inference and machine learning to update the probability of a hypothesis or model based on new data or observations.\n",
    "\n",
    "Bayes's theorem is expressed as:\n",
    "\n",
    "P(A|B) = (P(B|A) * P(A)) / P(B)\n",
    "\n",
    "where:\n",
    "- P(A|B) is the conditional probability of event A given event B has occurred\n",
    "- P(B|A) is the conditional probability of event B given event A has occurred\n",
    "- P(A) is the prior probability of event A before observing event B\n",
    "- P(B) is the probability of observing event B\n",
    "\n",
    "To illustrate Bayes's theorem, consider the following example:\n",
    "\n",
    "Suppose a factory produces two types of light bulbs: Type A and Type B. Assume that 75% of the bulbs produced are Type A and 25% are Type B. Also assume that 5% of Type A bulbs and 10% of Type B bulbs are defective. If a randomly selected bulb is found to be defective, what is the probability that it is a Type A bulb?\n",
    "\n",
    "Using Bayes's theorem, we can calculate the probability of the bulb being a Type A bulb given that it is defective:\n",
    "\n",
    "P(A|D) = (P(D|A) * P(A)) / P(D)\n",
    "\n",
    "where:\n",
    "- P(A|D) is the probability that the bulb is a Type A given that it is defective\n",
    "- P(D|A) is the probability that the bulb is defective given that it is a Type A\n",
    "- P(A) is the prior probability that the bulb is a Type A (0.75)\n",
    "- P(D) is the probability that the bulb is defective\n",
    "\n",
    "To calculate P(D), we can use the law of total probability:\n",
    "\n",
    "P(D) = P(D|A) * P(A) + P(D|B) * P(B)\n",
    "\n",
    "where:\n",
    "- P(D|A) is the probability that the bulb is defective given that it is a Type A (0.05)\n",
    "- P(D|B) is the probability that the bulb is defective given that it is a Type B (0.1)\n",
    "- P(B) is the prior probability that the bulb is a Type B (0.25)\n",
    "\n",
    "Substituting the values, we get:\n",
    "\n",
    "P(D) = (0.05 * 0.75) + (0.1 * 0.25) = 0.0625\n",
    "\n",
    "Now we can calculate P(A|D) using Bayes's theorem:\n",
    "\n",
    "P(A|D) = (0.05 * 0.75) / 0.0625 = 0.6\n",
    "\n",
    "Therefore, the probability that the defective bulb is a Type A bulb is 0.6 or 60%. This means that there is a higher probability that the defective bulb is a Type A bulb, even though Type B bulbs are more likely to be defective. This illustrates how Bayes's theorem can be used to update the probability of a hypothesis or model based on new evidence or data."
   ]
  },
  {
   "cell_type": "markdown",
   "id": "1392b0a3",
   "metadata": {},
   "source": [
    "Q5: What is a confidence interval? How to calculate the confidence interval, explain with an example."
   ]
  },
  {
   "cell_type": "markdown",
   "id": "73597547",
   "metadata": {},
   "source": [
    "A confidence interval is a range of values that is likely to contain the true population parameter with a specified level of confidence. It is a statistical measure of the precision and uncertainty of an estimate based on sample data.\n",
    "\n",
    "The confidence interval is calculated based on the sample mean, standard deviation, sample size, and the desired level of confidence. The level of confidence is typically set at 95% or 99%, which means that if we were to repeat the sampling process many times, 95% or 99% of the intervals would contain the true population parameter.\n",
    "\n",
    "To calculate a confidence interval, first compute the sample mean (x̄) and standard deviation (s) from the sample data. Then, determine the critical value of the t-distribution or z-distribution, depending on the sample size and whether the population standard deviation is known or unknown. The critical value represents the number of standard errors that corresponds to the desired level of confidence.\n",
    "\n",
    "The formula for calculating the confidence interval is:\n",
    "\n",
    "CI = x̄ ± (t/z) * (s/√n)\n",
    "\n",
    "where:\n",
    "- CI is the confidence interval\n",
    "- x̄ is the sample mean\n",
    "- t/z is the critical value of the t-distribution or z-distribution\n",
    "- s is the sample standard deviation\n",
    "- n is the sample size\n",
    "\n",
    "For example, suppose we want to calculate a 95% confidence interval for the mean weight of a sample of 50 apples. We weigh each apple and obtain a sample mean of 120 grams and a sample standard deviation of 10 grams. Since the population standard deviation is unknown and the sample size is greater than 30, we use the t-distribution with 49 degrees of freedom to determine the critical value. The critical value for a 95% confidence level is 2.009.\n",
    "\n",
    "Using the formula, we can calculate the confidence interval:\n",
    "\n",
    "CI = 120 ± (2.009) * (10/√50) = (116.4, 123.6)\n",
    "\n",
    "Therefore, we can say with 95% confidence that the true mean weight of apples in the population falls within the range of 116.4 grams to 123.6 grams. This means that if we were to repeat the sampling process many times, 95% of the confidence intervals would contain the true population mean."
   ]
  },
  {
   "cell_type": "markdown",
   "id": "37378b34",
   "metadata": {},
   "source": [
    "Q6. Use Bayes' Theorem to calculate the probability of an event occurring given prior knowledge of the\n",
    "event's probability and new evidence. Provide a sample problem and solution."
   ]
  },
  {
   "cell_type": "markdown",
   "id": "a52bef2a",
   "metadata": {},
   "source": [
    "Sure, here's an example problem and solution using Bayes' theorem:\n",
    "\n",
    "Problem:\n",
    "Suppose a factory produces two types of light bulbs: Type A and Type B. Assume that 75% of the bulbs produced are Type A and 25% are Type B. Also assume that 5% of Type A bulbs and 10% of Type B bulbs are defective. A bulb is randomly selected and tested, and it is found to be defective. What is the probability that it is a Type B bulb?\n",
    "\n",
    "Solution:\n",
    "Let D be the event that the bulb is defective and B be the event that the bulb is a Type B. We want to calculate the conditional probability P(B|D), the probability that the bulb is a Type B given that it is defective.\n",
    "\n",
    "According to Bayes' theorem, we have:\n",
    "\n",
    "P(B|D) = P(D|B) * P(B) / P(D)\n",
    "\n",
    "where P(D|B) is the probability that the bulb is defective given that it is a Type B, P(B) is the prior probability that the bulb is a Type B, and P(D) is the probability that the bulb is defective.\n",
    "\n",
    "We can calculate these probabilities as follows:\n",
    "\n",
    "P(D|B) = 0.10 (given in the problem)\n",
    "P(B) = 0.25 (given in the problem)\n",
    "\n",
    "To calculate P(D), we can use the law of total probability:\n",
    "\n",
    "P(D) = P(D|A) * P(A) + P(D|B) * P(B)\n",
    "\n",
    "where P(D|A) is the probability that the bulb is defective given that it is a Type A, and P(A) is the prior probability that the bulb is a Type A. We can calculate these probabilities as follows:\n",
    "\n",
    "P(D|A) = 0.05 (given in the problem)\n",
    "P(A) = 0.75 (given in the problem)\n",
    "\n",
    "Therefore, we have:\n",
    "\n",
    "P(D) = P(D|A) * P(A) + P(D|B) * P(B) = 0.05 * 0.75 + 0.10 * 0.25 = 0.0625\n",
    "\n",
    "Now we can substitute these values into Bayes' theorem to get:\n",
    "\n",
    "P(B|D) = P(D|B) * P(B) / P(D) = 0.10 * 0.25 / 0.0625 = 0.40\n",
    "\n",
    "Therefore, the probability that the defective bulb is a Type B bulb is 0.40 or 40%. This means that given the new evidence that the bulb is defective, there is a higher probability that the bulb is a Type B bulb, even though Type B bulbs are less common than Type A bulbs."
   ]
  },
  {
   "cell_type": "markdown",
   "id": "afacb9ca",
   "metadata": {},
   "source": [
    "Q7. Calculate the 95% confidence interval for a sample of data with a mean of 50 and a standard deviation\n",
    "of 5. Interpret the results."
   ]
  },
  {
   "cell_type": "markdown",
   "id": "3eeb6ea9",
   "metadata": {},
   "source": [
    "s_mean = 50, s_std = 5\n",
    "margin of error = z *sqrt(n)/s\n",
    "value of z for 0.975 area = 1.66 , \n",
    "\n",
    "for margin of error 1, n arrives to 96\n",
    "\n",
    "Therefore, the 95% confidence interval for a sample of data with a mean of 50 and a standard deviation of 5 is:\n",
    "\n",
    "CI = 50 ± (1.96 * 5 / √96) = (48.04, 51.96)"
   ]
  },
  {
   "cell_type": "markdown",
   "id": "196ac25f",
   "metadata": {},
   "source": [
    "Q8. What is the margin of error in a confidence interval? How does sample size affect the margin of error?\n",
    "Provide an example of a scenario where a larger sample size would result in a smaller margin of error."
   ]
  },
  {
   "cell_type": "markdown",
   "id": "c116f575",
   "metadata": {},
   "source": [
    "The margin of error is a measure of the precision of a confidence interval estimate. It is the amount by which the upper and lower bounds of the confidence interval may differ from the sample estimate due to sampling variability. The margin of error is typically expressed as a percentage or a range of values.\n",
    "\n",
    "A larger sample size generally results in a smaller margin of error because with more data points, the sample estimate is likely to be closer to the true population parameter. As the sample size increases, the sampling variability decreases, resulting in a more precise estimate.\n",
    "\n",
    "For example, suppose a political pollster wants to estimate the proportion of voters in a city who support a particular candidate. If the pollster takes a random sample of 100 voters and finds that 60% of them support the candidate, the estimated proportion of supporters is 0.6 and the margin of error is ± 10.6% at a 95% confidence level. This means that we can be 95% confident that the true proportion of supporters in the population falls within the range of 49.4% to 70.6%.\n",
    "\n",
    "If the pollster takes a larger sample of 1000 voters instead and finds that 60% of them support the candidate, the estimated proportion of supporters is still 0.6, but the margin of error is now ± 3.3% at a 95% confidence level. This means that we can be 95% confident that the true proportion of supporters in the population falls within the range of 56.7% to 63.3%.\n",
    "\n",
    "As we can see, the larger sample size results in a smaller margin of error and a narrower confidence interval. This is because the larger sample size reduces the sampling variability and increases the precision of the estimate.\n",
    "\n",
    "In summary, the margin of error is a measure of the precision of a confidence interval estimate, and a larger sample size generally results in a smaller margin of error due to reduced sampling variability."
   ]
  },
  {
   "cell_type": "markdown",
   "id": "d7afde02",
   "metadata": {},
   "source": [
    "Q9. Calculate the z-score for a data point with a value of 75, a population mean of 70, and a population\n",
    "standard deviation of 5. Interpret the results."
   ]
  },
  {
   "cell_type": "markdown",
   "id": "bd49e005",
   "metadata": {},
   "source": [
    "z-score = (75-70)/5 = 1\n",
    "Interpretation: The z-score measures the number of standard deviations a data point is from the population mean. In this case, the data point with a value of 75 is one standard deviation above the population mean of 70. This means that the data point is relatively high compared to the rest of the population. By knowing the z-score, we can calculate the probability of obtaining a value as extreme or more extreme than 75 in a normal distribution with mean 70 and standard deviation 5."
   ]
  },
  {
   "cell_type": "markdown",
   "id": "2443991c",
   "metadata": {},
   "source": [
    "Q10. In a study of the effectiveness of a new weight loss drug, a sample of 50 participants lost an average\n",
    "of 6 pounds with a standard deviation of 2.5 pounds. Conduct a hypothesis test to determine if the drug is\n",
    "significantly effective at a 95% confidence level using a t-test."
   ]
  },
  {
   "cell_type": "markdown",
   "id": "f8ea9669",
   "metadata": {},
   "source": [
    "n=50, s_mean = 0, s_std = 2.5, xi = 6\n",
    "\n",
    "Null hypothesis = the drug is not significantly effective.\n",
    "Alternate hypothesis = the drug is significantly effective\n",
    "t_stat from t-distribution for the df = 49 and two tailed test = 2.009 (critical value)\n",
    "\n",
    "t_stat from statical analysis = (6-0)*sqrt(50)/50 = 16.98 \n",
    "which is greater than 2.009\n",
    "Hence Reject the null hypothesis We can conclude that there is sufficient evidence to say that the new weight loss drug is significantly effective at a 95% confidence level."
   ]
  },
  {
   "cell_type": "markdown",
   "id": "dffdec1c",
   "metadata": {},
   "source": [
    "Q11. In a survey of 500 people, 65% reported being satisfied with their current job. Calculate the 95%\n",
    "confidence interval for the true proportion of people who are satisfied with their job."
   ]
  },
  {
   "cell_type": "markdown",
   "id": "4a7de44c",
   "metadata": {},
   "source": [
    "CI = p ± z√(p(1-p)/n)\n",
    "p = 0.65, z = 1.96 for 95% CI, n = 500\n",
    "after putting values p = 0.418\n",
    "\n",
    "CI = 0.65 ± 0.0418\n",
    "\n",
    "CI = (0.6082, 0.6918)\n",
    "\n",
    "We can say with 95% confidence that the true proportion of people who are satisfied with their job falls within this interval."
   ]
  },
  {
   "cell_type": "markdown",
   "id": "f16df4fb",
   "metadata": {},
   "source": [
    "Q12. A researcher is testing the effectiveness of two different teaching methods on student performance.\n",
    "Sample A has a mean score of 85 with a standard deviation of 6, while sample B has a mean score of 82\n",
    "with a standard deviation of 5. Conduct a hypothesis test to determine if the two teaching methods have a\n",
    "significant difference in student performance using a t-test with a significance level of 0.01."
   ]
  },
  {
   "cell_type": "code",
   "execution_count": 7,
   "id": "d1c1a6a7",
   "metadata": {},
   "outputs": [
    {
     "name": "stdout",
     "output_type": "stream",
     "text": [
      "0.0002932531987282503\n",
      "Reject the null hypothsesis and conclude that two teaching methods have not significant difference in student performance \n"
     ]
    }
   ],
   "source": [
    "import numpy as np\n",
    "from scipy import stats\n",
    "\n",
    "np.random.seed(0)\n",
    "\n",
    "s1 = np.random.normal(85,6,100)\n",
    "s2 = np.random.normal(82,5,100)\n",
    "\n",
    "t_stat, p_value = stats.ttest_ind(s1,s2)\n",
    "\n",
    "print(p_value)\n",
    "alpha = 0.01\n",
    "\n",
    "if p_value < alpha:\n",
    "    print(\"Reject the null hypothsesis and conclude that two teaching methods have not significant difference in student performance \")\n",
    "else:\n",
    "    print(\"failed to reject null hypothesis and conclude that two teaching methods have a significant difference in student performance\")\n"
   ]
  },
  {
   "cell_type": "markdown",
   "id": "5362d685",
   "metadata": {},
   "source": [
    "Q13. A population has a mean of 60 and a standard deviation of 8. A sample of 50 observations has a mean\n",
    "of 65. Calculate the 90% confidence interval for the true population mean."
   ]
  },
  {
   "cell_type": "markdown",
   "id": "696c72ba",
   "metadata": {},
   "source": [
    "p_mean = 60, p_std = 8, n = 50, s_mean = 65\n",
    "\n",
    "CI = x̄ ± (t/z) * (s/√n) = 65 ± (1.645) * (8/√50)\n",
    "\n",
    "CI = 65 ± 1.854\n",
    "\n",
    "CI = (63.146, 66.854)\n",
    "\n",
    "Therefore, the 90% confidence interval for the true population mean is (63.146, 66.854). We can say with 90% confidence that the true population mean falls within this interval."
   ]
  },
  {
   "cell_type": "markdown",
   "id": "e5853aa3",
   "metadata": {},
   "source": [
    "Q14. In a study of the effects of caffeine on reaction time, a sample of 30 participants had an average\n",
    "reaction time of 0.25 seconds with a standard deviation of 0.05 seconds. Conduct a hypothesis test to\n",
    "determine if the caffeine has a significant effect on reaction time at a 90% confidence level using a t-test."
   ]
  },
  {
   "cell_type": "markdown",
   "id": "dedbbaba",
   "metadata": {},
   "source": [
    "n=30, s_mean = 0 , s_std = 0.05, xi = 0.25\n",
    "\n",
    "Null hypothesis : caffeine has not significant effect on reaction time(s_mean = 0.25)\n",
    "Alternative hypothesis : caffeine has significant effect on reaction time (s_mean != 0.25)\n",
    "    \n",
    "critical value from t-ditribution for the df = 29 and 90% CI = 1.699\n",
    "\n",
    "t_stat from statical analysis = (0.25-0)*sqrt(30)/0.05 = 27.47\n",
    "\n",
    "Based on this result, we can reject the null hypothesis and conclude that caffeine has no significant effect on reaction time at a 90% confidence level using a t-test, as the calculated t-value is much greater than the critical value of 1.699 (which is obtained from a t-table with 29 degrees of freedom and a significance level of 0.10/2 = 0.05)."
   ]
  },
  {
   "cell_type": "code",
   "execution_count": null,
   "id": "ae5af93a",
   "metadata": {},
   "outputs": [],
   "source": []
  },
  {
   "cell_type": "code",
   "execution_count": null,
   "id": "964da764",
   "metadata": {},
   "outputs": [],
   "source": []
  }
 ],
 "metadata": {
  "kernelspec": {
   "display_name": "Python 3 (ipykernel)",
   "language": "python",
   "name": "python3"
  },
  "language_info": {
   "codemirror_mode": {
    "name": "ipython",
    "version": 3
   },
   "file_extension": ".py",
   "mimetype": "text/x-python",
   "name": "python",
   "nbconvert_exporter": "python",
   "pygments_lexer": "ipython3",
   "version": "3.10.5"
  }
 },
 "nbformat": 4,
 "nbformat_minor": 5
}
