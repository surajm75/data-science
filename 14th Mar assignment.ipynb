{
 "cells": [
  {
   "cell_type": "markdown",
   "id": "b7a612d2",
   "metadata": {},
   "source": [
    "Q1. Write a Python function that takes in two arrays of data and calculates the F-value for a variance ratio\n",
    "test. The function should return the F-value and the corresponding p-value for the test."
   ]
  },
  {
   "cell_type": "code",
   "execution_count": null,
   "id": "d6681c03",
   "metadata": {},
   "outputs": [],
   "source": [
    "import numpy as np\n",
    "import scipy.stats as stats\n",
    "\n",
    "def vr_test(x,y):\n",
    "    var_x = np.var(x,df=1)\n",
    "    var_y = np.var(y,df=1)\n",
    "    f,p = stats.fvar_test(x,y)\n",
    "    return f, p\n"
   ]
  },
  {
   "cell_type": "markdown",
   "id": "936bb8ef",
   "metadata": {},
   "source": [
    "Q2. Given a significance level of 0.05 and the degrees of freedom for the numerator and denominator of an\n",
    "F-distribution, write a Python function that returns the critical F-value for a two-tailed test."
   ]
  },
  {
   "cell_type": "code",
   "execution_count": 1,
   "id": "2c8cb79f",
   "metadata": {},
   "outputs": [],
   "source": [
    "import numpy as np\n",
    "import scipy.stats as stats\n",
    "\n",
    "def critical_F_value(dfn, dfd):\n",
    "    sig_level = 0.05\n",
    "    critical_value = stats.f.ppf(1-sig_level, dfn,dfd)\n",
    "    return critical_value\n"
   ]
  },
  {
   "cell_type": "markdown",
   "id": "69d6a436",
   "metadata": {},
   "source": [
    "Q3. Write a Python program that generates random samples from two normal distributions with known\n",
    "variances and uses an F-test to determine if the variances are equal. The program should output the F-\n",
    "value, degrees of freedom, and p-value for the test."
   ]
  },
  {
   "cell_type": "code",
   "execution_count": null,
   "id": "f8b8fa79",
   "metadata": {},
   "outputs": [],
   "source": [
    "import numpy as np\n",
    "import scipy.stats as stats\n",
    "\n",
    "np.random.seed(120)\n",
    "\n",
    "x = np.random.normal(loc=mean1, scale=np.sqrt(var1), size=n1)\n",
    "y = np.random.normal(loc=mean2, scale=np.sqrt(var2), size=n2)\n",
    "\n",
    "F,p = stats.fvar_test(x,y)\n",
    "\n",
    "df1 = n1-1\n",
    "df2 = n2-1\n",
    "\n",
    "print(f\"F-value:{F}\")\n",
    "print(f\"p_value:{p}\")\n"
   ]
  },
  {
   "cell_type": "code",
   "execution_count": null,
   "id": "4e035206",
   "metadata": {},
   "outputs": [],
   "source": [
    "Q4.The variances of two populations are known to be 10 and 15. A sample of 12 observations is taken from\n",
    "each population. Conduct an F-test at the 5% significance level to determine if the variances are\n",
    "significantly different."
   ]
  },
  {
   "cell_type": "code",
   "execution_count": 5,
   "id": "34bff9a3",
   "metadata": {},
   "outputs": [
    {
     "name": "stdout",
     "output_type": "stream",
     "text": [
      "f_test:0.6666666666666666\n",
      "critical_value:2.8179304699530863\n",
      "Failed to reject the null hypothesis and conclude variances are not significantly different.\n"
     ]
    }
   ],
   "source": [
    "import numpy as np\n",
    "import scipy.stats as stats\n",
    "var1 = 10\n",
    "var2 = 15\n",
    "f_test = var1/var2\n",
    "n1 = n2 = 12\n",
    "df1 = df2 = n1 -1\n",
    "sig_lvl = 0.05\n",
    "critical_value = stats.f.ppf(1-sig_lvl,dfn=df1, dfd = df2)\n",
    "print(f\"f_test:{f_test}\")\n",
    "print(f\"critical_value:{critical_value}\")\n",
    "\n",
    "if f_test>critical_value:\n",
    "    print(\"Reject the null hypothesis and conclude variances are significantly different.\")\n",
    "else:\n",
    "    print(\"Failed to reject the null hypothesis and conclude variances are not significantly different.\")"
   ]
  },
  {
   "cell_type": "markdown",
   "id": "7f1fb44b",
   "metadata": {},
   "source": [
    "Q5. A manufacturer claims that the variance of the diameter of a certain product is 0.005. A sample of 25\n",
    "products is taken, and the sample variance is found to be 0.006. Conduct an F-test at the 1% significance\n",
    "level to determine if the claim is justified."
   ]
  },
  {
   "cell_type": "code",
   "execution_count": 9,
   "id": "3a91e6a8",
   "metadata": {},
   "outputs": [
    {
     "name": "stdout",
     "output_type": "stream",
     "text": [
      "f_test:1.2\n",
      "critical_value:2.6590721043481556\n",
      "Failed to reject the null hypothesis claim is justified\n"
     ]
    }
   ],
   "source": [
    "import numpy as np\n",
    "import scipy.stats as stats\n",
    "var1 = 0.006\n",
    "var2 = 0.005\n",
    "f_test = var1/var2\n",
    "n1 = n2 = 25\n",
    "df1 = df2 = n1 -1\n",
    "sig_lvl = 0.01\n",
    "critical_value = stats.f.ppf(1-sig_lvl,dfn=df1, dfd = df2)\n",
    "print(f\"f_test:{f_test}\")\n",
    "print(f\"critical_value:{critical_value}\")\n",
    "\n",
    "if f_test>critical_value:\n",
    "    print(\"Reject the null hypothesis and claim is not justified  \")\n",
    "else:\n",
    "    print(\"Failed to reject the null and hypothesis claim is justified\")"
   ]
  },
  {
   "cell_type": "markdown",
   "id": "976fe21a",
   "metadata": {},
   "source": [
    "Q6. Write a Python function that takes in the degrees of freedom for the numerator and denominator of an\n",
    "F-distribution and calculates the mean and variance of the distribution. The function should return the\n",
    "mean and variance as a tuple."
   ]
  },
  {
   "cell_type": "code",
   "execution_count": 15,
   "id": "a486d0ab",
   "metadata": {},
   "outputs": [
    {
     "data": {
      "text/plain": [
       "(1.25, 1.3541666666666667)"
      ]
     },
     "execution_count": 15,
     "metadata": {},
     "output_type": "execute_result"
    }
   ],
   "source": [
    "import numpy as np\n",
    "import scipy.stats as stats\n",
    "\n",
    "def mean_var(df1,df2):\n",
    "    \n",
    "    if df2 > 2:\n",
    "        mean = df2 / (df2 - 2)\n",
    "    else:\n",
    "        mean = np.inf\n",
    "\n",
    "    # Calculate the variance of the F-distribution\n",
    "    if df2 > 4:\n",
    "        var = (2 * df2 ** 2 * (df1 + df2 - 2)) / (df1 * (df2 - 2) ** 2 * (df2 - 4))\n",
    "    else:\n",
    "        var = np.nan\n",
    "\n",
    "    return mean, var\n",
    "\n",
    "mean_var(5,10)"
   ]
  },
  {
   "cell_type": "markdown",
   "id": "36be7ef5",
   "metadata": {},
   "source": [
    "Q7. A random sample of 10 measurements is taken from a normal population with unknown variance. The\n",
    "sample variance is found to be 25. Another random sample of 15 measurements is taken from another\n",
    "normal population with unknown variance, and the sample variance is found to be 20. Conduct an F-test\n",
    "at the 10% significance level to determine if the variances are significantly different."
   ]
  },
  {
   "cell_type": "code",
   "execution_count": 16,
   "id": "414f4853",
   "metadata": {},
   "outputs": [
    {
     "name": "stdout",
     "output_type": "stream",
     "text": [
      "f_test:1.25\n",
      "critical_value:2.121954566976902\n",
      "Failed to reject the null hypothesis and conclude variances are not significantly different.\n"
     ]
    }
   ],
   "source": [
    "import numpy as np\n",
    "import scipy.stats as stats\n",
    "var1 = 25\n",
    "var2 = 20\n",
    "f_test = var1/var2\n",
    "n1 = 10\n",
    "n2 = 15\n",
    "df1 = n1 -1\n",
    "df2 = n2-1\n",
    "sig_lvl = 0.1\n",
    "critical_value = stats.f.ppf(1-sig_lvl,dfn=df1, dfd = df2)\n",
    "print(f\"f_test:{f_test}\")\n",
    "print(f\"critical_value:{critical_value}\")\n",
    "\n",
    "if f_test>critical_value:\n",
    "    print(\"Reject the null hypothesis and conclude variances are significantly different.\")\n",
    "else:\n",
    "    print(\"Failed to reject the null hypothesis and conclude variances are not significantly different.\")"
   ]
  },
  {
   "cell_type": "markdown",
   "id": "b4ee7c1b",
   "metadata": {},
   "source": [
    "Q8. The following data represent the waiting times in minutes at two different restaurants on a Saturday\n",
    "night: Restaurant A: 24, 25, 28, 23, 22, 20, 27; Restaurant B: 31, 33, 35, 30, 32, 36. Conduct an F-test at the 5%\n",
    "significance level to determine if the variances are significantly different."
   ]
  },
  {
   "cell_type": "code",
   "execution_count": 20,
   "id": "e12b68b5",
   "metadata": {},
   "outputs": [
    {
     "name": "stdout",
     "output_type": "stream",
     "text": [
      "f_test:1.496767651159843\n",
      "critical_value:4.950288068694318\n",
      "Failed to reject the null hypothesis and conclude variances are not significantly different.\n"
     ]
    }
   ],
   "source": [
    "import numpy as np\n",
    "import scipy.stats as stats\n",
    "s1 = [24, 25, 28, 23, 22, 20, 27]\n",
    "s2 = [31, 33, 35, 30, 32, 36]\n",
    "f_test = np.var(s1)/np.var(s2)\n",
    "df1 = len(s1) -1\n",
    "df2 = len(s2)-1\n",
    "sig_lvl = 0.05\n",
    "critical_value = stats.f.ppf(1-sig_lvl,dfn=df1, dfd = df2)\n",
    "print(f\"f_test:{f_test}\")\n",
    "print(f\"critical_value:{critical_value}\")\n",
    "\n",
    "if f_test>critical_value:\n",
    "    print(\"Reject the null hypothesis and conclude variances are significantly different.\")\n",
    "else:\n",
    "    print(\"Failed to reject the null hypothesis and conclude variances are not significantly different.\")"
   ]
  },
  {
   "cell_type": "markdown",
   "id": "91d838f5",
   "metadata": {},
   "source": [
    "Q9. The following data represent the test scores of two groups of students: Group A: 80, 85, 90, 92, 87, 83;\n",
    "Group B: 75, 78, 82, 79, 81, 84. Conduct an F-test at the 1% significance level to determine if the variances\n",
    "are significantly different."
   ]
  },
  {
   "cell_type": "code",
   "execution_count": 24,
   "id": "dd9a3141",
   "metadata": {},
   "outputs": [
    {
     "name": "stdout",
     "output_type": "stream",
     "text": [
      "f_test:1.9442622950819677\n",
      "critical_value:3.373753647039213\n",
      "Failed to reject the null hypothesis and conclude variances are not significantly different.\n"
     ]
    }
   ],
   "source": [
    "import numpy as np\n",
    "import scipy.stats as stats\n",
    "s1 = [80, 85, 90, 92, 87, 83]\n",
    "s2 = [75, 78, 82, 79, 81, 84]\n",
    "f_test = np.var(s1)/np.var(s2)\n",
    "df1 = len(s1) -1\n",
    "df2 = len(s2)-1\n",
    "sig_lvl = 0.01\n",
    "critical_value = stats.f.ppf(1-sig_lvl,dfn=df1, dfd = df2)\n",
    "print(f\"f_test:{f_test}\")\n",
    "print(f\"critical_value:{critical_value}\")\n",
    "\n",
    "if f_test>critical_value:\n",
    "    print(\"Reject the null hypothesis and conclude variances are significantly different.\")\n",
    "else:\n",
    "    print(\"Failed to reject the null hypothesis and conclude variances are not significantly different.\")"
   ]
  },
  {
   "cell_type": "code",
   "execution_count": null,
   "id": "7e7c1aaf",
   "metadata": {},
   "outputs": [],
   "source": []
  }
 ],
 "metadata": {
  "kernelspec": {
   "display_name": "Python 3 (ipykernel)",
   "language": "python",
   "name": "python3"
  },
  "language_info": {
   "codemirror_mode": {
    "name": "ipython",
    "version": 3
   },
   "file_extension": ".py",
   "mimetype": "text/x-python",
   "name": "python",
   "nbconvert_exporter": "python",
   "pygments_lexer": "ipython3",
   "version": "3.10.5"
  }
 },
 "nbformat": 4,
 "nbformat_minor": 5
}
