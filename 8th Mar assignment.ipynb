{
 "cells": [
  {
   "cell_type": "markdown",
   "id": "bdaff433",
   "metadata": {},
   "source": [
    "Q1. What is the Probability density function?"
   ]
  },
  {
   "cell_type": "markdown",
   "id": "f37fd282",
   "metadata": {},
   "source": [
    "In probability theory, a probability density function (PDF) is used to define the random variable's probability coming within a distinct range of values, as opposed to taking on any one value. The function explains the probability density function of normal distribution and how mean and deviation exists."
   ]
  },
  {
   "cell_type": "markdown",
   "id": "74f99ca7",
   "metadata": {},
   "source": [
    "Q2. What are the types of Probability distribution?"
   ]
  },
  {
   "cell_type": "markdown",
   "id": "1451618c",
   "metadata": {},
   "source": [
    "There are several types of probability distributions that are commonly used in probability theory and statistics. Some of the most commonly encountered types of probability distributions include:\n",
    "\n",
    "Discrete probability distributions: These distributions describe the probabilities associated with discrete random variables, which take on a finite or countable number of distinct values. Examples of discrete probability distributions include:\n",
    "Bernoulli distribution: A binary distribution that models a random experiment with only two possible outcomes, typically denoted as success or failure, with a fixed probability of success.\n",
    "\n",
    "Binomial distribution: A discrete distribution that models the number of successes in a fixed number of independent and identically distributed Bernoulli trials.\n",
    "\n",
    "Poisson distribution: A discrete distribution that models the number of events occurring in a fixed interval of time or space, such as the number of phone calls received at a call center in a given hour.\n",
    "\n",
    "Continuous probability distributions: These distributions describe the probabilities associated with continuous random variables, which can take on any value within a certain range. Examples of continuous probability distributions include:\n",
    "Normal distribution: A bell-shaped, symmetric distribution that is commonly used to model many natural phenomena, such as heights, weights, and IQ scores, due to its ubiquity in nature.\n",
    "\n",
    "Uniform distribution: A distribution where all values within a certain range are equally likely to occur, such as the roll of a fair die or the picking of a random number from a certain interval.\n",
    "\n",
    "Exponential distribution: A distribution that models the time between events occurring in a Poisson process, such as the time between arrivals of customers at a store or the time between failures of a machine.\n",
    "\n",
    "Gamma distribution: A versatile distribution that can model a wide range of phenomena, including wait times, income distributions, and queueing systems."
   ]
  },
  {
   "cell_type": "markdown",
   "id": "8a677d2f",
   "metadata": {},
   "source": [
    "Q3. Write a Python function to calculate the probability density function of a normal distribution with\n",
    "given mean and standard deviation at a given point."
   ]
  },
  {
   "cell_type": "code",
   "execution_count": 6,
   "id": "ad88e84a",
   "metadata": {},
   "outputs": [
    {
     "name": "stdout",
     "output_type": "stream",
     "text": [
      "PDF value at x = 0.5 is 0.3520653267642995\n"
     ]
    }
   ],
   "source": [
    "import scipy.stats as stats\n",
    "\n",
    "def normal_pdf(x, mean, std_dev):\n",
    "    \"\"\"\n",
    "    Calculate the probability density function (PDF) of a normal distribution at a given point.\n",
    "    \n",
    "    Args:\n",
    "        x (float): The point at which the PDF is to be calculated.\n",
    "        mean (float): The mean of the normal distribution.\n",
    "        std_dev (float): The standard deviation of the normal distribution.\n",
    "        \n",
    "    Returns:\n",
    "        float: The PDF value at the given point.\n",
    "    \"\"\"\n",
    "    pdf = stats.norm.pdf(x, loc=mean, scale=std_dev)\n",
    "    return pdf\n",
    "\n",
    "mean = 0\n",
    "std_dev = 1\n",
    "x = 0.5\n",
    "\n",
    "pdf_value = normal_pdf(x, mean, std_dev)\n",
    "print(\"PDF value at x =\", x, \"is\", pdf_value)"
   ]
  },
  {
   "cell_type": "markdown",
   "id": "f3d94384",
   "metadata": {},
   "source": [
    "Q4. What are the properties of Binomial distribution? Give two examples of events where binomial\n",
    "distribution can be applied."
   ]
  },
  {
   "cell_type": "markdown",
   "id": "bb34fcd9",
   "metadata": {},
   "source": [
    "The Binomial distribution is a discrete probability distribution that models the number of successes in a fixed number of independent and identically distributed (i.i.d) Bernoulli trials. Here are the properties of the Binomial distribution:\n",
    "\n",
    "Fixed number of trials: The Binomial distribution is used to model a fixed number of trials, denoted by 'n', where each trial is independent of the others.\n",
    "\n",
    "Two outcomes: Each trial in a Binomial distribution can have only two possible outcomes, usually referred to as \"success\" and \"failure\". These outcomes are mutually exclusive and exhaustive.\n",
    "\n",
    "Constant probability of success: The probability of success, denoted by 'p', remains constant for each trial. The probability of failure, denoted by 'q', is equal to 1-p.\n",
    "\n",
    "Independent trials: Each trial in a Binomial distribution is assumed to be independent of the others, meaning that the outcome of one trial does not affect the outcome of the other trials.\n",
    "\n",
    "Fixed number of successes: The Binomial distribution models the number of successes in 'n' trials. The random variable representing the number of successes follows a Binomial distribution.\n",
    "\n",
    "Examples of events where Binomial distribution can be applied are:\n",
    "\n",
    "Coin flipping: Consider flipping a fair coin 'n' times and counting the number of heads obtained. Each flip is a Bernoulli trial with two possible outcomes (heads or tails), and the probability of obtaining heads is constant for each flip. The number of heads obtained in 'n' flips follows a Binomial distribution.\n",
    "\n",
    "Quality control: In a manufacturing process, a quality control team inspects 'n' items and counts the number of defective items. Each item being inspected can be classified as defective or non-defective, and the probability of an item being defective remains constant. The number of defective items in 'n' inspections follows a Binomial distribution."
   ]
  },
  {
   "cell_type": "markdown",
   "id": "aa31789c",
   "metadata": {},
   "source": [
    "Q5. Generate a random sample of size 1000 from a binomial distribution with probability of success 0.4\n",
    "and plot a histogram of the results using matplotlib."
   ]
  },
  {
   "cell_type": "code",
   "execution_count": 15,
   "id": "2352c5da",
   "metadata": {},
   "outputs": [
    {
     "data": {
      "image/png": "[encoded data removed]",
      "text/plain": [
       "<Figure size 640x480 with 1 Axes>"
      ]
     },
     "metadata": {},
     "output_type": "display_data"
    }
   ],
   "source": [
    "import matplotlib.pyplot as plt\n",
    "import numpy as np\n",
    "np.random.seed(130)\n",
    "n=1000\n",
    "p=0.4\n",
    "bio_sam = np.random.binomial(n,p,size=1000)\n",
    "plt.hist(bio_sam,bins=np.arange(0,n+1),density=True,alpha=0.75)\n",
    "plt.xlabel(\"Number of successes\")\n",
    "plt.ylabel(\"Probability\")\n",
    "plt.title('Binomial Distribution with n=1000 and p=0.4')\n",
    "plt.grid(True)\n",
    "plt.show()"
   ]
  },
  {
   "cell_type": "markdown",
   "id": "0a06323c",
   "metadata": {},
   "source": [
    "Q6. Write a Python function to calculate the cumulative distribution function of a Poisson distribution\n",
    "with given mean at a given point."
   ]
  },
  {
   "cell_type": "code",
   "execution_count": 18,
   "id": "5dd169ce",
   "metadata": {},
   "outputs": [
    {
     "data": {
      "text/plain": [
       "0.32084719886213414"
      ]
     },
     "execution_count": 18,
     "metadata": {},
     "output_type": "execute_result"
    }
   ],
   "source": [
    "from scipy.stats import poisson\n",
    "def poisson_cdf(m,x):\n",
    "    cdf = poisson.cdf(x,mu = m)\n",
    "    return cdf\n",
    "\n",
    "m = 3.5\n",
    "x = 2\n",
    "poisson_cdf(m,x)"
   ]
  },
  {
   "cell_type": "markdown",
   "id": "9bf7b5dd",
   "metadata": {},
   "source": [
    "Q7. How Binomial distribution different from Poisson distribution?"
   ]
  },
  {
   "cell_type": "markdown",
   "id": "dd88f800",
   "metadata": {},
   "source": [
    "The binomial distribution and the Poisson distribution are two different probability distributions commonly used in statistics and probability theory. Here are some key differences between them:\n",
    "\n",
    "Definition: The binomial distribution models the number of successes in a fixed number of trials, each with the same probability of success. It is discrete and typically used when there are a fixed number of trials with only two possible outcomes (success or failure). The Poisson distribution, on the other hand, models the number of events occurring in a fixed interval of time or space, with the assumption that the events occur independently and with a constant average rate.\n",
    "\n",
    "Assumptions: The binomial distribution assumes that the trials are independent and identically distributed (i.i.d.), meaning the probability of success remains constant across all trials. The Poisson distribution assumes that events occur independently and with a constant average rate, and events are rare or infrequent.\n",
    "\n",
    "Parameters: The binomial distribution is defined by two parameters: the number of trials (denoted as \"n\") and the probability of success in a single trial (denoted as \"p\"). The Poisson distribution, on the other hand, is defined by a single parameter: the average rate of events (denoted as \"λ\").\n",
    "\n",
    "Shape: The shape of the binomial distribution is typically bell-shaped and symmetric when the number of trials is large, resembling a normal distribution. The shape of the Poisson distribution, on the other hand, is typically skewed to the right (positively skewed) due to its discrete nature and the assumption of rare events.\n",
    "\n",
    "Range: The binomial distribution is defined for a discrete range of values, usually from 0 to n, where n is the number of trials. The Poisson distribution, on the other hand, is defined for a discrete range of non-negative integer values, from 0 to infinity.\n",
    "\n",
    "Application: The binomial distribution is often used when there are only two possible outcomes (e.g., success/failure, yes/no), and we are interested in the number of successes in a fixed number of trials. It is commonly used in problems such as calculating the probability of getting a certain number of heads in a fixed number of coin tosses, or the probability of passing a certain number of exams out of a fixed number of attempts. The Poisson distribution, on the other hand, is commonly used in problems where events occur randomly over time or space, such as modeling the number of customer arrivals at a store in a given hour or the number of phone calls received at a call center in a given day."
   ]
  },
  {
   "cell_type": "markdown",
   "id": "c026ae0a",
   "metadata": {},
   "source": [
    "Q8. Generate a random sample of size 1000 from a Poisson distribution with mean 5 and calculate the\n",
    "sample mean and variance."
   ]
  },
  {
   "cell_type": "code",
   "execution_count": 30,
   "id": "c4481587",
   "metadata": {},
   "outputs": [
    {
     "name": "stdout",
     "output_type": "stream",
     "text": [
      "the sample mean of random sample of size 1000 from a Poisson distribution with mean 5 is 4.935\n",
      "the sample variance of random sample of size 1000 from a Poisson distribution with mean 5 is 4.676774999999999\n"
     ]
    }
   ],
   "source": [
    "import numpy as np\n",
    "np.random.seed(100)\n",
    "m = 5\n",
    "s = 1000\n",
    "sample = np.random.poisson(m, size =s)\n",
    "sample_mean = np.mean(sample)\n",
    "sample_var = np.var(sample)\n",
    "print(f\"the sample mean of random sample of size 1000 from a Poisson distribution with mean 5 is {sample_mean}\")\n",
    "print(f\"the sample variance of random sample of size 1000 from a Poisson distribution with mean 5 is {sample_var}\")"
   ]
  },
  {
   "cell_type": "markdown",
   "id": "2dd238b6",
   "metadata": {},
   "source": [
    "Q9. How mean and variance are related in Binomial distribution and Poisson distribution?"
   ]
  },
  {
   "cell_type": "markdown",
   "id": "8fa937ef",
   "metadata": {},
   "source": [
    "The mean and variance are related in both the binomial distribution and the Poisson distribution in the following ways:\n",
    "\n",
    "Binomial distribution:\n",
    "In a binomial distribution with parameters \"n\" (number of trials) and \"p\" (probability of success in a single trial), the mean (often denoted as \"μ\") is given by the product of the number of trials and the probability of success in a single trial, i.e., μ = np. The variance (often denoted as \"σ^2\") is given by the product of the number of trials, the probability of failure in a single trial (1-p), and the probability of success in a single trial (p), i.e., σ^2 = np(1-p).\n",
    "\n",
    "Poisson distribution:\n",
    "In a Poisson distribution with parameter \"λ\" (average rate of events), the mean (also denoted as \"μ\") and the variance (denoted as \"σ^2\") are both equal to the average rate of events, i.e., μ = σ^2 = λ.\n",
    "\n",
    "In both cases, the mean represents the expected value or average of the distribution, while the variance represents the measure of how the values in the distribution are spread out around the mean. In other words, the variance quantifies the variability or dispersion of the distribution."
   ]
  },
  {
   "cell_type": "markdown",
   "id": "142044f4",
   "metadata": {},
   "source": [
    "Q10. In normal distribution with respect to mean position, where does the least frequent data appear?"
   ]
  },
  {
   "cell_type": "markdown",
   "id": "4ae75dc3",
   "metadata": {},
   "source": [
    "In a normal distribution, the data is symmetrically distributed around the mean, with the mean being the highest point of the distribution. The tails of the distribution represent the less probable values, as they are farther away from the mean. The tails extend indefinitely in both directions, but the probability of data points occurring in the tails decreases rapidly as we move away from the mean.\n",
    "\n",
    "The least frequent data points are found in the tails of the normal distribution, which are located at the extreme ends of the distribution, farthest away from the mean. These data points are associated with low probabilities, indicating that they occur with low frequency compared to the data points near the mean. The exact position of the least frequent data points in a normal distribution depends on the specific characteristics of the distribution, such as the mean and standard deviation."
   ]
  },
  {
   "cell_type": "code",
   "execution_count": null,
   "id": "528b672b",
   "metadata": {},
   "outputs": [],
   "source": []
  }
 ],
 "metadata": {
  "kernelspec": {
   "display_name": "Python 3 (ipykernel)",
   "language": "python",
   "name": "python3"
  },
  "language_info": {
   "codemirror_mode": {
    "name": "ipython",
    "version": 3
   },
   "file_extension": ".py",
   "mimetype": "text/x-python",
   "name": "python",
   "nbconvert_exporter": "python",
   "pygments_lexer": "ipython3",
   "version": "3.10.5"
  }
 },
 "nbformat": 4,
 "nbformat_minor": 5
}
