{
 "cells": [
  {
   "cell_type": "markdown",
   "id": "3a5740e7",
   "metadata": {},
   "source": [
    "Q1. What are the three measures of central tendency?"
   ]
  },
  {
   "cell_type": "markdown",
   "id": "1143566f",
   "metadata": {},
   "source": [
    "Mean, Median and Mode"
   ]
  },
  {
   "cell_type": "markdown",
   "id": "90d8d653",
   "metadata": {},
   "source": [
    "Q2. What is the difference between the mean, median, and mode? How are they used to measure the\n",
    "central tendency of a dataset?"
   ]
  },
  {
   "cell_type": "markdown",
   "id": "e4c72ae6",
   "metadata": {},
   "source": [
    "Mean, median, and mode are statistical measures used to describe the central tendency of a dataset, which is a way of summarizing the data and understanding its typical or central value.\n",
    "\n",
    "Mean: The mean, also known as the average, is the sum of all the values in a dataset divided by the number of values in the dataset. It is calculated by adding up all the values and then dividing by the total number of values. The formula for the mean is:\n",
    "Mean = (Sum of all values) / (Total number of values)\n",
    "\n",
    "The mean is sensitive to extreme values, or outliers, in the dataset, as it takes into account all values in the dataset equally.\n",
    "\n",
    "Median: The median is the middle value in a dataset when the values are arranged in ascending or descending order. If there is an odd number of values, the median is the middle value. If there is an even number of values, the median is the average of the two middle values. The median is not affected by extreme values or outliers in the dataset, as it only depends on the middle values.\n",
    "\n",
    "Mode: The mode is the value that appears most frequently in a dataset. It is the value that occurs with the highest frequency. A dataset can have one mode (unimodal) or more than one mode (multimodal) if multiple values have the same highest frequency. The mode is useful for identifying the most common value or category in a dataset.\n",
    "\n",
    "In summary, the mean is the average value, the median is the middle value, and the mode is the most frequently occurring value in a dataset. The mean is affected by extreme values, while the median and mode are not. These measures can be used together to gain a more comprehensive understanding of the central tendency of a dataset and to describe the distribution of data points in a dataset."
   ]
  },
  {
   "cell_type": "markdown",
   "id": "ea2f0772",
   "metadata": {},
   "source": [
    "Q3. Measure the three measures of central tendency for the given height data:\n",
    "[178,177,176,177,178.2,178,175,179,180,175,178.9,176.2,177,172.5,178,176.5]"
   ]
  },
  {
   "cell_type": "code",
   "execution_count": 8,
   "id": "9e393e88",
   "metadata": {},
   "outputs": [
    {
     "name": "stdout",
     "output_type": "stream",
     "text": [
      "The mean value is 177.01875\n",
      "The median value is 177.0\n",
      "The mode value is ModeResult(mode=array([177.]), count=array([3]))\n"
     ]
    },
    {
     "name": "stderr",
     "output_type": "stream",
     "text": [
      "C:\\Users\\Suraj Mishra\\AppData\\Local\\Temp\\ipykernel_29488\\2974479396.py:9: FutureWarning: Unlike other reduction functions (e.g. `skew`, `kurtosis`), the default behavior of `mode` typically preserves the axis it acts along. In SciPy 1.11.0, this behavior will change: the default value of `keepdims` will become False, the `axis` over which the statistic is taken will be eliminated, and the value None will no longer be accepted. Set `keepdims` to True or False to avoid this warning.\n",
      "  print(f\"The mode value is {st.mode(mode)}\")\n"
     ]
    }
   ],
   "source": [
    "lst = [178,177,176,177,178.2,178,175,179,180,175,178.9,176.2,177,172.5,178,176.5]\n",
    "import numpy as np\n",
    "mean = np.mean(lst)\n",
    "print(f\"The mean value is {mean}\")\n",
    "median = np.median(lst)\n",
    "print(f\"The median value is {median}\")\n",
    "from scipy import stats as st\n",
    "mode = np.array(lst)\n",
    "print(f\"The mode value is {st.mode(mode)}\")"
   ]
  },
  {
   "cell_type": "markdown",
   "id": "3075eafc",
   "metadata": {},
   "source": [
    "Q4. Find the standard deviation for the given data:\n",
    "[178,177,176,177,178.2,178,175,179,180,175,178.9,176.2,177,172.5,178,176.5]"
   ]
  },
  {
   "cell_type": "code",
   "execution_count": 10,
   "id": "42150965",
   "metadata": {},
   "outputs": [
    {
     "name": "stdout",
     "output_type": "stream",
     "text": [
      "the standard deviation for the given data is 1.7885814036548633\n"
     ]
    }
   ],
   "source": [
    "import numpy as np\n",
    "lst = [178,177,176,177,178.2,178,175,179,180,175,178.9,176.2,177,172.5,178,176.5]\n",
    "std = np.std(lst)\n",
    "print(f\"the standard deviation for the given data is {std}\")"
   ]
  },
  {
   "cell_type": "code",
   "execution_count": null,
   "id": "da8d5bdc",
   "metadata": {},
   "outputs": [],
   "source": [
    "Q5. How are measures of dispersion such as range, variance, and standard deviation used to describe\n",
    "the spread of a dataset? Provide an example."
   ]
  },
  {
   "cell_type": "markdown",
   "id": "499e8637",
   "metadata": {},
   "source": [
    "Measures of dispersion, such as range, variance, and standard deviation, are used to describe the spread or variability of data points in a dataset. They provide information about how the data points are distributed around the central tendency (mean, median, or mode) and help quantify the amount of variability or dispersion in the dataset.\n",
    "\n",
    "Range: The range is the difference between the maximum and minimum values in a dataset. It gives an idea of the spread of data points from the lowest value to the highest value. For example, consider a dataset of exam scores for a class of students: 75, 80, 85, 90, and 95. The range of this dataset is 95 - 75 = 20, which indicates that the scores spread over a range of 20 points.\n",
    "\n",
    "Variance: Variance is a measure of how much the values in a dataset deviate from the mean. It is calculated by taking the average of the squared differences between each data point and the mean of the dataset. A higher variance indicates a greater spread or variability in the data points. For example, consider a dataset of heights (in inches) of a group of individuals: 60, 62, 65, 68, and 70. The mean height is 65 inches. The variance of this dataset, calculated using the formula for variance, is 16.8, which indicates that the heights deviate on average by 16.8 inches from the mean.\n",
    "\n",
    "Standard Deviation: The standard deviation is another measure of the spread or dispersion of data points from the mean. It is the square root of the variance and has the same unit of measurement as the data points. A higher standard deviation indicates a greater variability in the data points. Using the same example of the dataset of heights mentioned above, the standard deviation is approximately 4.1 inches, which indicates that the heights deviate on average by 4.1 inches from the mean."
   ]
  },
  {
   "cell_type": "markdown",
   "id": "d610196e",
   "metadata": {},
   "source": [
    "Q6. What is a Venn diagram?"
   ]
  },
  {
   "cell_type": "markdown",
   "id": "c1a02475",
   "metadata": {},
   "source": [
    "A Venn diagram is a graphical representation used to depict the relationships and similarities between different sets or groups of data. It consists of overlapping circles or ellipses, where each circle or ellipse represents a set, and the overlapping regions represent the intersection or common elements between the sets. Venn diagrams are widely used in mathematics, logic, statistics, and various fields of study to visually illustrate the relationships and overlaps among different sets of data."
   ]
  },
  {
   "cell_type": "markdown",
   "id": "c57b6463",
   "metadata": {},
   "source": [
    "Q7. For the two given sets A = (2,3,4,5,6,7) & B = (0,2,6,8,10). Find:\n",
    "(i) A intersection B\n",
    "(ii) A ⋃ B"
   ]
  },
  {
   "cell_type": "code",
   "execution_count": 14,
   "id": "4d2c0e43",
   "metadata": {},
   "outputs": [
    {
     "name": "stdout",
     "output_type": "stream",
     "text": [
      "the union of two sets is {0, 2, 3, 4, 5, 6, 7, 8, 10}\n",
      "the intersection of two sets is {2, 6}\n"
     ]
    }
   ],
   "source": [
    "setA = {2,3,4,5,6,7}\n",
    "setB = {0,2,6,8,10}\n",
    "union = setA.union(setB)\n",
    "intersection = setA.intersection(setB)\n",
    "print(f\"the union of two sets is {union}\")\n",
    "print(f\"the intersection of two sets is {intersection}\")"
   ]
  },
  {
   "cell_type": "markdown",
   "id": "4b9758ed",
   "metadata": {},
   "source": [
    "Q8. What do you understand about skewness in data?"
   ]
  },
  {
   "cell_type": "markdown",
   "id": "a072b877",
   "metadata": {},
   "source": [
    "Skewness, in statistics, is the degree of asymmetry observed in a probability distribution. Distributions can exhibit right (positive) skewness or left (negative) skewness to varying degrees. A normal distribution (bell curve) exhibits zero skewness."
   ]
  },
  {
   "cell_type": "markdown",
   "id": "ab7898e1",
   "metadata": {},
   "source": [
    "Q9. If a data is right skewed then what will be the position of median with respect to mean?"
   ]
  },
  {
   "cell_type": "markdown",
   "id": "848a195b",
   "metadata": {},
   "source": [
    "median will be lesser than mean."
   ]
  },
  {
   "cell_type": "markdown",
   "id": "6a921e4b",
   "metadata": {},
   "source": [
    "Q10. Explain the difference between covariance and correlation. How are these measures used in\n",
    "statistical analysis?"
   ]
  },
  {
   "cell_type": "markdown",
   "id": "732edcf6",
   "metadata": {},
   "source": [
    "Covariance and correlation are both statistical measures that describe the relationship between two variables, but they differ in their interpretation and scale.\n",
    "\n",
    "Covariance: Covariance measures the extent to which two variables change together. It is a measure of how much two variables vary together in a linear manner. A positive covariance indicates that as one variable increases, the other variable tends to increase as well, while a negative covariance indicates that as one variable increases, the other variable tends to decrease. However, covariance does not tell us about the strength or direction of the relationship between the variables in a standardized manner, and its value can be affected by the scales of the variables.\n",
    "\n",
    "Correlation: Correlation, on the other hand, measures the strength and direction of the linear relationship between two variables in a standardized manner, and ranges between -1 and 1. A correlation coefficient of 1 indicates a perfect positive linear relationship, -1 indicates a perfect negative linear relationship, and 0 indicates no linear relationship. Correlation takes into account both the strength and direction of the relationship between the variables, and is not affected by the scales of the variables.\n",
    "\n",
    "Both covariance and correlation are used in statistical analysis to examine the relationship between two variables. They are commonly used in fields such as finance, economics, social sciences, and data analysis. Some common uses of covariance and correlation in statistical analysis include:\n",
    "\n",
    "Relationship assessment: Covariance and correlation can be used to assess the strength and direction of the relationship between two variables. Positive covariance or correlation indicates a positive relationship, where the variables tend to increase or decrease together. Negative covariance or correlation indicates a negative relationship, where one variable tends to increase while the other decreases.\n",
    "\n",
    "Prediction and modeling: Covariance and correlation can be used to build predictive models and make forecasts. For example, in regression analysis, covariance and correlation can help determine the strength and direction of the relationship between the dependent variable and one or more independent variables, and use that information to build predictive models.\n",
    "\n",
    "Portfolio management: In finance, covariance and correlation are used to assess the diversification benefits of a portfolio. Covariance and correlation between different assets in a portfolio can help investors understand how the assets move in relation to each other, and can inform decisions about asset allocation and risk management.\n",
    "\n",
    "Data validation: Covariance and correlation can be used to validate data and identify potential errors. Large covariance or correlation values may indicate the presence of outliers or data entry errors, and can be used to identify data points that may require further investigation."
   ]
  },
  {
   "cell_type": "markdown",
   "id": "10643a44",
   "metadata": {},
   "source": [
    "Q11. What is the formula for calculating the sample mean? Provide an example calculation for a\n",
    "dataset."
   ]
  },
  {
   "cell_type": "markdown",
   "id": "8c397a80",
   "metadata": {},
   "source": [
    "The formula for calculating the sample mean, also known as the arithmetic mean, is:\n",
    "\n",
    "Sample Mean = (sum of all data points) / (number of data points)\n",
    "\n",
    "Mathematically, it can be expressed as:\n",
    "\n",
    "Sample Mean = Σxi / n\n",
    "\n",
    "Where:\n",
    "\n",
    "Σxi represents the sum of all the data points in the dataset.\n",
    "n represents the number of data points in the dataset.\n",
    "To provide an example calculation, let's consider a dataset of 5 numbers: 10, 15, 20, 25, 30.\n",
    "\n",
    "Step 1: Add up all the data points in the dataset:\n",
    "10 + 15 + 20 + 25 + 30 = 100\n",
    "\n",
    "Step 2: Count the number of data points in the dataset:\n",
    "n = 5\n",
    "\n",
    "Step 3: Apply the formula for sample mean:\n",
    "Sample Mean = Σxi / n = 100 / 5 = 20\n",
    "\n",
    "So, the sample mean of the dataset is 20.\n",
    "\n",
    "\n",
    "\n"
   ]
  },
  {
   "cell_type": "markdown",
   "id": "d50d71ab",
   "metadata": {},
   "source": [
    "Q12. For a normal distribution data what is the relationship between its measure of central tendency?"
   ]
  },
  {
   "cell_type": "markdown",
   "id": "80c12d6e",
   "metadata": {},
   "source": [
    "Mean, median and mode will be equal to each other in normal distribution."
   ]
  },
  {
   "cell_type": "markdown",
   "id": "cd38c143",
   "metadata": {},
   "source": [
    "Q13. How is covariance different from correlation?"
   ]
  },
  {
   "cell_type": "markdown",
   "id": "d87288f9",
   "metadata": {},
   "source": [
    "Covariance and correlation are both measures of the relationship between two variables in a dataset, but they have some key differences:\n",
    "\n",
    "Definition: Covariance measures the extent to which two variables change together. It indicates whether the variables tend to increase or decrease in value at the same time. A positive covariance indicates that the variables tend to increase together, while a negative covariance indicates that one variable tends to increase when the other decreases. On the other hand, correlation measures the strength and direction of the linear relationship between two variables. It quantifies how closely the variables are related and ranges from -1 to 1, where -1 indicates a perfect negative linear relationship, 1 indicates a perfect positive linear relationship, and 0 indicates no linear relationship.\n",
    "\n",
    "Scale: Covariance is not scaled, which means its value is influenced by the units of measurement of the variables. For example, if one variable is measured in dollars and the other in kilograms, the covariance would be different than if both variables were measured in the same unit. On the other hand, correlation is a scaled measure that is always between -1 and 1, regardless of the units of measurement of the variables. This makes correlation a more standardized measure of the strength of the relationship between two variables.\n",
    "\n",
    "Interpretation: Covariance by itself does not provide clear interpretation of the strength or direction of the relationship between two variables. A positive covariance could indicate a strong or weak relationship depending on the magnitude of the values, and a negative covariance could indicate a strong or weak relationship as well. Correlation, on the other hand, provides a standardized measure that allows for easy interpretation of the strength and direction of the linear relationship between two variables. A correlation coefficient close to 1 or -1 indicates a strong linear relationship, while a coefficient close to 0 indicates little or no linear relationship.\n",
    "\n",
    "Properties: Covariance is not bounded, which means it can take on any value, positive or negative. Correlation, on the other hand, is bounded between -1 and 1. Covariance can also be influenced by outliers, as it is sensitive to extreme values in the dataset. Correlation, being a scaled measure, is less influenced by outliers and provides a more robust measure of the linear relationship between variables."
   ]
  },
  {
   "cell_type": "markdown",
   "id": "8ad6a161",
   "metadata": {},
   "source": [
    "Q14. How do outliers affect measures of central tendency and dispersion? Provide an example."
   ]
  },
  {
   "cell_type": "markdown",
   "id": "a453d0c4",
   "metadata": {},
   "source": [
    "Outliers are data points that significantly deviate from the rest of the data in a dataset. They can have a significant impact on measures of central tendency and dispersion, such as the mean, median, mode, range, variance, and standard deviation.\n",
    "\n",
    "Measures of Central Tendency:\n",
    "Mean: Outliers can disproportionately influence the mean because it takes into account the values of all data points. If an outlier has a significantly higher or lower value compared to the rest of the data, it can pull the mean towards it, leading to an inflated or deflated mean that may not accurately represent the typical value of the dataset.\n",
    "Median: Outliers do not have any effect on the median, as it is simply the middle value in a dataset when arranged in ascending or descending order. Outliers do not impact the position of the median.\n",
    "Mode: Outliers may or may not affect the mode, depending on whether the outlier value is repeated frequently enough to impact the mode. If the outlier value is repeated frequently, it can impact the mode, pulling it towards the outlier value.\n",
    "Measures of Dispersion:\n",
    "Range: Outliers can significantly impact the range, as the range is simply the difference between the maximum and minimum values in a dataset. If an outlier has a value that is significantly higher or lower than the rest of the data, it can increase or decrease the range, respectively.\n",
    "Variance and Standard Deviation: Outliers can have a significant impact on variance and standard deviation, as these measures are sensitive to the squared differences between each data point and the mean. If an outlier has a significantly higher or lower value compared to the rest of the data, it can increase or decrease the variance and standard deviation, respectively, as the squared differences between the outlier and the mean will be larger.\n",
    "Example:\n",
    "\n",
    "Let's consider a dataset of exam scores for a class of 20 students: 80, 85, 90, 92, 94, 96, 97, 98, 99, 100, 101, 102, 103, 104, 105, 106, 107, 108, 109, 200 (outlier).\n",
    "\n",
    "Measures of Central Tendency:\n",
    "\n",
    "Mean: The mean without the outlier is (80 + 85 + 90 + 92 + 94 + 96 + 97 + 98 + 99 + 100 + 101 + 102 + 103 + 104 + 105 + 106 + 107 + 108 + 109) / 19 = 99.47. However, with the outlier included, the mean becomes (80 + 85 + 90 + 92 + 94 + 96 + 97 + 98 + 99 + 100 + 101 + 102 + 103 + 104 + 105 + 106 + 107 + 108 + 109 + 200) / 20 = 105.45, which is significantly higher.\n",
    "Median: The median is not affected by the outlier, as it remains the same: 101.\n",
    "Mode: The mode is not affected by the outlier, as there are no repeated values.\n",
    "Measures of Dispersion:\n",
    "\n",
    "Range: The range without the outlier is 109 - 80 = 29. However, with the outlier included, the range becomes 200 - 80 = 120, which is significantly higher.\n",
    "Variance and Standard Deviation: The variance and standard deviation without the outlier are 192.21 and 13.87, respectively. However, with the outlier included, the variance becomes 3848.95 and the standard deviation becomes 62.03, which are significantly higher."
   ]
  }
 ],
 "metadata": {
  "kernelspec": {
   "display_name": "Python 3 (ipykernel)",
   "language": "python",
   "name": "python3"
  },
  "language_info": {
   "codemirror_mode": {
    "name": "ipython",
    "version": 3
   },
   "file_extension": ".py",
   "mimetype": "text/x-python",
   "name": "python",
   "nbconvert_exporter": "python",
   "pygments_lexer": "ipython3",
   "version": "3.10.5"
  }
 },
 "nbformat": 4,
 "nbformat_minor": 5
}
