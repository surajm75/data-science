{
 "cells": [
  {
   "cell_type": "code",
   "execution_count": null,
   "id": "4b08d089",
   "metadata": {},
   "outputs": [],
   "source": [
    "Q1). What is multithreading in python? why is it used? Name the module used to handle threads in python"
   ]
  },
  {
   "cell_type": "markdown",
   "id": "a7215f5e",
   "metadata": {},
   "source": [
    "Multithreading in Python refers to a process of executing multiple threads of control within a single process. It is a mechanism in which multiple threads of execution (or independent parts of a process) can run concurrently within a single process, allowing programs to make efficient use of available CPU resources and to perform multiple tasks at the same time.\n",
    "\n",
    "Multithreading is used to improve the performance of a program, especially when dealing with tasks that involve input/output operations or other blocking operations that can cause a program to stall or become unresponsive. By using multithreading, a program can continue to perform other tasks while waiting for input/output operations to complete, which can help to make the program more responsive and improve overall performance.\n",
    "\n",
    "The threading module is used to handle threads in Python"
   ]
  },
  {
   "cell_type": "code",
   "execution_count": null,
   "id": "8e5c0771",
   "metadata": {},
   "outputs": [],
   "source": [
    "Q2. Why threading module used? Write the use of the following functions\n",
    "activeCount()\n",
    "currentThread()\n",
    "enumerate()"
   ]
  },
  {
   "cell_type": "markdown",
   "id": "bab4297f",
   "metadata": {},
   "source": [
    "The threading module is used in Python to provide a way to create, control, and manage threads within a Python program. It allows multiple threads of control to run concurrently within a single process, enabling programs to make efficient use of available CPU resources and to perform multiple tasks at the same time.\n",
    "\n",
    "Here are the explanations of the following threading functions:\n",
    "\n",
    "activeCount(): This function returns the number of thread objects that are active in the current program. An active thread is a thread that has been started but has not yet completed. This function can be useful for debugging and monitoring purposes to determine how many threads are currently running.\n",
    "\n",
    "currentThread(): This function returns a reference to the current thread object. The current thread is the thread that is executing the current code. This function can be useful for debugging and logging purposes to identify the current thread.\n",
    "\n",
    "enumerate(): This function returns a list of all thread objects that are active in the current program. Each thread object is represented as an instance of the Thread class. This function can be useful for debugging and monitoring purposes to get a list of all threads that are currently running."
   ]
  },
  {
   "cell_type": "code",
   "execution_count": null,
   "id": "7ac1988b",
   "metadata": {},
   "outputs": [],
   "source": [
    "Q3. Explain the following functions\n",
    "run()\n",
    "start()\n",
    "join()\n",
    "isAlive()"
   ]
  },
  {
   "cell_type": "markdown",
   "id": "574c64f4",
   "metadata": {},
   "source": [
    "run(): This function is used to define the entry point for the thread's activity. When a thread is started using the start() method, the run() method is called automatically. This function contains the code that is executed when the thread is started.\n",
    "\n",
    "start(): This function is used to start a new thread of execution. When this method is called, a new thread is created, and the run() method is called automatically in the new thread. This function does not block the main thread of execution, so the program can continue running while the new thread is executing.\n",
    "\n",
    "join(): This function is used to wait for a thread to complete its execution. When this method is called, the program waits for the specified thread to complete before continuing. This function blocks the main thread of execution until the specified thread completes its execution.\n",
    "\n",
    "isAlive(): This function is used to check whether a thread is currently executing or not. This function returns a Boolean value, True if the thread is currently executing, and False otherwise. This function can be used to check the status of a thread and to determine whether it has completed its execution or not.\n",
    "\n",
    "In summary, run() is the function that defines the code that will be executed by a thread, start() is used to start a new thread of execution, join() is used to wait for a thread to complete, and isAlive() is used to check the status of a thread.\n",
    "\n",
    "\n",
    "\n",
    "\n",
    "\n"
   ]
  },
  {
   "cell_type": "code",
   "execution_count": null,
   "id": "6ad277ce",
   "metadata": {},
   "outputs": [],
   "source": [
    "Q4. Write a python program to create two threads. Thread one must print the list of squares and thread\n",
    "two must print the list of cubes"
   ]
  },
  {
   "cell_type": "code",
   "execution_count": null,
   "id": "d1119ed7",
   "metadata": {},
   "outputs": [],
   "source": [
    "def square(x):\n",
    "    return x**2\n",
    "thread1 = [threading.Thread(target=square,args=(i,)) for i in range[10,20,34,78]]\n",
    "for t in thread1:\n",
    "    t.start()\n"
   ]
  },
  {
   "cell_type": "code",
   "execution_count": null,
   "id": "a9dd90e3",
   "metadata": {},
   "outputs": [],
   "source": [
    "def cube(x):\n",
    "    return x**3\n",
    "thread2 = [threading.Thread(target=cube,args=(i,)) for i in range[10,20,34,78]]\n",
    "for t in thread2:\n",
    "    t.start()"
   ]
  },
  {
   "cell_type": "markdown",
   "id": "67fdafb8",
   "metadata": {},
   "source": [
    "Q5. State advantages and disadvantages of multithreading"
   ]
  },
  {
   "cell_type": "markdown",
   "id": "488d7ae1",
   "metadata": {},
   "source": [
    "Advantages of Multithreading:\n",
    "\n",
    "Increased performance: Multithreading can help increase the performance of a program by allowing multiple tasks to be executed simultaneously, thus utilizing the available system resources more efficiently.\n",
    "\n",
    "Responsiveness: Multithreading can improve the responsiveness of a program by allowing it to continue processing user input or handling other tasks while performing time-consuming operations in the background.\n",
    "\n",
    "Resource sharing: Multithreading allows multiple threads to share the same memory and resources, which can reduce the overhead of creating and managing separate processes.\n",
    "\n",
    "Simplified program structure: Multithreading can simplify the structure of a program by allowing complex tasks to be split into smaller, more manageable units of work that can be executed independently.\n",
    "\n",
    "Disadvantages of Multithreading:\n",
    "\n",
    "Increased complexity: Multithreading can increase the complexity of a program, making it more difficult to develop and debug.\n",
    "\n",
    "Synchronization overhead: Multithreading requires synchronization mechanisms such as locks, semaphores, and mutexes to prevent race conditions and deadlocks, which can add overhead to the program.\n",
    "\n",
    "Resource contention: Multithreading can lead to resource contention, where multiple threads compete for the same resource, which can slow down the program or lead to deadlocks.\n",
    "\n",
    "Difficulty in debugging: Multithreaded programs can be difficult to debug, as the order and timing of events can be unpredictable and non-deterministic."
   ]
  },
  {
   "cell_type": "code",
   "execution_count": null,
   "id": "aecc6870",
   "metadata": {},
   "outputs": [],
   "source": [
    "Q6. Explain deadlocks and race conditions."
   ]
  },
  {
   "cell_type": "markdown",
   "id": "273466be",
   "metadata": {},
   "source": [
    "Both deadlocks and race conditions are synchronization issues that can occur when multiple threads or processes access shared resources.\n",
    "\n",
    "Deadlocks: A deadlock is a situation where two or more threads or processes are blocked because they are waiting for each other to release resources that they need to proceed. In other words, each thread is waiting for a resource that is held by another thread, which in turn is waiting for a resource held by the first thread. As a result, neither thread can make progress, and the program becomes stuck.\n",
    "\n",
    "Race Conditions: A race condition is a situation where two or more threads or processes access shared resources in a way that causes unexpected behavior. This can happen when multiple threads try to access the same resource simultaneously, without proper synchronization. The behavior of the program becomes unpredictable because the order in which the threads access the resource is not determined, and it can vary between runs of the program."
   ]
  },
  {
   "cell_type": "code",
   "execution_count": null,
   "id": "9287e964",
   "metadata": {},
   "outputs": [],
   "source": []
  }
 ],
 "metadata": {
  "kernelspec": {
   "display_name": "Python 3 (ipykernel)",
   "language": "python",
   "name": "python3"
  }
 },
 "nbformat": 4,
 "nbformat_minor": 5
}
