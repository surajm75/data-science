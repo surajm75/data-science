{
 "cells": [
  {
   "cell_type": "markdown",
   "id": "2c3f1976",
   "metadata": {},
   "source": [
    "Q1. Explain why we have to use the Exception class while creating a Custom Exception."
   ]
  },
  {
   "cell_type": "markdown",
   "id": "4eff1026",
   "metadata": {},
   "source": [
    "In Python, the built-in Exception class is the base class for all exceptions. When we create a custom exception, we want it to be compatible with the existing exception handling mechanisms in Python. By inheriting from the Exception class, we ensure that our custom exception can be caught and handled using the same try-except statements that are used to catch built-in exceptions.\n",
    "\n",
    "When we create a custom exception in Python, we define a new class that inherits from the Exception class or one of its subclasses. By doing this, our custom exception inherits all the properties and methods of the Exception class, such as the ability to set and retrieve an error message.\n",
    "\n",
    "In addition, inheriting from the Exception class makes our custom exception part of the Python exception hierarchy. This hierarchy allows us to organize exceptions into categories based on their type and severity, making it easier to catch and handle different types of exceptions in a consistent and structured way.\n",
    "\n",
    "Therefore, using the Exception class as the base class for custom exceptions ensures that they are compatible with the existing exception handling mechanisms in Python, and can be used in a consistent and structured way.\n",
    "\n",
    "\n",
    "\n",
    "\n"
   ]
  },
  {
   "cell_type": "markdown",
   "id": "9bc7dfca",
   "metadata": {},
   "source": [
    "Q2. Write a python program to print Python Exception Hierarchy."
   ]
  },
  {
   "cell_type": "code",
   "execution_count": null,
   "id": "c0e7e9ad",
   "metadata": {},
   "outputs": [],
   "source": [
    "import sys\n",
    "\n",
    "exceptions = [getattr(sys.modules[__name__], name) for name in dir(sys.modules[__name__]) if isinstance(getattr(sys.modules[__name__], name), type) and issubclass(getattr(sys.modules[__name__], name), BaseException)]\n",
    "\n",
    "for exception in exceptions:\n",
    "    hierarchy = [exception.__name__]\n",
    "    base_exception = exception.__base__\n",
    "    while base_exception is not BaseException:\n",
    "        hierarchy.append(base_exception.__name__)\n",
    "        base_exception = base_exception.__base__\n",
    "    hierarchy.append('BaseException')\n",
    "    print(\" -> \".join(reversed(hierarchy)))"
   ]
  },
  {
   "cell_type": "markdown",
   "id": "adc0c523",
   "metadata": {},
   "source": [
    "Q3. What errors are defined in the ArithmeticError class? Explain any two with an example."
   ]
  },
  {
   "cell_type": "markdown",
   "id": "1c133548",
   "metadata": {},
   "source": [
    "The ArithmeticError class in Python is the base class for all errors that occur during arithmetic operations. It is a subclass of the built-in Exception class and is part of the Python exception hierarchy.\n",
    "\n",
    "Two common errors that are defined in the ArithmeticError class are ZeroDivisionError and ValueError"
   ]
  },
  {
   "cell_type": "markdown",
   "id": "44e207bf",
   "metadata": {},
   "source": [
    "#zerodivision error\n",
    "a = 10\n",
    "b = 0\n",
    "try:\n",
    "    c = a / b\n",
    "except ZeroDivisionError as e:\n",
    "    print(\"Error:\", e)"
   ]
  },
  {
   "cell_type": "code",
   "execution_count": 26,
   "id": "73346bc7",
   "metadata": {},
   "outputs": [
    {
     "name": "stdout",
     "output_type": "stream",
     "text": [
      "Error: invalid literal for int() with base 10: 'anc'\n"
     ]
    }
   ],
   "source": [
    "#value error\n",
    "try:\n",
    "    int('anc')\n",
    "except ValueError as e:\n",
    "    print(f\"Error: {e}\")"
   ]
  },
  {
   "cell_type": "markdown",
   "id": "90b89497",
   "metadata": {},
   "source": [
    "Q4. Why LookupError class is used? Explain with an example KeyError and IndexError."
   ]
  },
  {
   "cell_type": "markdown",
   "id": "442215a8",
   "metadata": {},
   "source": [
    "The LookupError class is a base class for all lookup errors in Python. It is a subclass of the built-in Exception class and is used to handle errors that occur when an item is not found during a lookup operation.\n",
    "\n",
    "Two common errors that are subclasses of LookupError are KeyError and IndexError"
   ]
  },
  {
   "cell_type": "code",
   "execution_count": 28,
   "id": "821ae299",
   "metadata": {},
   "outputs": [
    {
     "name": "stdout",
     "output_type": "stream",
     "text": [
      "Error: 'key10'\n"
     ]
    }
   ],
   "source": [
    "#keyerror\n",
    "try:\n",
    "    d = {1:[3,4,5,6], \"key\":'sudh'}\n",
    "    d['key10']\n",
    "except KeyError as e:\n",
    "    print(f\"Error: {e}\")"
   ]
  },
  {
   "cell_type": "code",
   "execution_count": 29,
   "id": "a897a23e",
   "metadata": {},
   "outputs": [
    {
     "name": "stdout",
     "output_type": "stream",
     "text": [
      "Error: list index out of range\n"
     ]
    }
   ],
   "source": [
    "#index error\n",
    "try:\n",
    "    l = [1,3,2,3]\n",
    "    l[10]\n",
    "except IndexError as e:\n",
    "    print(f\"Error: {e}\")"
   ]
  },
  {
   "cell_type": "code",
   "execution_count": null,
   "id": "760c0743",
   "metadata": {},
   "outputs": [],
   "source": [
    "Q5. Explain ImportError. What is ModuleNotFoundError?"
   ]
  },
  {
   "cell_type": "markdown",
   "id": "c2933cce",
   "metadata": {},
   "source": [
    "ImportError is a built-in Python exception that is raised when a module or package cannot be imported. This error occurs when the Python interpreter is unable to locate a module that is specified in an import statement or when there is an error in the code of the module being imported."
   ]
  },
  {
   "cell_type": "code",
   "execution_count": 30,
   "id": "bb30b76b",
   "metadata": {},
   "outputs": [
    {
     "name": "stdout",
     "output_type": "stream",
     "text": [
      "Error: No module named 'Suraj'\n"
     ]
    }
   ],
   "source": [
    "#import error\n",
    "try:\n",
    "    import Suraj\n",
    "except ImportError as e:\n",
    "    print(f\"Error: {e}\")"
   ]
  },
  {
   "cell_type": "markdown",
   "id": "b544f1cf",
   "metadata": {},
   "source": [
    "In Python 3.6 and later versions, a new exception named ModuleNotFoundError was added to provide a more specific error message when a module cannot be found. This exception is a subclass of ImportError and is raised when the specified module is not found in any of the directories searched by the Python interpreter."
   ]
  },
  {
   "cell_type": "code",
   "execution_count": null,
   "id": "2ea42b8b",
   "metadata": {},
   "outputs": [],
   "source": [
    "try:\n",
    "    import avc\n",
    "except ModuleNotFoundError as e:\n",
    "    print(f\"Error: {e}\")"
   ]
  },
  {
   "cell_type": "markdown",
   "id": "ed583cfc",
   "metadata": {},
   "source": [
    "Q6. List down some best practices for exception handling in python."
   ]
  },
  {
   "cell_type": "markdown",
   "id": "934cfbc8",
   "metadata": {},
   "source": [
    "1.use always a specific exception\n",
    "2.ptry to avoid to write a multiple exception handlingrint a valid msg.\n",
    "3.always try to log\n",
    "4.try to avoid to write a multiple exception handling\n",
    "5.prepare a proper documentation\n",
    "6.cleanup all the resources"
   ]
  },
  {
   "cell_type": "code",
   "execution_count": null,
   "id": "8972ee96",
   "metadata": {},
   "outputs": [],
   "source": []
  },
  {
   "cell_type": "code",
   "execution_count": null,
   "id": "c2104f87",
   "metadata": {},
   "outputs": [],
   "source": [
    "\n"
   ]
  }
 ],
 "metadata": {
  "kernelspec": {
   "display_name": "Python 3 (ipykernel)",
   "language": "python",
   "name": "python3"
  },
  "language_info": {
   "codemirror_mode": {
    "name": "ipython",
    "version": 3
   },
   "file_extension": ".py",
   "mimetype": "text/x-python",
   "name": "python",
   "nbconvert_exporter": "python",
   "pygments_lexer": "ipython3",
   "version": "3.10.5"
  }
 },
 "nbformat": 4,
 "nbformat_minor": 5
}
