{
 "cells": [
  {
   "cell_type": "markdown",
   "id": "310fe024",
   "metadata": {},
   "source": [
    "Q1. Create a function which will take a list as an argument and return the product of all the numbers\n",
    "after creating a flat list.\n",
    "Use the below-given list as an argument for your function.\n",
    "list1 = [1,2,3,4, [44,55,66, True], False, (34,56,78,89,34), {1,2,3,3,2,1}, {1:34, \"key2\": [55, 67, 78, 89], 4: (45,\n",
    "22, 61, 34)}, [56, 'data science'], 'Machine Learning']\n",
    "Note: you must extract numeric keys and values of the dictionary also."
   ]
  },
  {
   "cell_type": "code",
   "execution_count": 88,
   "id": "2f73e9a6",
   "metadata": {},
   "outputs": [],
   "source": [
    "def product_list(lst):\n",
    "    flat_list = []\n",
    "    for i in lst:\n",
    "        if isinstance(i, (int,float)):\n",
    "            flat_list.append(i)\n",
    "        elif isinstance(i,(list,tuple,set)):\n",
    "            flat_list.extend(i)\n",
    "        elif isinstance(i, dict):\n",
    "            for key,value in i.items():\n",
    "                if isinstance(key,(int,float)):\n",
    "                    flat_list.append(key)\n",
    "                if isinstance(value,(int,float)):\n",
    "                    flat_list.append(value)\n",
    "    #return flat_list\n",
    "    product = 1\n",
    "    for num in flat_list:\n",
    "        product *= num\n",
    "    \n",
    "    return product\n",
    "    #print(f\"The product of all the numbers is {n}\")\n",
    "list1 = [1,2,3,4, [44,55,66, True], False, (34,56,78,89,34), {1,2,3,3,2,1}, {1:34, \"key2\": [55, 67, 78, 89], 4: (45, 22, 61, 34)}, [56, 'data science'], 'Machine Learning']\n",
    "result = product_list(list1)"
   ]
  },
  {
   "cell_type": "markdown",
   "id": "24e3ec75",
   "metadata": {},
   "source": [
    "# above code running but unable to print the product please provide the solution"
   ]
  },
  {
   "cell_type": "code",
   "execution_count": null,
   "id": "014c00b1",
   "metadata": {},
   "outputs": [],
   "source": []
  },
  {
   "cell_type": "code",
   "execution_count": null,
   "id": "200e0870",
   "metadata": {},
   "outputs": [],
   "source": []
  },
  {
   "cell_type": "markdown",
   "id": "0af1dddc",
   "metadata": {},
   "source": [
    "Q2. Write a python program for encrypting a message sent to you by your friend. The logic of encryption\n",
    "should be such that, for a the output should be z. For b, the output should be y. For c, the output should\n",
    "be x respectively. Also, the whitespace should be replaced with a dollar sign. Keep the punctuation\n",
    "marks unchanged.\n",
    "Input Sentence: I want to become a Data Scientist.\n",
    "Encrypt the above input sentence using the program you just created.\n",
    "Note: Convert the given input sentence into lowercase before encrypting. The final output should be\n",
    "lowercase."
   ]
  },
  {
   "cell_type": "markdown",
   "id": "0644ac31",
   "metadata": {},
   "source": [
    "Solution 1 - Considering only for a the output should be z. For b, the output should be y. For c, the output should be x."
   ]
  },
  {
   "cell_type": "code",
   "execution_count": 67,
   "id": "fff88400",
   "metadata": {},
   "outputs": [
    {
     "name": "stdout",
     "output_type": "stream",
     "text": [
      "i$wznt$to$yexome$z$dztz$sxientist.\n"
     ]
    }
   ],
   "source": [
    "sentence = \"I want to become a Data Scientist.\"\n",
    "encrypt_sen = \"\"\n",
    "for char in sentence:\n",
    "    if char == \"a\":\n",
    "        char = \"z\"\n",
    "        encrypt_sen +=char\n",
    "    elif char == \"b\":\n",
    "        char = \"y\"\n",
    "        encrypt_sen +=char\n",
    "    elif char == \"c\":\n",
    "        char = \"x\"\n",
    "        encrypt_sen +=char\n",
    "    elif char == \" \":\n",
    "        char =\"$\"\n",
    "        encrypt_sen +=char\n",
    "    else:\n",
    "        encrypt_sen +=char\n",
    "        \n",
    "print(encrypt_sen.lower())"
   ]
  },
  {
   "cell_type": "markdown",
   "id": "bed93977",
   "metadata": {},
   "source": [
    "Solution 1 - Considering only for a the output should be z. For b, the output should be y. For c, the output should be x till z."
   ]
  },
  {
   "cell_type": "code",
   "execution_count": 84,
   "id": "17f42506",
   "metadata": {},
   "outputs": [
    {
     "name": "stdout",
     "output_type": "stream",
     "text": [
      "r$dzmg$gl$yvxlnv$z$wzgz$hxrvmgrhg.\n"
     ]
    }
   ],
   "source": [
    "def encrypt_sen(sen):\n",
    "    encrypt_sen = \"\"\n",
    "    for char in sen:\n",
    "        if char.isalpha():\n",
    "            encrypt_sen += chr(ord('a')+ord('z')-ord(char))\n",
    "        elif char == \" \":\n",
    "            encrypt_sen += \"$\"\n",
    "        else:\n",
    "            encrypt_sen +=char\n",
    "    return encrypt_sen.lower()\n",
    "sentence = \"I want to become a Data Scientist.\"\n",
    "sentence = sentence.lower()\n",
    "print(encrypt_sen(sentence))"
   ]
  },
  {
   "cell_type": "code",
   "execution_count": null,
   "id": "acac2a63",
   "metadata": {},
   "outputs": [],
   "source": []
  }
 ],
 "metadata": {
  "kernelspec": {
   "display_name": "Python 3 (ipykernel)",
   "language": "python",
   "name": "python3"
  },
  "language_info": {
   "codemirror_mode": {
    "name": "ipython",
    "version": 3
   },
   "file_extension": ".py",
   "mimetype": "text/x-python",
   "name": "python",
   "nbconvert_exporter": "python",
   "pygments_lexer": "ipython3",
   "version": "3.10.5"
  }
 },
 "nbformat": 4,
 "nbformat_minor": 5
}
