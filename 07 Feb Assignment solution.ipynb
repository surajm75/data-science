{
 "cells": [
  {
   "cell_type": "markdown",
   "id": "5a760042",
   "metadata": {},
   "source": [
    "# 07 Feb Assignment "
   ]
  },
  {
   "cell_type": "markdown",
   "id": "cbfb201e",
   "metadata": {},
   "source": [
    "Q1. You are writing code for a company. The requirement of the company is that you create a python\n",
    "function that will check whether the password entered by the user is correct or not. The function should\n",
    "take the password as input and return the string “Valid Password” if the entered password follows the\n",
    "below-given password guidelines else it should return “Invalid Password”.\n",
    "Note: 1. The Password should contain at least two uppercase letters and at least two lowercase letters.\n",
    "2. The Password should contain at least a number and three special characters.\n",
    "3. The length of the password should be 10 characters long."
   ]
  },
  {
   "cell_type": "code",
   "execution_count": 12,
   "id": "0f9cc761",
   "metadata": {},
   "outputs": [
    {
     "data": {
      "text/plain": [
       "1"
      ]
     },
     "execution_count": 12,
     "metadata": {},
     "output_type": "execute_result"
    }
   ],
   "source": [
    "def len_upper(s):\n",
    "    c = 0\n",
    "    for i in s:\n",
    "        if i.isupper() == True:\n",
    "            c = c+1\n",
    "    return c\n",
    "len_upper(\"Suraj\")"
   ]
  },
  {
   "cell_type": "code",
   "execution_count": 14,
   "id": "4309d1d2",
   "metadata": {},
   "outputs": [
    {
     "data": {
      "text/plain": [
       "4"
      ]
     },
     "execution_count": 14,
     "metadata": {},
     "output_type": "execute_result"
    }
   ],
   "source": [
    "def len_lower(s):\n",
    "    c = 0\n",
    "    for i in s:\n",
    "        if i.islower() == True:\n",
    "            c = c+1\n",
    "    return c\n",
    "len_lower(\"Suraj\")"
   ]
  },
  {
   "cell_type": "code",
   "execution_count": 29,
   "id": "3fcb7f76",
   "metadata": {},
   "outputs": [
    {
     "data": {
      "text/plain": [
       "2"
      ]
     },
     "execution_count": 29,
     "metadata": {},
     "output_type": "execute_result"
    }
   ],
   "source": [
    "def len_special(s):\n",
    "    c = 0\n",
    "    for i in s:\n",
    "        if (not(i.isalpha() or i.isdigit() or i == ' ')) == True:\n",
    "            c = c+1\n",
    "    return c\n",
    "len_special(\"Suraj!#\")"
   ]
  },
  {
   "cell_type": "code",
   "execution_count": 68,
   "id": "29840653",
   "metadata": {},
   "outputs": [
    {
     "data": {
      "text/plain": [
       "3"
      ]
     },
     "execution_count": 68,
     "metadata": {},
     "output_type": "execute_result"
    }
   ],
   "source": [
    "def len_number(s):\n",
    "    c = 0\n",
    "    for i in s:\n",
    "        if i.isdigit() == True:\n",
    "            c = c+1\n",
    "    return c\n",
    "len_number(\"Suraj123\")"
   ]
  },
  {
   "cell_type": "code",
   "execution_count": null,
   "id": "4fcbb489",
   "metadata": {},
   "outputs": [],
   "source": [
    "#above are part function. Main function and code is below."
   ]
  },
  {
   "cell_type": "code",
   "execution_count": 40,
   "id": "f55f5200",
   "metadata": {},
   "outputs": [
    {
     "name": "stdout",
     "output_type": "stream",
     "text": [
      "Please enter the password AB@cd*1#ty\n",
      "Valid Password\n"
     ]
    }
   ],
   "source": [
    "def check_password(string):\n",
    "    if (len_upper(string)>=2) and (len_lower(string)>=2) and (len_special(string)>=3) and (len_number(string)>=1) and (len(string)==10):\n",
    "        return \"Valid Password\"\n",
    "    else:\n",
    "        return \"Invalid Password\"\n",
    "\n",
    "password = input(\"Please enter the password \")\n",
    "print(check_password(password))\n"
   ]
  },
  {
   "cell_type": "code",
   "execution_count": 41,
   "id": "013fa6e7",
   "metadata": {},
   "outputs": [
    {
     "name": "stdout",
     "output_type": "stream",
     "text": [
      "Please enter the password Asd&h123rt\n",
      "Invalid Password\n"
     ]
    }
   ],
   "source": [
    "password = input(\"Please enter the password \")\n",
    "print(check_password(password))"
   ]
  },
  {
   "cell_type": "markdown",
   "id": "9ea4ca17",
   "metadata": {},
   "source": [
    "Q2. Solve the below-given questions using at least one of the following:\n",
    "1. Lambda functioJ\n",
    "2. Filter functioJ\n",
    "3. Zap functioJ\n",
    "4. List ComprehensioI\n",
    "B Check if the string starts with a particular letterY\n",
    "B Check if the string is numericY\n",
    "B Sort a list of tuples having fruit names and their quantity. [(\"mango\",99),(\"orange\",80), (\"grapes\", 1000)-\n",
    "B Find the squares of numbers from 1 to 10Y\n",
    "B Find the cube root of numbers from 1 to 10Y\n",
    "B Check if a given number is evenY\n",
    "B Filter odd numbers from the given list.\n",
    "[1,2,3,4,5,6,7,8,9,10-\n",
    "B Sort a list of integers into positive and negative integers lists.\n",
    "[1,2,3,4,5,6,-1,-2,-3,-4,-5,0]"
   ]
  },
  {
   "cell_type": "code",
   "execution_count": 47,
   "id": "6bd7ce8c",
   "metadata": {},
   "outputs": [
    {
     "name": "stdout",
     "output_type": "stream",
     "text": [
      "True\n"
     ]
    }
   ],
   "source": [
    "string = \"Suraj\"\n",
    "start_with = lambda x : True if x.startswith('S') else False\n",
    "print(start_with(string))"
   ]
  },
  {
   "cell_type": "code",
   "execution_count": 52,
   "id": "eeb56ff6",
   "metadata": {},
   "outputs": [
    {
     "data": {
      "text/plain": [
       "True"
      ]
     },
     "execution_count": 52,
     "metadata": {},
     "output_type": "execute_result"
    }
   ],
   "source": [
    "string = '1345'\n",
    "numeric = lambda x : True if x.isnumeric() == True else False\n",
    "numeric(string)"
   ]
  },
  {
   "cell_type": "code",
   "execution_count": 51,
   "id": "23be05df",
   "metadata": {},
   "outputs": [
    {
     "data": {
      "text/plain": [
       "False"
      ]
     },
     "execution_count": 51,
     "metadata": {},
     "output_type": "execute_result"
    }
   ],
   "source": [
    "numeric('abgdj23')"
   ]
  },
  {
   "cell_type": "code",
   "execution_count": 56,
   "id": "fbb424fd",
   "metadata": {},
   "outputs": [
    {
     "data": {
      "text/plain": [
       "[('orange', 80), ('mango', 99), ('grapes', 1000)]"
      ]
     },
     "execution_count": 56,
     "metadata": {},
     "output_type": "execute_result"
    }
   ],
   "source": [
    "lst = [(\"mango\",99),(\"orange\",80), (\"grapes\", 1000)]\n",
    "lst.sort(key = lambda x : x[1])\n",
    "lst"
   ]
  },
  {
   "cell_type": "code",
   "execution_count": 63,
   "id": "7c8d1482",
   "metadata": {},
   "outputs": [
    {
     "name": "stdout",
     "output_type": "stream",
     "text": [
      "[1, 2, 3, 4, 5, 6, 7, 8, 9, 10]\n",
      "[1, 4, 9, 16, 25, 36, 49, 64, 81, 100]\n",
      "[1.0, 1.2599210498948732, 1.4422495703074083, 1.5874010519681994, 1.7099759466766968, 1.8171205928321397, 1.912931182772389, 2.0, 2.080083823051904, 2.154434690031884]\n"
     ]
    }
   ],
   "source": [
    "lst = []\n",
    "for i in range(1,11):\n",
    "    lst.append(i)\n",
    "print(lst)\n",
    "sqr = map(lambda x: x**2,lst)\n",
    "print(list(sqr))\n",
    "\n",
    "\n",
    "cube_root = map(lambda x:(x**(1/3)),lst)\n",
    "print(list(cube_root))"
   ]
  },
  {
   "cell_type": "code",
   "execution_count": 64,
   "id": "701b9bd3",
   "metadata": {},
   "outputs": [
    {
     "data": {
      "text/plain": [
       "True"
      ]
     },
     "execution_count": 64,
     "metadata": {},
     "output_type": "execute_result"
    }
   ],
   "source": [
    "even = lambda x : True if x%2==0 else False\n",
    "even(56)"
   ]
  },
  {
   "cell_type": "code",
   "execution_count": 65,
   "id": "55e7a52c",
   "metadata": {},
   "outputs": [
    {
     "data": {
      "text/plain": [
       "False"
      ]
     },
     "execution_count": 65,
     "metadata": {},
     "output_type": "execute_result"
    }
   ],
   "source": [
    "even(75)"
   ]
  },
  {
   "cell_type": "code",
   "execution_count": 66,
   "id": "e6ab38ea",
   "metadata": {},
   "outputs": [
    {
     "name": "stdout",
     "output_type": "stream",
     "text": [
      "[1, 3, 5, 7, 9]\n"
     ]
    }
   ],
   "source": [
    "lst = [1,2,3,4,5,6,7,8,9,10]\n",
    "odd = filter(lambda x : x%2!=0,lst)\n",
    "print(list(odd))"
   ]
  },
  {
   "cell_type": "code",
   "execution_count": 67,
   "id": "bc6ccc0e",
   "metadata": {},
   "outputs": [
    {
     "name": "stdout",
     "output_type": "stream",
     "text": [
      "[1, 2, 3, 4, 5, 6]\n",
      "[-1, -2, -3, -4, -5]\n"
     ]
    }
   ],
   "source": [
    "lst = [1,2,3,4,5,6,-1,-2,-3,-4,-5,0]\n",
    "positive = filter(lambda x : x>0,lst)\n",
    "negative = filter(lambda x : x<0,lst)\n",
    "print(list(positive))\n",
    "print(list(negative))"
   ]
  },
  {
   "cell_type": "code",
   "execution_count": null,
   "id": "10951f0a",
   "metadata": {},
   "outputs": [],
   "source": []
  }
 ],
 "metadata": {
  "kernelspec": {
   "display_name": "Python 3 (ipykernel)",
   "language": "python",
   "name": "python3"
  },
  "language_info": {
   "codemirror_mode": {
    "name": "ipython",
    "version": 3
   },
   "file_extension": ".py",
   "mimetype": "text/x-python",
   "name": "python",
   "nbconvert_exporter": "python",
   "pygments_lexer": "ipython3",
   "version": "3.10.5"
  }
 },
 "nbformat": 4,
 "nbformat_minor": 5
}
