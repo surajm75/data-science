{
 "cells": [
  {
   "cell_type": "markdown",
   "id": "d122cac0",
   "metadata": {},
   "source": [
    "Q1. A company conducted a survey of its employees and found that 70% of the employees use the\n",
    "company's health insurance plan, while 40% of the employees who use the plan are smokers. What is the\n",
    "probability that an employee is a smoker given that he/she uses the health insurance plan?"
   ]
  },
  {
   "cell_type": "markdown",
   "id": "9be0963b",
   "metadata": {},
   "source": [
    "We have P(H)=0.70 (Probability that an employee uses the health insurance plan)\n",
    "\n",
    "P(S∣H)=0.40 (Probability that an employee is a smoker given that they use the health insurance plan)\n",
    "\n",
    "Using the formula for conditional probability:\n",
    "P(S∣H)= P(H)*P(S∩H)\n",
    "We are not directly given \n",
    "P(S∩H), but we can calculate it using the formula:\n",
    "P(S∩H)=P(H)⋅P(S∣H)\n",
    "\n",
    "Substituting the given values:=0.70 *0.40=0.28\n",
    "P(S∩H)=0.70⋅0.40=0.28\n",
    "\n",
    "Now we can find \n",
    "P(S∣H)= P(S∩H)/P(H)=0.4\n",
    "\n",
    "So, after recalculating, the probability that an employee is a smoker given that they use the health insurance plan is indeed \n",
    "0.4\n",
    "0.4, or 40%.\n",
    "\n",
    "\n",
    "\n",
    "\n"
   ]
  },
  {
   "cell_type": "markdown",
   "id": "619cfd4a",
   "metadata": {},
   "source": [
    "Q2. What is the difference between Bernoulli Naive Bayes and Multinomial Naive Bayes?"
   ]
  },
  {
   "cell_type": "markdown",
   "id": "c3509e9e",
   "metadata": {},
   "source": [
    "\n",
    "Bernoulli Naive Bayes and Multinomial Naive Bayes are both variants of the Naive Bayes algorithm used for text classification and other probabilistic classification tasks. However, they differ in how they handle features and the type of data they are best suited for:\n",
    "\n",
    "Bernoulli Naive Bayes:\n",
    "\n",
    "Features: Bernoulli Naive Bayes is used when features are binary (presence or absence of a feature). It's particularly suitable for text classification where the presence or absence of specific words is considered.\n",
    "Assumption: It assumes that the features are conditionally independent given the class, just like other Naive Bayes variants.\n",
    "Example: In text classification, Bernoulli Naive Bayes could be used to determine whether a document contains certain keywords or not.\n",
    "Multinomial Naive Bayes:\n",
    "\n",
    "Features: Multinomial Naive Bayes is used when features represent counts or frequencies (e.g., word frequencies in a document). It's commonly used in text classification where features are counts of words in a document.\n",
    "Assumption: It assumes that the features follow a multinomial distribution, which is suitable for discrete data.\n",
    "Example: In text classification, Multinomial Naive Bayes could be used to predict the category of a document based on the frequency of each word."
   ]
  },
  {
   "cell_type": "markdown",
   "id": "b96b4f2f",
   "metadata": {},
   "source": [
    "Q3. How does Bernoulli Naive Bayes handle missing values?"
   ]
  },
  {
   "cell_type": "markdown",
   "id": "1c0b496a",
   "metadata": {},
   "source": [
    "Bernoulli Naive Bayes handles missing values in a specific way due to its assumption that features are binary (presence or absence of a feature). When dealing with missing values in Bernoulli Naive Bayes, there are a few common approaches:\n",
    "\n",
    "Ignoring Missing Values: One approach is to simply ignore instances with missing values during training and classification. This means that any instance containing missing values for any feature would not be considered in the analysis. While this approach is straightforward, it can lead to a loss of valuable data.\n",
    "\n",
    "Imputation: Another approach is to impute missing values with a default value, such as 0 or 1, depending on the context of the problem. This allows the instances with missing values to still be included in the analysis. However, imputation might introduce bias in the model, especially if the missingness is not random.\n",
    "\n",
    "Assigning a Special Category: For Bernoulli Naive Bayes, where features are binary, you could consider treating missing values as a separate category. This category could represent the absence of the feature, similar to the \"0\" category in binary features.\n",
    "\n"
   ]
  },
  {
   "cell_type": "markdown",
   "id": "0e1aaff8",
   "metadata": {},
   "source": [
    "Q4. Can Gaussian Naive Bayes be used for multi-class classification?"
   ]
  },
  {
   "cell_type": "markdown",
   "id": "0331e4ba",
   "metadata": {},
   "source": [
    "Yes, Gaussian Naive Bayes can be used for multi-class classification. Gaussian Naive Bayes is a variant of the Naive Bayes algorithm that assumes that continuous numeric features follow a Gaussian (normal) distribution within each class. While it's often used for binary classification tasks, it can also be extended to handle multi-class classification problems.\n",
    "\n",
    "\n",
    "In the context of multi-class classification, each class is modeled with its own Gaussian distribution for each feature. During classification, the algorithm calculates the likelihood of the feature values given each class's Gaussian distribution. Then, it applies Bayes' Theorem to calculate the posterior probability for each class and assigns the instance to the class with the highest posterior probability."
   ]
  },
  {
   "cell_type": "markdown",
   "id": "8104ec61",
   "metadata": {},
   "source": [
    "Q5. Assignment:\n",
    "    \n",
    "Data preparation:\n",
    "    \n",
    "Download the \"Spambase Data Set\" from the UCI Machine Learning Repository (https://archive.ics.uci.edu/ml/\n",
    "datasets/Spambase). This dataset contains email messages, where the goal is to predict whether a message\n",
    "is spam or not based on several input features."
   ]
  },
  {
   "cell_type": "markdown",
   "id": "00e8bb97",
   "metadata": {},
   "source": [
    "# #Unable to parse data in appropiate format. Need help of this type of dataset."
   ]
  },
  {
   "cell_type": "code",
   "execution_count": null,
   "id": "c00645f3",
   "metadata": {},
   "outputs": [],
   "source": []
  },
  {
   "cell_type": "code",
   "execution_count": null,
   "id": "3e80a77f",
   "metadata": {},
   "outputs": [],
   "source": []
  },
  {
   "cell_type": "code",
   "execution_count": null,
   "id": "155b9cf4",
   "metadata": {},
   "outputs": [],
   "source": []
  }
 ],
 "metadata": {
  "kernelspec": {
   "display_name": "Python 3 (ipykernel)",
   "language": "python",
   "name": "python3"
  },
  "language_info": {
   "codemirror_mode": {
    "name": "ipython",
    "version": 3
   },
   "file_extension": ".py",
   "mimetype": "text/x-python",
   "name": "python",
   "nbconvert_exporter": "python",
   "pygments_lexer": "ipython3",
   "version": "3.10.5"
  }
 },
 "nbformat": 4,
 "nbformat_minor": 5
}
