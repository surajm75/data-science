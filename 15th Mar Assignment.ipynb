{
 "cells": [
  {
   "cell_type": "markdown",
   "id": "b78eb26c",
   "metadata": {},
   "source": [
    "Q1- Explain the following with an example\n",
    "a) Artificial Intelligence\n",
    "b) Machine Learning\n",
    "c) Deep Learning"
   ]
  },
  {
   "cell_type": "markdown",
   "id": "15496307",
   "metadata": {},
   "source": [
    "AI is ability of machine imitate human behaviour.\n",
    "Machine learning is application of AI that allow a system to learn automatically and improve from experience.\n",
    "Deep larning is application of machine learning that uses complex algorithms and deep neural nets to train a model."
   ]
  },
  {
   "cell_type": "markdown",
   "id": "8659ed92",
   "metadata": {},
   "source": [
    "Q2- What is supervised learning? List some examples of supervised learning."
   ]
  },
  {
   "cell_type": "markdown",
   "id": "0a24775e",
   "metadata": {},
   "source": [
    "In supervised machine learning models will be trained through input and output and when model is deployed in cloud or any application, it will take the input and predict the output.\n",
    "There are two main areas where supervised machine learning comes in handy: classification problems and regression problems.\n",
    "Classification refers to taking an input value and mapping it to a discrete value. In classification problems, our output typically consists of classes or categories. This could be things like trying to predict what objects are present in an image (a cat/ a dog) or whether it is going to rain today or not.\n",
    "Regression is related to continuous data (value functions). In Regression, the predicted output values are real numbers. It deals with problems such as predicting the price of a house or the trend in the stock price at a given time, etc."
   ]
  },
  {
   "cell_type": "markdown",
   "id": "ce8050a6",
   "metadata": {},
   "source": [
    "Q3- What is unsupervised learning? List some examples of unsupervised learning."
   ]
  },
  {
   "cell_type": "markdown",
   "id": "96136b5c",
   "metadata": {},
   "source": [
    "Unsupervised learning is when it can provide a set of unlabelled data, which it is required to analyze and find patterns inside. The examples are dimension reduction and clustering."
   ]
  },
  {
   "cell_type": "markdown",
   "id": "4d8a8465",
   "metadata": {},
   "source": [
    "Q4- What is the difference between AI, ML, DL, and DS?"
   ]
  },
  {
   "cell_type": "markdown",
   "id": "211e5e45",
   "metadata": {},
   "source": [
    "AI ML DL are not part or subset of DS, although, certain tasks involved in DS intersect with AI, ML and DL. DS is a data-driven technique and each of DS, ML and DL have processes that relate to data or big data, contextually.\n",
    "Artificial Intelligence (AI) enables machines to think by understanding, learning from the data, and taking decisions based on patterns hidden in the data or make inferences that would otherwise be very difficult for humans to make manually. The end goal of using ML or DL is to create an AI application or machine as smart as humans.\n",
    "\n",
    "🔹Machine Learning (ML) is a subset of AI; it provides us statistical tools/techniques like Supervised, Unsupervised, and Reinforcement learning to explore and analyze the data.\n",
    "\n",
    "🔹Deep Learning (DL) is further a subset of ML, and the main idea behind it is to make machines learn by mimicking the human brain. Here, we create a multi neural network architecture with the help of different techniques like ANN, CNN, and RNN.\n",
    "\n",
    "🔹Data Science (DS) is basically drawing insights from structured and unstructured data either by using ML or DL or without these techniques. We can even use different visualization tools, statistics, and probability to gain these insights."
   ]
  },
  {
   "cell_type": "markdown",
   "id": "243a86cb",
   "metadata": {},
   "source": [
    "Q5- What are the main differences between supervised, unsupervised, and semi-supervised learning?"
   ]
  },
  {
   "cell_type": "markdown",
   "id": "4c4a4578",
   "metadata": {},
   "source": [
    "The key difference between supervised and unsupervised learning in machine learning is the use of training data.\n",
    "Supervised learning makes use of example data to show what “correct” data looks like. The data is structured to show the outputs of given inputs.\n",
    "Unsupervised learning doesn’t have any prior training data.\n",
    "Semi-supervised learning attempts to take a middle ground by labeling some of the data"
   ]
  },
  {
   "cell_type": "markdown",
   "id": "818c5a75",
   "metadata": {},
   "source": [
    "Q6- What is train, test and validation split? Explain the importance of each term."
   ]
  },
  {
   "cell_type": "markdown",
   "id": "90849c26",
   "metadata": {},
   "source": [
    "Training data is the set of the data on which the actual training takes place. Validation split helps to improve the model performance by fine-tuning the model after each epoch. The test set informs us about the final accuracy of the model after completing the training phase.\n"
   ]
  },
  {
   "cell_type": "markdown",
   "id": "8395653d",
   "metadata": {},
   "source": [
    "Q7- How can unsupervised learning be used in anomaly detection?"
   ]
  },
  {
   "cell_type": "markdown",
   "id": "02b03691",
   "metadata": {},
   "source": [
    "Anomaly detection techniques of unsupervised nature assume that normal data points occur considerably more frequently than anomalous data points. This assumption is used to classify data points that occur less frequently as anomalies. Unsupervised techniques assign each data point a score instead of a label."
   ]
  },
  {
   "cell_type": "markdown",
   "id": "35b65c8c",
   "metadata": {},
   "source": [
    "Q8- List down some commonly used supervised learning algorithms and unsupervised learning\n",
    "algorithms."
   ]
  },
  {
   "cell_type": "markdown",
   "id": "8d89f4fa",
   "metadata": {},
   "source": [
    "The most commonly used Supervised Learning algorithms are decision tree, logistic regression, linear regression, support vector machine. The most commonly used Unsupervised Learning algorithms are k-means clustering, hierarchical clustering, and apriori algorithm."
   ]
  },
  {
   "cell_type": "code",
   "execution_count": null,
   "id": "2180fb84",
   "metadata": {},
   "outputs": [],
   "source": []
  }
 ],
 "metadata": {
  "kernelspec": {
   "display_name": "Python 3 (ipykernel)",
   "language": "python",
   "name": "python3"
  },
  "language_info": {
   "codemirror_mode": {
    "name": "ipython",
    "version": 3
   },
   "file_extension": ".py",
   "mimetype": "text/x-python",
   "name": "python",
   "nbconvert_exporter": "python",
   "pygments_lexer": "ipython3",
   "version": "3.10.5"
  }
 },
 "nbformat": 4,
 "nbformat_minor": 5
}
