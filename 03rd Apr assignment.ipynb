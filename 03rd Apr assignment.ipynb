{
 "cells": [
  {
   "cell_type": "markdown",
   "id": "7935bd3d",
   "metadata": {},
   "source": [
    "Q1. Explain the concept of precision and recall in the context of classification models."
   ]
  },
  {
   "cell_type": "markdown",
   "id": "66d10a9a",
   "metadata": {},
   "source": [
    "n the context of classification models, precision and recall are two important evaluation metrics that measure the performance of the model in identifying positive instances correctly. They are particularly relevant when dealing with imbalanced datasets, where one class significantly outnumbers the other(s).\n",
    "\n",
    "Precision:\n",
    "\n",
    "Precision is a metric that indicates the proportion of true positive predictions over all positive predictions made by the model.\n",
    "It measures the model's ability to avoid false positive errors, i.e., instances that are predicted as positive but actually belong to the negative class.\n",
    "Calculation: Precision = True Positives (TP) / (True Positives (TP) + False Positives (FP))\n",
    "In simpler terms, precision answers the question: \"Of all the instances the model predicted as positive, how many were actually positive?\" A high precision value indicates that the model is cautious in labeling an instance as positive and has low false positive rates.\n",
    "\n",
    "Recall (Sensitivity or True Positive Rate):\n",
    "\n",
    "Recall represents the proportion of true positive predictions over all actual positive instances in the dataset.\n",
    "It measures the model's ability to capture all positive instances correctly, avoiding false negatives, i.e., instances that are predicted as negative but actually belong to the positive class.\n",
    "Calculation: Recall = True Positives (TP) / (True Positives (TP) + False Negatives (FN))\n",
    "In simpler terms, recall answers the question: \"Of all the actual positive instances, how many did the model correctly identify as positive?\" A high recall value indicates that the model is sensitive in capturing positive instances and has low false negative rates.\n",
    "\n",
    "The balance between precision and recall depends on the specific problem and the costs associated with false positive and false negative errors. In some cases, you may want to prioritize high precision to minimize false positives, while in other cases, high recall may be more critical to minimize false negatives.\n",
    "\n",
    "For example:\n",
    "\n",
    "In a medical diagnosis application, a high precision model is desirable to minimize false positives, as misdiagnosing healthy patients as positive could lead to unnecessary treatments and costs.\n",
    "On the other hand, in a fraud detection system, a high recall model is more desirable to minimize false negatives, as missing fraudulent transactions could result in financial losses.\n",
    "When you need to strike a balance between precision and recall, the F1 score, which is the harmonic mean of precision and recall, provides a single metric to assess the overall performance of the classification model. It is useful when there is an uneven class distribution and when both precision and recall are important for the task at hand.\n",
    "\n",
    "\n",
    "\n",
    "\n"
   ]
  },
  {
   "cell_type": "markdown",
   "id": "641c3274",
   "metadata": {},
   "source": [
    "Q2. What is the F1 score and how is it calculated? How is it different from precision and recall?"
   ]
  },
  {
   "cell_type": "markdown",
   "id": "2cb38c62",
   "metadata": {},
   "source": [
    "The F1 score is a single metric that combines both precision and recall to provide a balanced measure of a classification model's performance. It is particularly useful when dealing with imbalanced datasets, where one class significantly outnumbers the other(s), and when both precision and recall are important for the task at hand.\n",
    "\n",
    "The F1 score is calculated using the harmonic mean of precision and recall and is defined as follows:\n",
    "\n",
    "F1 Score = 2 * (Precision * Recall) / (Precision + Recall)\n",
    "\n",
    "Where:\n",
    "\n",
    "Precision is the proportion of true positive predictions over all positive predictions made by the model.\n",
    "Recall is the proportion of true positive predictions over all actual positive instances in the dataset.\n",
    "By taking the harmonic mean, the F1 score penalizes extreme values of precision and recall. It tends to be lower when either precision or recall is significantly lower than the other, indicating that the model's performance is not well-balanced.\n",
    "\n",
    "Differences between F1 score, precision, and recall:\n",
    "\n",
    "Precision:\n",
    "\n",
    "Precision measures the model's ability to avoid false positive errors, i.e., the instances that are predicted as positive but actually belong to the negative class.\n",
    "It focuses on the proportion of true positive predictions over all positive predictions made by the model.\n",
    "Precision is important when minimizing false positives is critical for the application.\n",
    "Recall (Sensitivity or True Positive Rate):\n",
    "\n",
    "Recall measures the model's ability to capture all positive instances correctly, avoiding false negatives, i.e., the instances that are predicted as negative but actually belong to the positive class.\n",
    "It focuses on the proportion of true positive predictions over all actual positive instances in the dataset.\n",
    "Recall is important when minimizing false negatives is crucial for the application.\n",
    "F1 Score:\n",
    "\n",
    "The F1 score is a combination of precision and recall, providing a balanced measure of the model's performance.\n",
    "It takes both false positives and false negatives into account, making it useful when you need to strike a balance between precision and recall.\n",
    "The F1 score is particularly relevant in scenarios where there is an uneven class distribution, and both false positives and false negatives have different implications.\n",
    "In summary, while precision and recall focus on specific aspects of the model's performance, the F1 score considers both precision and recall, providing an aggregate measure that helps evaluate the overall effectiveness of the model, especially in imbalanced datasets. It serves as a useful tool for making decisions in cases where minimizing false positives and false negatives are equally important."
   ]
  },
  {
   "cell_type": "markdown",
   "id": "cf027020",
   "metadata": {},
   "source": [
    "Q3. What is ROC and AUC, and how are they used to evaluate the performance of classification models?"
   ]
  },
  {
   "cell_type": "markdown",
   "id": "ea5bf8b4",
   "metadata": {},
   "source": [
    "ROC (Receiver Operating Characteristic) and AUC (Area Under the ROC Curve) are evaluation metrics used to assess the performance of classification models, particularly in binary classification problems. They provide insights into the model's ability to distinguish between positive and negative classes across different decision thresholds.\n",
    "\n",
    "ROC Curve:\n",
    "\n",
    "The ROC curve is a graphical representation of the model's performance as the discrimination threshold for classifying positive and negative instances is varied.\n",
    "It plots the True Positive Rate (TPR), also known as recall or sensitivity, on the y-axis, against the False Positive Rate (FPR) on the x-axis.\n",
    "The FPR is calculated as (1 - Specificity) and represents the proportion of false positive predictions over all actual negative instances.\n",
    "Each point on the ROC curve corresponds to a specific decision threshold. As the threshold changes, the TPR and FPR values also change, resulting in different points on the curve.\n",
    "AUC (Area Under the ROC Curve):\n",
    "\n",
    "The AUC is a scalar value that represents the area under the ROC curve.\n",
    "AUC ranges from 0 to 1, where 0 indicates a poor classifier (similar to random guessing), and 1 represents a perfect classifier.\n",
    "AUC provides an aggregate measure of the model's ability to distinguish between positive and negative instances across all possible decision thresholds.\n",
    "Higher AUC values indicate better model performance, as the model can more effectively discriminate between positive and negative instances.\n",
    "Using ROC and AUC to evaluate classification models:\n",
    "\n",
    "Model Comparison:\n",
    "\n",
    "ROC curves allow you to compare the performance of multiple models or algorithms for the same classification task.\n",
    "The model with a higher AUC value is generally considered superior, as it has a better overall ability to discriminate between classes.\n",
    "Decision Threshold Analysis:\n",
    "\n",
    "ROC curves help in selecting an appropriate decision threshold based on the trade-off between sensitivity and specificity.\n",
    "You can identify the threshold that best suits the specific requirements of your application (e.g., high recall vs. high precision).\n",
    "Imbalanced Datasets:\n",
    "\n",
    "ROC and AUC are especially valuable when dealing with imbalanced datasets, as they provide a more comprehensive evaluation of the model's performance compared to accuracy alone.\n",
    "In imbalanced datasets, accuracy can be misleading, as a classifier that always predicts the majority class may achieve high accuracy while ignoring the minority class."
   ]
  },
  {
   "cell_type": "markdown",
   "id": "21957f88",
   "metadata": {},
   "source": [
    "Q4. How do you choose the best metric to evaluate the performance of a classification model?\n",
    "What is multiclass classification and how is it different from binary classification?"
   ]
  },
  {
   "cell_type": "markdown",
   "id": "6e533717",
   "metadata": {},
   "source": [
    "Choosing the best metric to evaluate the performance of a classification model depends on the specific problem, the class distribution, and the business requirements. Here are some guidelines to help you select an appropriate evaluation metric:\n",
    "\n",
    "Class Distribution:\n",
    "\n",
    "If the dataset is balanced (roughly equal number of instances in each class), accuracy can be a good metric to start with. Accuracy gives an overall measure of model correctness.\n",
    "If the dataset is imbalanced (significant differences in the number of instances between classes), accuracy can be misleading. In such cases, precision, recall, F1 score, or AUC-ROC may be more informative, as they consider the true positive, false positive, true negative, and false negative rates.\n",
    "Business Requirements:\n",
    "\n",
    "Consider the specific needs and goals of the application. Determine whether it is more critical to minimize false positives (precision) or false negatives (recall).\n",
    "For instance, in medical diagnostics, minimizing false negatives (ensuring high recall) might be more important, even if it results in more false positives.\n",
    "Costs of Errors:\n",
    "\n",
    "Understand the costs associated with different types of errors (false positives and false negatives).\n",
    "Depending on the consequences of misclassification, you might prioritize one metric over the others.\n",
    "Threshold Sensitivity:\n",
    "\n",
    "Some metrics, such as precision and recall, are sensitive to the decision threshold used for class predictions. Consider whether you need to adjust the threshold to optimize the metric for your specific use case.\n",
    "Multiclass vs. Binary Classification:\n",
    "\n",
    "The choice of metrics may differ for multiclass and binary classification problems. For multiclass problems, you might use metrics like accuracy, macro/micro-averaged precision, recall, or F1 score.\n",
    "\n",
    "Now, let's address the second part of your question:\n",
    "\n",
    "Multiclass Classification:\n",
    "Multiclass classification is a classification task where the model needs to assign instances to one of three or more classes or categories. In other words, the target variable can have more than two possible discrete values. Examples include classifying animals into different species or categorizing products into multiple classes.\n",
    "\n",
    "Binary Classification:\n",
    "Binary classification, on the other hand, is a classification task where the model needs to classify instances into one of two classes or categories. The target variable has only two possible discrete values, often denoted as positive and negative classes. Examples include classifying emails as spam or not spam, or determining whether a customer will churn or not churn.\n",
    "\n",
    "Difference:\n",
    "The main difference between multiclass and binary classification lies in the number of classes that the model needs to predict. In binary classification, there are two classes, while in multiclass classification, there are three or more classes. As a result, evaluation metrics for multiclass classification may need to be modified to handle multiple classes and provide an overall measure of the model's performance across all classes. Metrics like accuracy, precision, recall, F1 score, and multiclass AUC-ROC can be used to evaluate the performance of multiclass classification models.\n",
    "\n",
    "\n",
    "\n",
    "\n"
   ]
  },
  {
   "cell_type": "markdown",
   "id": "e2a163d3",
   "metadata": {},
   "source": [
    "Q5. Explain how logistic regression can be used for multiclass classification."
   ]
  },
  {
   "cell_type": "markdown",
   "id": "c93dce12",
   "metadata": {},
   "source": [
    "Logistic regression is a binary classification algorithm that is used to model the relationship between a binary dependent variable and one or more independent variables. However, it can be extended to handle multiclass classification problems using various techniques, such as the One-vs-Rest (OvR) or One-vs-One (OvO) approach.\n",
    "\n",
    "One-vs-Rest (OvR) Approach:\n",
    "\n",
    "In the OvR approach, a separate binary logistic regression model is trained for each class in the dataset.\n",
    "For each class, one class is treated as the positive class, and all other classes are treated as the negative class.\n",
    "During training, the model learns the decision boundary that separates the positive class from all the other classes.\n",
    "At prediction time, all the binary classifiers are used to make predictions for a new instance, and the class with the highest probability is considered as the final prediction.\n",
    "One-vs-One (OvO) Approach:\n",
    "\n",
    "In the OvO approach, a separate binary logistic regression model is trained for each pair of classes in the dataset.\n",
    "For N classes, N * (N - 1) / 2 binary classifiers are trained, where each classifier is trained on a combination of two classes.\n",
    "During training, each binary classifier learns the decision boundary that distinguishes the instances of the two classes it represents.\n",
    "At prediction time, each binary classifier votes for a class based on the prediction for a new instance, and the class with the most votes is considered as the final prediction.\n",
    "Choosing between the OvR and OvO approach depends on the problem size and computational resources. OvR is typically used for problems with a large number of classes, as it requires training only N binary classifiers, where N is the number of classes. OvO, on the other hand, is more computationally expensive and is usually used for smaller multiclass problems, as it requires training N * (N - 1) / 2 binary classifiers.\n",
    "\n",
    "In both approaches, logistic regression is applied to handle the binary classification subproblems. The binary logistic regression model learns the coefficients (weights) for each feature, as well as the bias term (intercept), which allows it to make predictions for new instances.\n",
    "\n",
    "It is essential to preprocess the data appropriately, including handling categorical features, scaling numerical features, and dealing with class imbalances if present. Additionally, feature engineering and regularization techniques can be used to improve the performance of the logistic regression models in the context of multiclass classification."
   ]
  },
  {
   "cell_type": "markdown",
   "id": "aa88df6b",
   "metadata": {},
   "source": [
    "Q6. Describe the steps involved in an end-to-end project for multiclass classification."
   ]
  },
  {
   "cell_type": "markdown",
   "id": "e84777c1",
   "metadata": {},
   "source": [
    "An end-to-end project for multiclass classification involves several key steps to build and deploy a machine learning model capable of classifying instances into multiple classes. Here's a general outline of the steps involved:\n",
    "\n",
    "Define the Problem:\n",
    "\n",
    "Clearly define the problem you want to solve, including the classes you want to predict and the business objectives.\n",
    "Data Collection and Preprocessing:\n",
    "\n",
    "Gather the relevant data for your problem from various sources.\n",
    "Clean the data, handle missing values, and perform necessary data transformations.\n",
    "Split the dataset into training and test sets to evaluate model performance.\n",
    "Exploratory Data Analysis (EDA):\n",
    "\n",
    "Perform exploratory data analysis to gain insights into the data.\n",
    "Visualize the distribution of classes, explore correlations, and identify potential patterns.\n",
    "Feature Engineering:\n",
    "\n",
    "Create new features or preprocess existing features to improve the model's ability to learn and generalize.\n",
    "Encode categorical variables, scale numerical features, and handle any feature engineering specific to your problem.\n",
    "Model Selection and Training:\n",
    "\n",
    "Choose an appropriate multiclass classification algorithm (e.g., logistic regression, decision trees, random forests, gradient boosting, neural networks).\n",
    "Split the training data further into training and validation sets for model selection and tuning.\n",
    "Train the chosen model on the training set and evaluate its performance on the validation set.\n",
    "Hyperparameter Tuning:\n",
    "\n",
    "Optimize the model's hyperparameters to improve its performance.\n",
    "Utilize techniques such as cross-validation and grid search or random search to find the best hyperparameter values.\n",
    "Model Evaluation:\n",
    "\n",
    "Evaluate the model's performance using various metrics like accuracy, precision, recall, F1 score, and confusion matrix.\n",
    "Compare the model's performance against baseline models or other algorithms.\n",
    "Model Optimization and Iteration:\n",
    "\n",
    "Iterate through steps 5 to 7, experimenting with different algorithms, hyperparameters, and features to improve the model's performance.\n",
    "Final Model Selection:\n",
    "\n",
    "Choose the best-performing model based on the evaluation results from the validation set.\n",
    "Model Deployment:\n",
    "\n",
    "Deploy the final model into a production environment.\n",
    "Implement necessary data pipelines and infrastructure for real-time predictions.\n",
    "Monitoring and Maintenance:\n",
    "\n",
    "Monitor the model's performance in the production environment and retrain the model periodically with new data.\n",
    "Address any performance degradation or drift over time.\n",
    "Documentation:\n",
    "\n",
    "Document the entire end-to-end project, including data sources, preprocessing steps, model selection, hyperparameters, and deployment process."
   ]
  },
  {
   "cell_type": "markdown",
   "id": "4833e9f1",
   "metadata": {},
   "source": [
    "Q7. What is model deployment and why is it important?"
   ]
  },
  {
   "cell_type": "markdown",
   "id": "a2abe96a",
   "metadata": {},
   "source": [
    "Model deployment refers to the process of integrating a trained machine learning model into a production environment, making it available to end-users or applications to make real-time predictions on new, unseen data. In other words, it is the transition from the development and evaluation phase of a machine learning project to its practical implementation in a live system.\n",
    "\n",
    "Model deployment is essential for several reasons:\n",
    "\n",
    "Real-World Use: Deployment allows the model to be used in real-world scenarios, where it can provide predictions and insights to assist decision-making or automate tasks.\n",
    "\n",
    "Scalability: Deployed models can handle large-scale data and multiple simultaneous requests, ensuring scalability as the application's user base grows.\n",
    "\n",
    "Automation: Deployed models enable automation of processes, reducing the need for manual intervention in tasks that can be efficiently performed by the model.\n",
    "\n",
    "Timely Decisions: Real-time or near-real-time predictions provided by deployed models enable timely and informed decisions.\n",
    "\n",
    "Value Generation: Deployment of a successful model can lead to tangible business value, such as improved efficiency, cost savings, or enhanced customer experience.\n",
    "\n",
    "Continued Learning: Deployed models can be continuously monitored, and their performance can be used to gather feedback for further model improvement.\n",
    "\n",
    "Integration with Other Systems: Deployed models can be integrated with existing systems or workflows, enabling seamless integration into the overall application architecture.\n",
    "\n",
    "Proof of Concept Validation: Deployment serves as the final validation of the model's effectiveness, as it is tested in the actual environment where it will be used.\n",
    "\n"
   ]
  },
  {
   "cell_type": "markdown",
   "id": "8fce43cc",
   "metadata": {},
   "source": [
    "Q8. Explain how multi-cloud platforms are used for model deployment."
   ]
  },
  {
   "cell_type": "markdown",
   "id": "78feed5f",
   "metadata": {},
   "source": [
    "Multi-cloud platforms are infrastructure environments that allow organizations to deploy and manage their applications and services across multiple cloud providers simultaneously. These platforms offer flexibility, redundancy, and the ability to avoid vendor lock-in by distributing workloads across different cloud providers. When it comes to model deployment, multi-cloud platforms can be used in various ways to ensure availability, scalability, and reliability. Here's how they are used for model deployment:\n",
    "\n",
    "High Availability and Redundancy:\n",
    "\n",
    "By deploying models across multiple cloud providers, organizations can achieve high availability and redundancy. If one cloud provider experiences downtime or an outage, the workload can seamlessly switch to another provider, ensuring continuous service availability.\n",
    "Performance Optimization:\n",
    "\n",
    "Multi-cloud platforms enable organizations to select the best-performing cloud provider for specific regions or target audiences. This can help reduce latency and improve the overall user experience.\n",
    "Cost Optimization:\n",
    "\n",
    "Organizations can take advantage of pricing differences among cloud providers to optimize costs. They can use a particular cloud provider for specific workloads that offer the best cost-performance ratio.\n",
    "Compliance and Data Residency:\n",
    "\n",
    "Multi-cloud deployments allow organizations to comply with data residency and sovereignty regulations by hosting data and models in specific regions or countries where their users or clients are located.\n",
    "Vendor Lock-In Mitigation:\n",
    "\n",
    "By avoiding dependence on a single cloud provider, multi-cloud platforms reduce the risk of vendor lock-in. Organizations can switch providers more easily if needed, without significant disruptions.\n",
    "Load Balancing and Scaling:\n",
    "\n",
    "Multi-cloud platforms can efficiently distribute incoming model prediction requests across different cloud providers, ensuring load balancing and scalability during peak periods.\n",
    "Disaster Recovery:\n",
    "\n",
    "Multi-cloud deployments enhance disaster recovery capabilities. In the event of a natural disaster or other disruptions, the model can continue to function using resources from other cloud providers.\n",
    "Cloud-Specific Features:\n",
    "\n",
    "Different cloud providers may offer unique features and services. Organizations can take advantage of these services by deploying specific parts of the application on each cloud platform to utilize the best capabilities of each provider.\n",
    "Risk Diversification:\n",
    "\n",
    "By deploying models on multiple cloud platforms, organizations reduce the risk associated with relying on a single cloud provider. This diversification ensures business continuity in the face of unforeseen issues."
   ]
  },
  {
   "cell_type": "code",
   "execution_count": null,
   "id": "abdc1b04",
   "metadata": {},
   "outputs": [],
   "source": []
  },
  {
   "cell_type": "markdown",
   "id": "22a24db3",
   "metadata": {},
   "source": [
    "Q9. Discuss the benefits and challenges of deploying machine learning models in a multi-cloud\n",
    "environment."
   ]
  },
  {
   "cell_type": "markdown",
   "id": "29e0e3b7",
   "metadata": {},
   "source": [
    "\n",
    "Deploying machine learning models in a multi-cloud environment offers several benefits and advantages, but it also comes with certain challenges that organizations need to address. Let's explore the benefits and challenges:\n",
    "\n",
    "Benefits of Deploying Machine Learning Models in a Multi-Cloud Environment:\n",
    "\n",
    "High Availability and Redundancy: Deploying models across multiple clouds ensures high availability. If one cloud provider experiences downtime or outages, the workload can seamlessly shift to another provider, minimizing service disruptions.\n",
    "\n",
    "Scalability and Performance Optimization: Multi-cloud deployment allows organizations to select the best-performing cloud provider for specific regions or target audiences. This can reduce latency and improve the overall user experience.\n",
    "\n",
    "Cost Optimization: Different cloud providers offer varying pricing models. Organizations can use a particular cloud provider for specific workloads that offer the best cost-performance ratio, optimizing their cloud spending.\n",
    "\n",
    "Compliance and Data Residency: Multi-cloud deployments enable organizations to comply with data residency and sovereignty regulations. Data and models can be hosted in specific regions or countries where users or clients are located.\n",
    "\n",
    "Vendor Lock-In Mitigation: Deploying across multiple clouds reduces the risk of vendor lock-in. Organizations can switch providers more easily if needed, without significant disruptions.\n",
    "\n",
    "Disaster Recovery and Business Continuity: Multi-cloud architectures enhance disaster recovery capabilities. In the event of a natural disaster or disruptions, models can continue to function using resources from other cloud providers.\n",
    "\n",
    "Risk Diversification: By deploying models on multiple clouds, organizations spread risk associated with relying on a single cloud provider, ensuring business continuity in case of unforeseen issues.\n",
    "\n",
    "Challenges of Deploying Machine Learning Models in a Multi-Cloud Environment:\n",
    "\n",
    "Complexity: Managing a multi-cloud architecture can be complex and requires a clear understanding of the cloud services offered by each provider and how to integrate them effectively.\n",
    "\n",
    "Consistency and Interoperability: Ensuring consistent performance and behavior across different cloud environments may require additional efforts to standardize configurations and workflows.\n",
    "\n",
    "Data Synchronization and Transfer: Moving data between different cloud providers can be challenging due to varying data formats, transfer speeds, and potential data transfer costs.\n",
    "\n",
    "Security and Compliance: Ensuring consistent security practices and regulatory compliance across multiple cloud environments can be demanding.\n",
    "\n",
    "Cost Management: Managing and optimizing costs across multiple clouds can be intricate, and organizations must closely monitor expenses to avoid unexpected budget overruns.\n",
    "\n",
    "Training and Talent: Building and maintaining expertise across multiple cloud providers may require additional training and resources for the team.\n",
    "\n",
    "Integration and API Management: Integrating various cloud services and APIs can be complex, requiring careful planning and management."
   ]
  },
  {
   "cell_type": "code",
   "execution_count": null,
   "id": "5030572e",
   "metadata": {},
   "outputs": [],
   "source": []
  },
  {
   "cell_type": "markdown",
   "id": "aff4fdf1",
   "metadata": {},
   "source": []
  },
  {
   "cell_type": "code",
   "execution_count": null,
   "id": "27a9f950",
   "metadata": {},
   "outputs": [],
   "source": []
  },
  {
   "cell_type": "code",
   "execution_count": null,
   "id": "2434ccd7",
   "metadata": {},
   "outputs": [],
   "source": []
  }
 ],
 "metadata": {
  "kernelspec": {
   "display_name": "Python 3 (ipykernel)",
   "language": "python",
   "name": "python3"
  },
  "language_info": {
   "codemirror_mode": {
    "name": "ipython",
    "version": 3
   },
   "file_extension": ".py",
   "mimetype": "text/x-python",
   "name": "python",
   "nbconvert_exporter": "python",
   "pygments_lexer": "ipython3",
   "version": "3.10.5"
  }
 },
 "nbformat": 4,
 "nbformat_minor": 5
}
