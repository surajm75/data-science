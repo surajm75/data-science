{
 "cells": [
  {
   "cell_type": "markdown",
   "id": "8a55a955",
   "metadata": {},
   "source": [
    "Q1. What is an Exception in python? Write the difference between Exceptions\n",
    "and Syntax errors"
   ]
  },
  {
   "cell_type": "markdown",
   "id": "f8b524e4",
   "metadata": {},
   "source": [
    "\n",
    "In Python, an exception is an event that occurs during the execution of a program that disrupts the normal flow of the program's instructions. When an exception is raised, the program stops executing its normal flow and jumps to a block of code known as an exception handler, which can handle the exception and allow the program to continue.\n",
    "\n",
    "Syntax errors, on the other hand, occur when there is a problem with the structure of the program's code. This type of error is detected by the Python interpreter when it tries to parse and execute the code. Syntax errors prevent the program from running at all.\n",
    "\n",
    "The main difference between exceptions and syntax errors is that syntax errors occur during the parsing and compilation of the code, while exceptions occur during the execution of the code. Syntax errors are typically caused by typos, missing or extra brackets, or other issues that cause the code to be invalid syntax. Exceptions, on the other hand, can be caused by a variety of reasons, such as unexpected input data, resource unavailability, or logical errors in the code."
   ]
  },
  {
   "cell_type": "markdown",
   "id": "e609f8c1",
   "metadata": {},
   "source": [
    "Q2. What happens when an exception is not handled? Explain with an example"
   ]
  },
  {
   "cell_type": "markdown",
   "id": "345f6edd",
   "metadata": {},
   "source": [
    "When an exception is not handled in a Python program, it will cause the program to terminate abruptly and display a traceback message, which shows the details of the exception that occurred, including the type of the exception, the line of code where it occurred, and the call stack leading up to the exception."
   ]
  },
  {
   "cell_type": "code",
   "execution_count": 2,
   "id": "8c50a9ff",
   "metadata": {},
   "outputs": [
    {
     "ename": "ZeroDivisionError",
     "evalue": "division by zero",
     "output_type": "error",
     "traceback": [
      "\u001b[1;31m---------------------------------------------------------------------------\u001b[0m",
      "\u001b[1;31mZeroDivisionError\u001b[0m                         Traceback (most recent call last)",
      "Cell \u001b[1;32mIn[2], line 2\u001b[0m\n\u001b[0;32m      1\u001b[0m a \u001b[38;5;241m=\u001b[39m \u001b[38;5;241m10\u001b[39m\n\u001b[1;32m----> 2\u001b[0m b \u001b[38;5;241m=\u001b[39m \u001b[43ma\u001b[49m\u001b[38;5;241;43m/\u001b[39;49m\u001b[38;5;241;43m0\u001b[39;49m\n",
      "\u001b[1;31mZeroDivisionError\u001b[0m: division by zero"
     ]
    }
   ],
   "source": [
    "a = 10\n",
    "b = a/0"
   ]
  },
  {
   "cell_type": "markdown",
   "id": "e2c40b14",
   "metadata": {},
   "source": [
    "In this case, the code will raise a ZeroDivisionError exception, because it is not possible to divide a number by zero. If this exception is not handled by the program, it will terminate with the following traceback message."
   ]
  },
  {
   "cell_type": "markdown",
   "id": "5fff421c",
   "metadata": {},
   "source": [
    "Q3. Which Python statements are used to catch and handle exceptions? Explain with an example"
   ]
  },
  {
   "cell_type": "markdown",
   "id": "33514660",
   "metadata": {},
   "source": [
    "In Python, the try and except statements are used to catch and handle exceptions. Below are the examples"
   ]
  },
  {
   "cell_type": "code",
   "execution_count": 4,
   "id": "edc58f9d",
   "metadata": {},
   "outputs": [
    {
     "name": "stdout",
     "output_type": "stream",
     "text": [
      "unsupported operand type(s) for +: 'int' and 'str'\n"
     ]
    }
   ],
   "source": [
    "try:\n",
    "    123 + 'anv'\n",
    "except Exception as e:\n",
    "    print(e)"
   ]
  },
  {
   "cell_type": "markdown",
   "id": "21831fdc",
   "metadata": {},
   "source": [
    "Q4. Explain with an example:#\n",
    "\n",
    "try and else\n",
    "finally\n",
    "raise"
   ]
  },
  {
   "cell_type": "code",
   "execution_count": 5,
   "id": "74264926",
   "metadata": {},
   "outputs": [
    {
     "name": "stdout",
     "output_type": "stream",
     "text": [
      "This message will print only if try block execute itself without any exception\n"
     ]
    }
   ],
   "source": [
    "try:\n",
    "    f = open(\"test5.txt\", 'w')\n",
    "    f.write(\"Please read this as my message\")\n",
    "    f.close()\n",
    "except Exception as e:\n",
    "    print(\"There is some issue with code\", e)\n",
    "else:\n",
    "    print(\"This message will print only if try block execute itself without any exception\")"
   ]
  },
  {
   "cell_type": "code",
   "execution_count": 6,
   "id": "d45e7e7d",
   "metadata": {},
   "outputs": [
    {
     "name": "stdout",
     "output_type": "stream",
     "text": [
      "There is some issue with code [Errno 2] No such file or directory: 'test6.txt'\n"
     ]
    }
   ],
   "source": [
    "try:\n",
    "    f = open(\"test6.txt\", 'r')\n",
    "    f.write(\"Please read this as my message\")\n",
    "    f.close()\n",
    "except Exception as e:\n",
    "    print(\"There is some issue with code\", e)\n",
    "else:\n",
    "    print(\"This message will print only if try block execute itself without any exception\")"
   ]
  },
  {
   "cell_type": "code",
   "execution_count": 7,
   "id": "5a460123",
   "metadata": {},
   "outputs": [
    {
     "name": "stdout",
     "output_type": "stream",
     "text": [
      "This block execute always\n"
     ]
    },
    {
     "ename": "FileNotFoundError",
     "evalue": "[Errno 2] No such file or directory: 'test1.txt'",
     "output_type": "error",
     "traceback": [
      "\u001b[1;31m---------------------------------------------------------------------------\u001b[0m",
      "\u001b[1;31mFileNotFoundError\u001b[0m                         Traceback (most recent call last)",
      "Cell \u001b[1;32mIn[7], line 2\u001b[0m\n\u001b[0;32m      1\u001b[0m \u001b[38;5;28;01mtry\u001b[39;00m:\n\u001b[1;32m----> 2\u001b[0m     f \u001b[38;5;241m=\u001b[39m \u001b[38;5;28;43mopen\u001b[39;49m\u001b[43m(\u001b[49m\u001b[38;5;124;43m\"\u001b[39;49m\u001b[38;5;124;43mtest1.txt\u001b[39;49m\u001b[38;5;124;43m\"\u001b[39;49m\u001b[43m,\u001b[49m\u001b[43m \u001b[49m\u001b[38;5;124;43m'\u001b[39;49m\u001b[38;5;124;43mr\u001b[39;49m\u001b[38;5;124;43m'\u001b[39;49m\u001b[43m)\u001b[49m\n\u001b[0;32m      3\u001b[0m     f\u001b[38;5;241m.\u001b[39mwrite(\u001b[38;5;124m\"\u001b[39m\u001b[38;5;124mPlease read this as my message\u001b[39m\u001b[38;5;124m\"\u001b[39m)\n\u001b[0;32m      4\u001b[0m     f\u001b[38;5;241m.\u001b[39mclose()\n",
      "File \u001b[1;32m~\\AppData\\Local\\Programs\\Python\\Python310\\lib\\site-packages\\IPython\\core\\interactiveshell.py:284\u001b[0m, in \u001b[0;36m_modified_open\u001b[1;34m(file, *args, **kwargs)\u001b[0m\n\u001b[0;32m    277\u001b[0m \u001b[38;5;28;01mif\u001b[39;00m file \u001b[38;5;129;01min\u001b[39;00m {\u001b[38;5;241m0\u001b[39m, \u001b[38;5;241m1\u001b[39m, \u001b[38;5;241m2\u001b[39m}:\n\u001b[0;32m    278\u001b[0m     \u001b[38;5;28;01mraise\u001b[39;00m \u001b[38;5;167;01mValueError\u001b[39;00m(\n\u001b[0;32m    279\u001b[0m         \u001b[38;5;124mf\u001b[39m\u001b[38;5;124m\"\u001b[39m\u001b[38;5;124mIPython won\u001b[39m\u001b[38;5;124m'\u001b[39m\u001b[38;5;124mt let you open fd=\u001b[39m\u001b[38;5;132;01m{\u001b[39;00mfile\u001b[38;5;132;01m}\u001b[39;00m\u001b[38;5;124m by default \u001b[39m\u001b[38;5;124m\"\u001b[39m\n\u001b[0;32m    280\u001b[0m         \u001b[38;5;124m\"\u001b[39m\u001b[38;5;124mas it is likely to crash IPython. If you know what you are doing, \u001b[39m\u001b[38;5;124m\"\u001b[39m\n\u001b[0;32m    281\u001b[0m         \u001b[38;5;124m\"\u001b[39m\u001b[38;5;124myou can use builtins\u001b[39m\u001b[38;5;124m'\u001b[39m\u001b[38;5;124m open.\u001b[39m\u001b[38;5;124m\"\u001b[39m\n\u001b[0;32m    282\u001b[0m     )\n\u001b[1;32m--> 284\u001b[0m \u001b[38;5;28;01mreturn\u001b[39;00m io_open(file, \u001b[38;5;241m*\u001b[39margs, \u001b[38;5;241m*\u001b[39m\u001b[38;5;241m*\u001b[39mkwargs)\n",
      "\u001b[1;31mFileNotFoundError\u001b[0m: [Errno 2] No such file or directory: 'test1.txt'"
     ]
    }
   ],
   "source": [
    "try:\n",
    "    f = open(\"test1.txt\", 'r')\n",
    "    f.write(\"Please read this as my message\")\n",
    "    f.close()\n",
    "finally:\n",
    "    print(\"This block execute always\")"
   ]
  },
  {
   "cell_type": "markdown",
   "id": "8f8a56fa",
   "metadata": {},
   "source": [
    "def divide(x,y):\n",
    "    if y ==0:\n",
    "        raise ZeroDivisionError(\"Can not be divided by zero\")\n",
    "    else:\n",
    "        return x/y\n",
    "try:\n",
    "    z = divide(10,0)\n",
    "    print(f\"the result is {z}\")\n",
    "except ZeroDivisionError as e:\n",
    "    print(e)"
   ]
  },
  {
   "cell_type": "code",
   "execution_count": null,
   "id": "be415d27",
   "metadata": {},
   "outputs": [],
   "source": [
    "Q5. What are Custom Exceptions in python? Why do we need Custom Exceptions? Explain with an example"
   ]
  },
  {
   "cell_type": "markdown",
   "id": "4da5de87",
   "metadata": {},
   "source": [
    "Custom exceptions in Python are user-defined exceptions that inherit from the built-in Exception class or one of its subclasses. They are used to create specific and meaningful error messages for a particular application or module.\n",
    "\n",
    "We need custom exceptions in Python because they provide a way to communicate errors in a clear and consistent manner. By creating custom exceptions, we can define specific types of errors that are relevant to our application, which can help with debugging and error handling.\n",
    "\n",
    "Here's an example that demonstrates how to create a custom exception in Python:"
   ]
  },
  {
   "cell_type": "code",
   "execution_count": 12,
   "id": "90254239",
   "metadata": {},
   "outputs": [
    {
     "name": "stdout",
     "output_type": "stream",
     "text": [
      "Please enter the to calculate square root 456\n",
      "21.354156504062622\n"
     ]
    }
   ],
   "source": [
    "class NegativeNumberError(Exception):\n",
    "    def __init__(self, msg):\n",
    "        self.msg = msg\n",
    "import math\n",
    "def sqr_root(number):\n",
    "    if number<0:\n",
    "        raise NegativeNumberError(\"Square root can not be calculated for a negative number\")\n",
    "    else:\n",
    "        return math.sqrt(number)\n",
    "try:\n",
    "    n = int(input(\"Please enter the to calculate square root \"))\n",
    "    print(sqr_root(n))\n",
    "except NegativeNumberError as e:\n",
    "    print(e)"
   ]
  },
  {
   "cell_type": "code",
   "execution_count": 13,
   "id": "4c5c7d45",
   "metadata": {},
   "outputs": [
    {
     "name": "stdout",
     "output_type": "stream",
     "text": [
      "Please enter the to calculate square root -789\n",
      "Square root can not be calculated for a negative number\n"
     ]
    }
   ],
   "source": [
    "class NegativeNumberError(Exception):\n",
    "    def __init__(self, msg):\n",
    "        self.msg = msg\n",
    "import math\n",
    "def sqr_root(number):\n",
    "    if number<0:\n",
    "        raise NegativeNumberError(\"Square root can not be calculated for a negative number\")\n",
    "    else:\n",
    "        return math.sqrt(number)\n",
    "try:\n",
    "    n = int(input(\"Please enter the to calculate square root \"))\n",
    "    print(sqr_root(n))\n",
    "except NegativeNumberError as e:\n",
    "    print(e)"
   ]
  },
  {
   "cell_type": "markdown",
   "id": "f7b4b8f2",
   "metadata": {},
   "source": [
    "Q6. Create custom exception class. Use this class to handle an exception."
   ]
  },
  {
   "cell_type": "code",
   "execution_count": 15,
   "id": "e38f3bf7",
   "metadata": {},
   "outputs": [
    {
     "name": "stdout",
     "output_type": "stream",
     "text": [
      "Please enter the age 34\n",
      "Age is valid\n"
     ]
    }
   ],
   "source": [
    "class InvalidAgeError(Exception):\n",
    "    def __init__(self,msg):\n",
    "        self.msg = msg\n",
    "def valid_age(age):\n",
    "    if age<0:\n",
    "        raise InvalidAgeError(\"Age can not be negative or less than zero\")\n",
    "    elif age>200:\n",
    "        raise InvalidAgeError(\"Given age is too high\")\n",
    "    else:\n",
    "        print(\"Age is valid\")\n",
    "\n",
    "try:\n",
    "    age = int(input(\"Please enter the age \"))\n",
    "    valid_age(age)\n",
    "except InvalidAgeError as e:\n",
    "    print(e)"
   ]
  },
  {
   "cell_type": "code",
   "execution_count": 16,
   "id": "de735a97",
   "metadata": {},
   "outputs": [
    {
     "name": "stdout",
     "output_type": "stream",
     "text": [
      "Please enter the age -78\n",
      "Age can not be negative or less than zero\n"
     ]
    }
   ],
   "source": [
    "class InvalidAgeError(Exception):\n",
    "    def __init__(self,msg):\n",
    "        self.msg = msg\n",
    "def valid_age(age):\n",
    "    if age<0:\n",
    "        raise InvalidAgeError(\"Age can not be negative or less than zero\")\n",
    "    elif age>200:\n",
    "        raise InvalidAgeError(\"Given age is too high\")\n",
    "    else:\n",
    "        print(\"Age is valid\")\n",
    "\n",
    "try:\n",
    "    age = int(input(\"Please enter the age \"))\n",
    "    valid_age(age)\n",
    "except InvalidAgeError as e:\n",
    "    print(e)"
   ]
  },
  {
   "cell_type": "code",
   "execution_count": 17,
   "id": "8950f7f1",
   "metadata": {},
   "outputs": [
    {
     "name": "stdout",
     "output_type": "stream",
     "text": [
      "Please enter the age 2345\n",
      "Given age is too high\n"
     ]
    }
   ],
   "source": [
    "class InvalidAgeError(Exception):\n",
    "    def __init__(self,msg):\n",
    "        self.msg = msg\n",
    "def valid_age(age):\n",
    "    if age<0:\n",
    "        raise InvalidAgeError(\"Age can not be negative or less than zero\")\n",
    "    elif age>200:\n",
    "        raise InvalidAgeError(\"Given age is too high\")\n",
    "    else:\n",
    "        print(\"Age is valid\")\n",
    "\n",
    "try:\n",
    "    age = int(input(\"Please enter the age \"))\n",
    "    valid_age(age)\n",
    "except InvalidAgeError as e:\n",
    "    print(e)"
   ]
  },
  {
   "cell_type": "code",
   "execution_count": null,
   "id": "4c169921",
   "metadata": {},
   "outputs": [],
   "source": []
  },
  {
   "cell_type": "code",
   "execution_count": null,
   "id": "2a25b13d",
   "metadata": {},
   "outputs": [],
   "source": []
  }
 ],
 "metadata": {
  "kernelspec": {
   "display_name": "Python 3 (ipykernel)",
   "language": "python",
   "name": "python3"
  },
  "language_info": {
   "codemirror_mode": {
    "name": "ipython",
    "version": 3
   },
   "file_extension": ".py",
   "mimetype": "text/x-python",
   "name": "python",
   "nbconvert_exporter": "python",
   "pygments_lexer": "ipython3",
   "version": "3.10.5"
  }
 },
 "nbformat": 4,
 "nbformat_minor": 5
}
