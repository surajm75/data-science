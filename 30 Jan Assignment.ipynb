{
 "cells": [
  {
   "cell_type": "markdown",
   "id": "367920f5",
   "metadata": {},
   "source": [
    "# 30th Jan Assignment\n"
   ]
  },
  {
   "cell_type": "markdown",
   "id": "575f3260",
   "metadata": {},
   "source": [
    "Solution of Q1"
   ]
  },
  {
   "cell_type": "code",
   "execution_count": 5,
   "id": "6c44682e",
   "metadata": {},
   "outputs": [
    {
     "name": "stdout",
     "output_type": "stream",
     "text": [
      "Please enter your percentage to know your grade 87\n",
      "Your grade is B\n"
     ]
    }
   ],
   "source": [
    "percentage = int(input(\"Please enter your percentage to know your grade \"))\n",
    "if percentage > 90:\n",
    "    print(\"Your grade is A\")\n",
    "elif 80< percentage <= 90:\n",
    "    print(\"Your grade is B\")\n",
    "elif 60<= percentage <= 80:\n",
    "    print(\"Your grade is C\")\n",
    "else:\n",
    "    print(\"Your grade is D\")\n",
    "        "
   ]
  },
  {
   "cell_type": "markdown",
   "id": "b94a2925",
   "metadata": {},
   "source": [
    "Solution of Q2"
   ]
  },
  {
   "cell_type": "code",
   "execution_count": 13,
   "id": "e8f82eb9",
   "metadata": {},
   "outputs": [
    {
     "name": "stdout",
     "output_type": "stream",
     "text": [
      "Please enter the cost price of bike 67800\n",
      "The road tax applicable to your bike is 10% and the value of same is 6780.0\n"
     ]
    }
   ],
   "source": [
    "p = int(input(\"Please enter the cost price of bike \"))\n",
    "if p > 100000:\n",
    "    print(f\"The road tax applicable to your bike is 15% and the value of same is {p*0.15}\")\n",
    "elif 50000<p<=100000:\n",
    "    print(f\"The road tax applicable to your bike is 10% and the value of same is {p*0.10}\")\n",
    "else:\n",
    "    print(f\"The road tax applicable to your bike is 5% and the value of same is {p * 0.05}\")"
   ]
  },
  {
   "cell_type": "markdown",
   "id": "60298b3b",
   "metadata": {},
   "source": [
    "Solution of Q3"
   ]
  },
  {
   "cell_type": "code",
   "execution_count": 17,
   "id": "ac471128",
   "metadata": {},
   "outputs": [
    {
     "name": "stdout",
     "output_type": "stream",
     "text": [
      "Please enter the name of cityJaipur\n",
      "the monument in city Jaipur is Jal Mahal\n"
     ]
    }
   ],
   "source": [
    "city = input(\"Please enter the name of city\")\n",
    "if city == 'Delhi':\n",
    "    print(f\"the monument in city {city} is Red Fort\")\n",
    "elif city == 'Agra':\n",
    "    print(f\"the monument in city {city} is Taj Mahal\")\n",
    "elif city == 'Jaipur':\n",
    "    print(f\"the monument in city {city} is Jal Mahal\")\n"
   ]
  },
  {
   "cell_type": "markdown",
   "id": "fe03340f",
   "metadata": {},
   "source": [
    "Solution of Q4"
   ]
  },
  {
   "cell_type": "code",
   "execution_count": 20,
   "id": "94ed1058",
   "metadata": {},
   "outputs": [
    {
     "name": "stdout",
     "output_type": "stream",
     "text": [
      "3\n"
     ]
    }
   ],
   "source": [
    "c = 0 \n",
    "for i in range(1,11):\n",
    "    if i%3 ==0:\n",
    "        c=c+1\n",
    "print(c)"
   ]
  },
  {
   "cell_type": "markdown",
   "id": "9586d6e6",
   "metadata": {},
   "source": [
    "Solution of Q5"
   ]
  },
  {
   "cell_type": "markdown",
   "id": "75c49998",
   "metadata": {},
   "source": [
    "A While loop in Python allows a part of the code to be executed repeatedly as long as a given condition is true. The While loop in Python is also called a pre-tested loop. It is typically used when the number of iterations is not known.\n",
    "\n",
    "A Python While loop expression/condition consists of three parts:\n",
    "\n",
    "A piece of code that needs to be repeated over and over\n",
    "The while keyword\n",
    "A condition that translates to either True or False"
   ]
  },
  {
   "cell_type": "code",
   "execution_count": 22,
   "id": "5a30dff4",
   "metadata": {},
   "outputs": [
    {
     "name": "stdout",
     "output_type": "stream",
     "text": [
      "1\n",
      "3\n",
      "5\n",
      "7\n",
      "9\n"
     ]
    }
   ],
   "source": [
    "i = 1\n",
    "while i <= 10:\n",
    "    print(i)\n",
    "    i = i +2"
   ]
  },
  {
   "cell_type": "markdown",
   "id": "c0809160",
   "metadata": {},
   "source": [
    "Solution of Q6"
   ]
  },
  {
   "cell_type": "code",
   "execution_count": 13,
   "id": "354758f0",
   "metadata": {},
   "outputs": [
    {
     "name": "stdout",
     "output_type": "stream",
     "text": [
      "* \n",
      "* * \n",
      "* * * \n",
      "* * * * \n",
      "* * * * * \n"
     ]
    }
   ],
   "source": [
    "i =1 \n",
    "while i <=5:\n",
    "    j = 1\n",
    "    while j <=i:\n",
    "        print(\"*\", end=\" \")\n",
    "        j = j+1\n",
    "    print(\"\")\n",
    "    i = i +1"
   ]
  },
  {
   "cell_type": "code",
   "execution_count": 2,
   "id": "17a78d34",
   "metadata": {},
   "outputs": [
    {
     "name": "stdout",
     "output_type": "stream",
     "text": [
      "* * * * * \n",
      "* * * * \n",
      "* * * \n",
      "* * \n",
      "* \n"
     ]
    }
   ],
   "source": [
    "i =5 \n",
    "while i >=1:\n",
    "    j = 1\n",
    "    while j <=i:\n",
    "        print(\"*\", end=\" \")\n",
    "        j = j+1\n",
    "    print(\"\")\n",
    "    i = i -1"
   ]
  },
  {
   "cell_type": "code",
   "execution_count": 4,
   "id": "f027d3fc",
   "metadata": {},
   "outputs": [
    {
     "name": "stdout",
     "output_type": "stream",
     "text": [
      "        * * * * * * \n",
      "         * * * * * \n",
      "          * * * * \n",
      "           * * * \n",
      "            * * \n",
      "             * \n"
     ]
    }
   ],
   "source": [
    "rows = 5\n",
    "k = 2 * rows - 2\n",
    "for i in range(rows, -1, -1):\n",
    "    for j in range(k, 0, -1):\n",
    "        print(end=\" \")\n",
    "    k = k + 1\n",
    "    for j in range(0, i + 1):\n",
    "        print(\"*\", end=\" \")\n",
    "    print(\"\")"
   ]
  },
  {
   "cell_type": "code",
   "execution_count": null,
   "id": "420c3f56",
   "metadata": {},
   "outputs": [],
   "source": []
  },
  {
   "cell_type": "markdown",
   "id": "2dbb34a4",
   "metadata": {},
   "source": [
    "Solution of Q7 "
   ]
  },
  {
   "cell_type": "code",
   "execution_count": 10,
   "id": "20be2b53",
   "metadata": {},
   "outputs": [
    {
     "name": "stdout",
     "output_type": "stream",
     "text": [
      "10\n",
      "9\n",
      "8\n",
      "7\n",
      "6\n",
      "5\n",
      "4\n",
      "3\n",
      "2\n",
      "1\n"
     ]
    }
   ],
   "source": [
    "i = 10\n",
    "while i>=1:\n",
    "    print(i)\n",
    "    i = i -1\n",
    "    "
   ]
  },
  {
   "cell_type": "code",
   "execution_count": null,
   "id": "6a4e740e",
   "metadata": {},
   "outputs": [],
   "source": []
  }
 ],
 "metadata": {
  "kernelspec": {
   "display_name": "Python 3 (ipykernel)",
   "language": "python",
   "name": "python3"
  },
  "language_info": {
   "codemirror_mode": {
    "name": "ipython",
    "version": 3
   },
   "file_extension": ".py",
   "mimetype": "text/x-python",
   "name": "python",
   "nbconvert_exporter": "python",
   "pygments_lexer": "ipython3",
   "version": "3.10.5"
  },
  "vscode": {
   "interpreter": {
    "hash": "1054a7a49a1e71cf56a00056a6a19c040518611134794bea1941b5b8074fd562"
   }
  }
 },
 "nbformat": 4,
 "nbformat_minor": 5
}
