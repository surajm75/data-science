{
 "cells": [
  {
   "cell_type": "markdown",
   "id": "64d5a675",
   "metadata": {},
   "source": [
    "Q1. Calculate the 95% confidence interval for a sample of data with a mean of 50 and a standard deviation\n",
    "of 5 using Python. Interpret the results."
   ]
  },
  {
   "cell_type": "markdown",
   "id": "39c0ed89",
   "metadata": {},
   "source": [
    "s_mean = 50, s_std = 5\n",
    "considering sample size(n) = 30\n",
    "\n",
    "t_stat for 95% confidence interval and df= 29 is 2.045\n",
    "\n",
    "margin of error = 2.045 * 5 /sqrt(30) = 1.87\n",
    "\n",
    "confidence interwal is ((50-1.87), (50+1.87)) = (48.13,51.87)"
   ]
  },
  {
   "cell_type": "code",
   "execution_count": null,
   "id": "c5476021",
   "metadata": {},
   "outputs": [],
   "source": [
    "#also using python code"
   ]
  },
  {
   "cell_type": "code",
   "execution_count": 6,
   "id": "e9460c71",
   "metadata": {},
   "outputs": [
    {
     "name": "stdout",
     "output_type": "stream",
     "text": [
      "The 95% confidence interval is (48.13, 51.87)\n"
     ]
    }
   ],
   "source": [
    "import scipy.stats as stats\n",
    "\n",
    "# Sample mean and standard deviation\n",
    "sample_mean = 50\n",
    "sample_std = 5\n",
    "\n",
    "# Sample size\n",
    "n = 30\n",
    "\n",
    "# Calculate the standard error\n",
    "std_error = sample_std / (n ** 0.5)\n",
    "\n",
    "# Calculate the t-value for a 95% confidence level and 29 degrees of freedom (n-1)\n",
    "t_value = stats.t.ppf(0.975, n-1)\n",
    "\n",
    "# Calculate the margin of error\n",
    "margin_of_error = t_value * std_error\n",
    "\n",
    "# Calculate the confidence interval\n",
    "lower_ci = sample_mean - margin_of_error\n",
    "upper_ci = sample_mean + margin_of_error\n",
    "\n",
    "print(\"The 95% confidence interval is ({:.2f}, {:.2f})\".format(lower_ci, upper_ci))"
   ]
  },
  {
   "cell_type": "markdown",
   "id": "a454c0eb",
   "metadata": {},
   "source": [
    "Q2. Conduct a chi-square goodness of fit test to determine if the distribution of colors of M&Ms in a bag\n",
    "matches the expected distribution of 20% blue, 20% orange, 20% green, 10% yellow, 10% red, and 20%\n",
    "brown. Use Python to perform the test with a significance level of 0.05."
   ]
  },
  {
   "cell_type": "markdown",
   "id": "766c979e",
   "metadata": {},
   "source": [
    "#note - the observed distribution of colors of M&Ms is not given so we assume it According to the manufacturer of M&M candy, the color distribution for plain chocolate M&Ms is 13% brown, 13% red, 14% yellow, 24% blue, 20% orange, and 16% green."
   ]
  },
  {
   "cell_type": "code",
   "execution_count": 20,
   "id": "e45337e9",
   "metadata": {},
   "outputs": [
    {
     "name": "stdout",
     "output_type": "stream",
     "text": [
      "chisquare_test_stat :6.550000000000001\n",
      "p_value :0.25631474736672877\n",
      "critical_value :11.070497693516351\n",
      "Accept the null hypothesis and conclude the distribution of colors of M&Ms in a bag matches the expected distribution \n"
     ]
    }
   ],
   "source": [
    "import numpy as np\n",
    "import scipy.stats as stat\n",
    "observed_data = np.array([24,20,16,14,13,13])\n",
    "expected_data = np.array([20,20,20,10,10,20])\n",
    "\n",
    "chisquare_test_stat, p_value = stat.chisquare(observed_data,expected_data)\n",
    "\n",
    "print(f\"chisquare_test_stat :{chisquare_test_stat}\")\n",
    "print(f\"p_value :{p_value}\")\n",
    "\n",
    "\n",
    "sig_lvl = 0.05\n",
    "\n",
    "df = len(observed_data) - 1\n",
    "critical_value = stat.chi2.ppf(1-sig_lvl,df)\n",
    "print(f\"critical_value :{critical_value}\")\n",
    "\n",
    "if chisquare_test_stat>critical_value:\n",
    "    print(\"Reject the null hypothesis and conclude the distribution of colors of M&Ms in a bag not matches the expected distribution\")\n",
    "else:\n",
    "    print(\"Accept the null hypothesis and conclude the distribution of colors of M&Ms in a bag matches the expected distribution \")\n"
   ]
  },
  {
   "cell_type": "markdown",
   "id": "37d4f211",
   "metadata": {},
   "source": [
    "Q3. Use Python to calculate the chi-square statistic and p-value for a contingency table with the following\n",
    "data:\n",
    "          GroupA  Group B   \n",
    "Outcome 1 20      15\n",
    "Outcome 2 10      25\n",
    "Outcome 3 15      20\n",
    "\n",
    "Interpret the results of the test.\n",
    "    \n"
   ]
  },
  {
   "cell_type": "code",
   "execution_count": 28,
   "id": "af7c63c9",
   "metadata": {},
   "outputs": [
    {
     "name": "stdout",
     "output_type": "stream",
     "text": [
      "chisquare_test_stat :5.833333333333334\n",
      "p_value :0.05411376622282158\n"
     ]
    }
   ],
   "source": [
    "import numpy as np\n",
    "import scipy.stats as stat\n",
    "\n",
    "observed_data = np.array([[20,15],[10,25],[15,20]])\n",
    "\n",
    "\n",
    "chisquare_test_stat, p_value, df, expected = stat.chi2_contingency(observed_data)\n",
    "\n",
    "print(f\"chisquare_test_stat :{chisquare_test_stat}\")\n",
    "print(f\"p_value :{p_value}\")\n"
   ]
  },
  {
   "cell_type": "markdown",
   "id": "39225eee",
   "metadata": {},
   "source": [
    "Q4. A study of the prevalence of smoking in a population of 500 individuals found that 60 individuals\n",
    "smoked. Use Python to calculate the 95% confidence interval for the true proportion of individuals in the\n",
    "population who smoke."
   ]
  },
  {
   "cell_type": "code",
   "execution_count": 37,
   "id": "41721984",
   "metadata": {},
   "outputs": [
    {
     "name": "stdout",
     "output_type": "stream",
     "text": [
      "The 95% confidence interval for the true proportion of individuals who smoke is (0.09151638887130706, 0.14848361112869293)\n"
     ]
    }
   ],
   "source": [
    "import statsmodels.stats.proportion as proportion\n",
    "n = 500\n",
    "no_smokers = 60\n",
    "p_smokers = no_smokers / n\n",
    "\n",
    "std_error = proportion.std_prop(p_smokers, n)\n",
    "lower, uper = proportion.proportion_confint(no_smokers,n,alpha= 0.05,method='normal',)\n",
    "\n",
    "print(f\"The 95% confidence interval for the true proportion of individuals who smoke is ({lower}, {uper})\")"
   ]
  },
  {
   "cell_type": "markdown",
   "id": "932e72e3",
   "metadata": {},
   "source": [
    "Q5. Calculate the 90% confidence interval for a sample of data with a mean of 75 and a standard deviation\n",
    "of 12 using Python. Interpret the results."
   ]
  },
  {
   "cell_type": "code",
   "execution_count": 39,
   "id": "a9ade9fd",
   "metadata": {},
   "outputs": [
    {
     "name": "stdout",
     "output_type": "stream",
     "text": [
      "The 95% confidence interval is (74.11563709119311, 75.88436290880689)\n"
     ]
    }
   ],
   "source": [
    "import scipy.stats as stat\n",
    "\n",
    "sample_mean = 75\n",
    "sample_std = 12\n",
    "\n",
    "#let's assume n = 50\n",
    "std_error = sample_std / (n ** 0.5)\n",
    "t_value = stat.t.ppf(0.95, n-1)\n",
    "\n",
    "margin_eror = t_value * std_error\n",
    "\n",
    "lower  = sample_mean - margin_eror\n",
    "upper = sample_mean + margin_eror\n",
    "\n",
    "print(f\"The 95% confidence interval is ({lower}, {upper})\")"
   ]
  },
  {
   "cell_type": "markdown",
   "id": "b6fcb665",
   "metadata": {},
   "source": [
    "Q6. Use Python to plot the chi-square distribution with 10 degrees of freedom. Label the axes and shade the\n",
    "area corresponding to a chi-square statistic of 15."
   ]
  },
  {
   "cell_type": "code",
   "execution_count": 47,
   "id": "7bd06b0a",
   "metadata": {},
   "outputs": [
    {
     "data": {
      "image/png": "[encoded data removed]",
      "text/plain": [
       "<Figure size 640x480 with 1 Axes>"
      ]
     },
     "metadata": {},
     "output_type": "display_data"
    }
   ],
   "source": [
    "import numpy as np\n",
    "import scipy.stats as stats\n",
    "import matplotlib.pyplot as plt\n",
    "df = 10\n",
    "x = np.linspace(0,30,500)\n",
    "\n",
    "chi2_dist = stats.chi2(df)\n",
    "y = chi2_dist.pdf(x)\n",
    "\n",
    "plt.plot(x, y , label = \"Chi-square distribution\")\n",
    "\n",
    "#shading the area\n",
    "x_shade = np.linspace(15,30,100)\n",
    "y_shade = chi2_dist.pdf(x_shade)\n",
    "plt.fill_between(x_shade, y_shade, color = 'red', alpha = 0.5, label=\"Area corresponding to \\n chi-square statistic of 15\")\n",
    "\n",
    "\n",
    "plt.xlabel(\"Chi-square statistic\")\n",
    "plt.ylabel(\"Probability density\")\n",
    "plt.title(\"Chi-square distribution with {} degrees of freedom\".format(df))\n",
    "plt.legend()\n",
    "\n",
    "# Show the plot\n",
    "plt.show()\n"
   ]
  },
  {
   "cell_type": "markdown",
   "id": "56d65b54",
   "metadata": {},
   "source": [
    "Q7. A random sample of 1000 people was asked if they preferred Coke or Pepsi. Of the sample, 520\n",
    "preferred Coke. Calculate a 99% confidence interval for the true proportion of people in the population who\n",
    "prefer Coke."
   ]
  },
  {
   "cell_type": "code",
   "execution_count": 49,
   "id": "145d9a32",
   "metadata": {},
   "outputs": [
    {
     "name": "stdout",
     "output_type": "stream",
     "text": [
      "The 99% confidence interval for the true proportion of individuals who smoke is (0.4793051576779699, 0.5606948423220302)\n"
     ]
    }
   ],
   "source": [
    "import statsmodels.stats.proportion as proportion\n",
    "n = 1000\n",
    "no_coke = 520\n",
    "p_coke = no_smokers / n\n",
    "\n",
    "std_error = proportion.std_prop(p_coke, n)\n",
    "lower, uper = proportion.proportion_confint(no_coke,n,alpha= 0.01,method='normal',)\n",
    "\n",
    "print(f\"The 99% confidence interval for the true proportion of individuals who smoke is ({lower}, {uper})\")"
   ]
  },
  {
   "cell_type": "markdown",
   "id": "f0aaa89a",
   "metadata": {},
   "source": [
    "Q8. A researcher hypothesizes that a coin is biased towards tails. They flip the coin 100 times and observe\n",
    "45 tails. Conduct a chi-square goodness of fit test to determine if the observed frequencies match the\n",
    "expected frequencies of a fair coin. Use a significance level of 0.05."
   ]
  },
  {
   "cell_type": "code",
   "execution_count": 51,
   "id": "ef521ba4",
   "metadata": {},
   "outputs": [
    {
     "name": "stdout",
     "output_type": "stream",
     "text": [
      "chisquare_test_stat :1.0\n",
      "p_value :0.31731050786291115\n",
      "critical_value :3.841458820694124\n",
      "Accept the null hypothesis and conclude the coin is fair \n"
     ]
    }
   ],
   "source": [
    "import numpy as np\n",
    "import scipy.stats as stat\n",
    "\n",
    "null_hypothesis = \"The coin is fair\"\n",
    "alternative_hypothesis = \"The coin is biased towards tails\"\n",
    "\n",
    "observed_data = np.array([55,45])\n",
    "expected_data = np.array([50,50])\n",
    "\n",
    "chisquare_test_stat, p_value = stat.chisquare(observed_data,expected_data)\n",
    "\n",
    "print(f\"chisquare_test_stat :{chisquare_test_stat}\")\n",
    "print(f\"p_value :{p_value}\")\n",
    "\n",
    "\n",
    "sig_lvl = 0.05\n",
    "\n",
    "df = len(observed_data) - 1\n",
    "critical_value = stat.chi2.ppf(1-sig_lvl,df)\n",
    "print(f\"critical_value :{critical_value}\")\n",
    "\n",
    "if chisquare_test_stat>critical_value:\n",
    "    print(\"Reject the null hypothesis and conclude The coin is biased towards tails \")\n",
    "else:\n",
    "    print(\"Accept the null hypothesis and conclude the coin is fair \")\n",
    "\n",
    "\n"
   ]
  },
  {
   "cell_type": "markdown",
   "id": "eed9d4cf",
   "metadata": {},
   "source": [
    "Q9. A study was conducted to determine if there is an association between smoking status (smoker or\n",
    "non-smoker) and lung cancer diagnosis (yes or no). The results are shown in the contingency table below.\n",
    "Conduct a chi-square test for independence to determine if there is a significant association between\n",
    "smoking status and lung cancer diagnosis.\n",
    "\n",
    "Use a significance level of 0.05.\n",
    "\n",
    "Lung Cancer:    Yes    No\n",
    "\n",
    "Smoker          60    140\n",
    "Non-smoker      30    170"
   ]
  },
  {
   "cell_type": "code",
   "execution_count": 53,
   "id": "155c5e82",
   "metadata": {},
   "outputs": [
    {
     "name": "stdout",
     "output_type": "stream",
     "text": [
      "chisquare_test_stat :12.057347670250895\n",
      "p_value :0.0005158863863703744\n",
      "Reject the null hypothesis and conclude there is no significant association between smoking status and lung cancer diagnosis.\n"
     ]
    }
   ],
   "source": [
    "import numpy as np\n",
    "import scipy.stats as stat\n",
    "\n",
    "observed_data = np.array([[60,140],[30,170]])\n",
    "\n",
    "\n",
    "chisquare_test_stat, p_value, df, expected = stat.chi2_contingency(observed_data)\n",
    "\n",
    "print(f\"chisquare_test_stat :{chisquare_test_stat}\")\n",
    "print(f\"p_value :{p_value}\")\n",
    "\n",
    "sigficance_level = 0.05\n",
    "if p_value < sigficance_level:\n",
    "    print(\"Reject the null hypothesis and conclude there is no significant association between smoking status and lung cancer diagnosis.\")\n",
    "else:\n",
    "    print(\"Failed to Reject the null hypothesis and conclude there is a significant association between smoking status and lung cancer diagnosis.\")"
   ]
  },
  {
   "cell_type": "code",
   "execution_count": null,
   "id": "ccf5f936",
   "metadata": {},
   "outputs": [],
   "source": [
    "Q10. A study was conducted to determine if the proportion of people who prefer milk chocolate, dark\n",
    "chocolate, or white chocolate is different in the U.S. versus the U.K. A random sample of 500 people from\n",
    "the U.S. and a random sample of 500 people from the U.K. were surveyed. The results are shown in the\n",
    "contingency table below. Conduct a chi-square test for independence to determine if there is a significant\n",
    "association between chocolate preference and country of origin.\n",
    "\n",
    "Milk Chocolate\n",
    "\n",
    "U.S. (n=500) 200 150 150\n",
    "U.K. (n=500) 225 175 100\n",
    "\n",
    "Use a significance level of 0.01."
   ]
  },
  {
   "cell_type": "code",
   "execution_count": 57,
   "id": "26e04e42",
   "metadata": {},
   "outputs": [
    {
     "name": "stdout",
     "output_type": "stream",
     "text": [
      "chisquare_test_stat :13.393665158371041\n",
      "p_value :0.0012348168997745915\n",
      "critical_value :6.6348966010212145\n",
      "Reject the null hypothesis and conclude there is no significant association between chocolate preference and country of origin.\n"
     ]
    }
   ],
   "source": [
    "import numpy as np\n",
    "import scipy.stats as stat\n",
    "\n",
    "observed_data = np.array([[200,150,150],[225,175,100]])\n",
    "\n",
    "\n",
    "chisquare_test_stat, p_value, df, expected = stat.chi2_contingency(observed_data)\n",
    "\n",
    "print(f\"chisquare_test_stat :{chisquare_test_stat}\")\n",
    "print(f\"p_value :{p_value}\")\n",
    "\n",
    "sig_lvl = 0.01\n",
    "\n",
    "df = len(observed_data) - 1\n",
    "critical_value = stat.chi2.ppf(1-sig_lvl,df)\n",
    "print(f\"critical_value :{critical_value}\")\n",
    "\n",
    "if chisquare_test_stat>critical_value:\n",
    "    print(\"Reject the null hypothesis and conclude there is no significant association between chocolate preference and country of origin.\")\n",
    "else:\n",
    "    print(\"Failed to Reject the null hypothesis and conclude there is a significant association between chocolate preference and country of origin.\")"
   ]
  },
  {
   "cell_type": "markdown",
   "id": "9d33ca06",
   "metadata": {},
   "source": [
    "Q11. A random sample of 30 people was selected from a population with an unknown mean and standard\n",
    "deviation. The sample mean was found to be 72 and the sample standard deviation was found to be 10.\n",
    "Conduct a hypothesis test to determine if the population mean is significantly different from 70. Use a\n",
    "significance level of 0.05."
   ]
  },
  {
   "cell_type": "code",
   "execution_count": null,
   "id": "06f414fd",
   "metadata": {},
   "outputs": [],
   "source": []
  },
  {
   "cell_type": "code",
   "execution_count": 63,
   "id": "527ee4fc",
   "metadata": {},
   "outputs": [
    {
     "name": "stdout",
     "output_type": "stream",
     "text": [
      "t-test statistic: nan\n",
      "p-value: nan\n"
     ]
    }
   ],
   "source": [
    "import scipy.stats as stats\n",
    "import numpy as np\n",
    "\n",
    "null_hypothesis = \"The population mean is equal to 70\"\n",
    "alternative_hypothesis = \"The population mean is not equal to 70\"\n",
    "\n",
    "sample_mean = 72\n",
    "sample_std = 10\n",
    "sample_size = 30\n",
    "\n",
    "significance_level = 0.05 \n",
    "\n",
    "t, p = stats.ttest_1samp([sample_mean], 70, axis=0, alternative=\"two-sided\")\n",
    "\n",
    "print(f\"t-test statistic: {t}\")\n",
    "print(f\"p-value: {p}\")"
   ]
  },
  {
   "cell_type": "code",
   "execution_count": 66,
   "id": "350b8008",
   "metadata": {},
   "outputs": [
    {
     "name": "stdout",
     "output_type": "stream",
     "text": [
      "The sample size is too small. Cannot perform the t-test.\n"
     ]
    }
   ],
   "source": [
    "import numpy as np\n",
    "import scipy.stats as stats\n",
    "\n",
    "# Define the null and alternative hypotheses\n",
    "# H0: The population mean is equal to 70\n",
    "# H1: The population mean is not equal to 70\n",
    "null_hypothesis = \"The population mean is equal to 70\"\n",
    "alternative_hypothesis = \"The population mean is not equal to 70\"\n",
    "\n",
    "# Define the significance level\n",
    "significance_level = 0.05\n",
    "\n",
    "# Define the sample size, sample mean, and sample standard deviation\n",
    "sample_size = 30\n",
    "sample_mean = 72\n",
    "sample_std = 10\n",
    "\n",
    "# Check if the sample standard deviation is zero\n",
    "if sample_std == 0:\n",
    "    print(\"The sample standard deviation is zero. Cannot perform the t-test.\")\n",
    "else:\n",
    "    # Calculate the t-test statistic and p-value\n",
    "    t, p = stats.ttest_1samp([sample_mean], 70, axis=0, alternative=\"two-sided\", nan_policy=\"omit\")\n",
    "\n",
    "    # Check if the p-value is nan\n",
    "    if np.isnan(p):\n",
    "        print(\"The sample size is too small. Cannot perform the t-test.\")\n",
    "    else:\n",
    "        # Print the results\n",
    "        print(\"t-test statistic: {:.2f}\".format(t))\n",
    "        print(\"p-value: {:.4f}\".format(p))\n",
    "\n",
    "        # Compare the p-value with the significance level\n",
    "        if p < significance_level:\n",
    "            print(\"Based on the p-value of {:.4f}, we reject the null hypothesis.\".format(p))\n",
    "            print(alternative_hypothesis)\n",
    "        else:\n",
    "            print(\"Based on the p-value of {:.4f}, we fail to reject the null hypothesis.\".format(p))\n",
    "            print(null_hypothesis)"
   ]
  },
  {
   "cell_type": "code",
   "execution_count": null,
   "id": "dadaa854",
   "metadata": {},
   "outputs": [],
   "source": []
  }
 ],
 "metadata": {
  "kernelspec": {
   "display_name": "Python 3 (ipykernel)",
   "language": "python",
   "name": "python3"
  },
  "language_info": {
   "codemirror_mode": {
    "name": "ipython",
    "version": 3
   },
   "file_extension": ".py",
   "mimetype": "text/x-python",
   "name": "python",
   "nbconvert_exporter": "python",
   "pygments_lexer": "ipython3",
   "version": "3.10.5"
  }
 },
 "nbformat": 4,
 "nbformat_minor": 5
}
