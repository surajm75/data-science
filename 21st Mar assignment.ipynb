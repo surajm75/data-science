{
 "cells": [
  {
   "cell_type": "markdown",
   "id": "305ec817",
   "metadata": {},
   "source": [
    "Q1. What is the difference between Ordinal Encoding and Label Encoding? Provide an example of when you\n",
    "might choose one over the other."
   ]
  },
  {
   "cell_type": "markdown",
   "id": "51485652",
   "metadata": {},
   "source": [
    "Ordinal Encoding and Label Encoding are two methods used for converting categorical variables into numerical representations in machine learning and data analysis. They are used to prepare categorical data for training machine learning models that typically require numerical input.\n",
    "\n",
    "When to choose one over the other:\n",
    "\n",
    "Ordinal Encoding is suitable when the categorical variable has an inherent ordinal relationship between categories, meaning the categories have a meaningful order or rank. For example, \"Low\", \"Medium\", and \"High\" have a natural order, and Ordinal Encoding can capture that information.\n",
    "\n",
    "Label Encoding is appropriate when there is no inherent ordinal relationship between categories, and they are treated as arbitrary labels without any particular order. For example, \"Red\", \"Green\", and \"Blue\" are just three different categories without any meaningful order, and Label Encoding can be used in this case."
   ]
  },
  {
   "cell_type": "markdown",
   "id": "4875bdc6",
   "metadata": {},
   "source": [
    "Q2. Explain how Target Guided Ordinal Encoding works and provide an example of when you might use it in\n",
    "a machine learning project."
   ]
  },
  {
   "cell_type": "markdown",
   "id": "0322e865",
   "metadata": {},
   "source": [
    "Target Guided Ordinal Encoding is a method of encoding categorical variables based on the mean of the target variable for each category. It is a data-driven approach that takes into account the relationship between the categorical variable and the target variable in a supervised machine learning setting. This method can be useful when dealing with categorical variables where the categories have an ordinal relationship with the target variable, and the goal is to capture this relationship in the encoded values.\n",
    "Example - "
   ]
  },
  {
   "cell_type": "code",
   "execution_count": 1,
   "id": "ec10eead",
   "metadata": {},
   "outputs": [
    {
     "data": {
      "text/html": [
       "<div>\n",
       "<style scoped>\n",
       "    .dataframe tbody tr th:only-of-type {\n",
       "        vertical-align: middle;\n",
       "    }\n",
       "\n",
       "    .dataframe tbody tr th {\n",
       "        vertical-align: top;\n",
       "    }\n",
       "\n",
       "    .dataframe thead th {\n",
       "        text-align: right;\n",
       "    }\n",
       "</style>\n",
       "<table border=\"1\" class=\"dataframe\">\n",
       "  <thead>\n",
       "    <tr style=\"text-align: right;\">\n",
       "      <th></th>\n",
       "      <th>city</th>\n",
       "      <th>price</th>\n",
       "    </tr>\n",
       "  </thead>\n",
       "  <tbody>\n",
       "    <tr>\n",
       "      <th>0</th>\n",
       "      <td>New York</td>\n",
       "      <td>200</td>\n",
       "    </tr>\n",
       "    <tr>\n",
       "      <th>1</th>\n",
       "      <td>London</td>\n",
       "      <td>150</td>\n",
       "    </tr>\n",
       "    <tr>\n",
       "      <th>2</th>\n",
       "      <td>Paris</td>\n",
       "      <td>300</td>\n",
       "    </tr>\n",
       "    <tr>\n",
       "      <th>3</th>\n",
       "      <td>Tokyo</td>\n",
       "      <td>250</td>\n",
       "    </tr>\n",
       "    <tr>\n",
       "      <th>4</th>\n",
       "      <td>New York</td>\n",
       "      <td>180</td>\n",
       "    </tr>\n",
       "    <tr>\n",
       "      <th>5</th>\n",
       "      <td>Paris</td>\n",
       "      <td>320</td>\n",
       "    </tr>\n",
       "  </tbody>\n",
       "</table>\n",
       "</div>"
      ],
      "text/plain": [
       "       city  price\n",
       "0  New York    200\n",
       "1    London    150\n",
       "2     Paris    300\n",
       "3     Tokyo    250\n",
       "4  New York    180\n",
       "5     Paris    320"
      ]
     },
     "execution_count": 1,
     "metadata": {},
     "output_type": "execute_result"
    }
   ],
   "source": [
    "import pandas as pd\n",
    "df = pd.DataFrame({'city': ['New York', 'London', 'Paris', 'Tokyo', 'New York', 'Paris'], 'price': [200,150,300,250,180,320]})\n",
    "df"
   ]
  },
  {
   "cell_type": "code",
   "execution_count": 7,
   "id": "3c21a4f3",
   "metadata": {},
   "outputs": [
    {
     "data": {
      "text/html": [
       "<div>\n",
       "<style scoped>\n",
       "    .dataframe tbody tr th:only-of-type {\n",
       "        vertical-align: middle;\n",
       "    }\n",
       "\n",
       "    .dataframe tbody tr th {\n",
       "        vertical-align: top;\n",
       "    }\n",
       "\n",
       "    .dataframe thead th {\n",
       "        text-align: right;\n",
       "    }\n",
       "</style>\n",
       "<table border=\"1\" class=\"dataframe\">\n",
       "  <thead>\n",
       "    <tr style=\"text-align: right;\">\n",
       "      <th></th>\n",
       "      <th>city</th>\n",
       "      <th>price</th>\n",
       "      <th>city_encoded</th>\n",
       "    </tr>\n",
       "  </thead>\n",
       "  <tbody>\n",
       "    <tr>\n",
       "      <th>0</th>\n",
       "      <td>New York</td>\n",
       "      <td>200</td>\n",
       "      <td>190.0</td>\n",
       "    </tr>\n",
       "    <tr>\n",
       "      <th>1</th>\n",
       "      <td>London</td>\n",
       "      <td>150</td>\n",
       "      <td>150.0</td>\n",
       "    </tr>\n",
       "    <tr>\n",
       "      <th>2</th>\n",
       "      <td>Paris</td>\n",
       "      <td>300</td>\n",
       "      <td>310.0</td>\n",
       "    </tr>\n",
       "    <tr>\n",
       "      <th>3</th>\n",
       "      <td>Tokyo</td>\n",
       "      <td>250</td>\n",
       "      <td>250.0</td>\n",
       "    </tr>\n",
       "    <tr>\n",
       "      <th>4</th>\n",
       "      <td>New York</td>\n",
       "      <td>180</td>\n",
       "      <td>190.0</td>\n",
       "    </tr>\n",
       "    <tr>\n",
       "      <th>5</th>\n",
       "      <td>Paris</td>\n",
       "      <td>320</td>\n",
       "      <td>310.0</td>\n",
       "    </tr>\n",
       "  </tbody>\n",
       "</table>\n",
       "</div>"
      ],
      "text/plain": [
       "       city  price  city_encoded\n",
       "0  New York    200         190.0\n",
       "1    London    150         150.0\n",
       "2     Paris    300         310.0\n",
       "3     Tokyo    250         250.0\n",
       "4  New York    180         190.0\n",
       "5     Paris    320         310.0"
      ]
     },
     "execution_count": 7,
     "metadata": {},
     "output_type": "execute_result"
    }
   ],
   "source": [
    "mean_price = df.groupby('city')['price'].mean().to_dict()\n",
    "df['city_encoded'] = df['city'].map(mean_price)\n",
    "df"
   ]
  },
  {
   "cell_type": "markdown",
   "id": "c34f2be7",
   "metadata": {},
   "source": [
    "Q3. Define covariance and explain why it is important in statistical analysis. How is covariance calculated?"
   ]
  },
  {
   "cell_type": "markdown",
   "id": "f2de8e27",
   "metadata": {},
   "source": [
    "Covariance is a statistical measure that describes the extent to which two random variables change together. It quantifies the direction and magnitude of the linear relationship between two variables. A positive covariance indicates that when one variable increases, the other tends to increase as well, and when one variable decreases, the other tends to decrease as well. A negative covariance indicates an inverse relationship, where one variable tends to increase as the other decreases, and vice versa. A covariance of zero indicates no linear relationship between the variables.\n",
    "\n",
    "Covariance is an important concept in statistical analysis for several reasons:\n",
    "\n",
    "Relationship Assessment: Covariance helps to assess the direction and strength of the relationship between two variables. It is used to determine whether the variables tend to move together or in opposite directions, and the magnitude of their association.\n",
    "\n",
    "Portfolio Diversification: In finance, covariance is used to assess the diversification benefits of combining different assets in a portfolio. A portfolio that includes assets with low or negative covariance can reduce overall risk and increase potential returns.\n",
    "\n",
    "Regression Analysis: Covariance is used in regression analysis to estimate the coefficients of a regression model. Covariance between the predictor variables and the response variable helps to determine the strength and direction of their relationship, which is used to make predictions and infer statistical significance.\n",
    "\n",
    "Risk Management: Covariance is used in risk management to assess the risk of multiple variables collectively. It helps to understand how changes in one variable may affect other variables, which is important in managing risks associated with different factors.\n",
    "\n",
    "Covariance is calculated using the following formula:\n",
    "\n",
    "Cov(X, Y) = Σ [(xi - μx) * (yi - μy)] / (n - 1)\n",
    "\n",
    "Where:\n",
    "\n",
    "Cov(X, Y) is the covariance between variables X and Y.\n",
    "xi and yi are the individual data points of X and Y, respectively.\n",
    "μx and μy are the means of X and Y, respectively.\n",
    "n is the number of data points in X and Y."
   ]
  },
  {
   "cell_type": "markdown",
   "id": "201db05b",
   "metadata": {},
   "source": [
    "Q4. For a dataset with the following categorical variables: Color (red, green, blue), Size (small, medium,\n",
    "large), and Material (wood, metal, plastic), perform label encoding using Python's scikit-learn library.\n",
    "Show your code and explain the output."
   ]
  },
  {
   "cell_type": "code",
   "execution_count": 12,
   "id": "c600adc4",
   "metadata": {},
   "outputs": [],
   "source": [
    "dic = {'Color': ['red', 'green', 'blue'], 'Size': ['small', 'medium','large'],'Material':['wood', 'metal', 'plastic']}"
   ]
  },
  {
   "cell_type": "code",
   "execution_count": 9,
   "id": "392467fd",
   "metadata": {},
   "outputs": [
    {
     "data": {
      "text/html": [
       "<div>\n",
       "<style scoped>\n",
       "    .dataframe tbody tr th:only-of-type {\n",
       "        vertical-align: middle;\n",
       "    }\n",
       "\n",
       "    .dataframe tbody tr th {\n",
       "        vertical-align: top;\n",
       "    }\n",
       "\n",
       "    .dataframe thead th {\n",
       "        text-align: right;\n",
       "    }\n",
       "</style>\n",
       "<table border=\"1\" class=\"dataframe\">\n",
       "  <thead>\n",
       "    <tr style=\"text-align: right;\">\n",
       "      <th></th>\n",
       "      <th>Color</th>\n",
       "      <th>Size</th>\n",
       "      <th>Material</th>\n",
       "    </tr>\n",
       "  </thead>\n",
       "  <tbody>\n",
       "    <tr>\n",
       "      <th>0</th>\n",
       "      <td>red</td>\n",
       "      <td>small</td>\n",
       "      <td>wood</td>\n",
       "    </tr>\n",
       "    <tr>\n",
       "      <th>1</th>\n",
       "      <td>green</td>\n",
       "      <td>medium</td>\n",
       "      <td>metal</td>\n",
       "    </tr>\n",
       "    <tr>\n",
       "      <th>2</th>\n",
       "      <td>blue</td>\n",
       "      <td>large</td>\n",
       "      <td>plastic</td>\n",
       "    </tr>\n",
       "  </tbody>\n",
       "</table>\n",
       "</div>"
      ],
      "text/plain": [
       "   Color    Size Material\n",
       "0    red   small     wood\n",
       "1  green  medium    metal\n",
       "2   blue   large  plastic"
      ]
     },
     "execution_count": 9,
     "metadata": {},
     "output_type": "execute_result"
    }
   ],
   "source": [
    "import pandas as pd\n",
    "df = pd.DataFrame(dict)\n",
    "df"
   ]
  },
  {
   "cell_type": "code",
   "execution_count": 16,
   "id": "30d05246",
   "metadata": {},
   "outputs": [],
   "source": [
    "from sklearn.preprocessing import OneHotEncoder\n",
    "encoder = OneHotEncoder()"
   ]
  },
  {
   "cell_type": "code",
   "execution_count": 22,
   "id": "987feaa2",
   "metadata": {},
   "outputs": [
    {
     "data": {
      "text/html": [
       "<div>\n",
       "<style scoped>\n",
       "    .dataframe tbody tr th:only-of-type {\n",
       "        vertical-align: middle;\n",
       "    }\n",
       "\n",
       "    .dataframe tbody tr th {\n",
       "        vertical-align: top;\n",
       "    }\n",
       "\n",
       "    .dataframe thead th {\n",
       "        text-align: right;\n",
       "    }\n",
       "</style>\n",
       "<table border=\"1\" class=\"dataframe\">\n",
       "  <thead>\n",
       "    <tr style=\"text-align: right;\">\n",
       "      <th></th>\n",
       "      <th>Color_blue</th>\n",
       "      <th>Color_green</th>\n",
       "      <th>Color_red</th>\n",
       "      <th>Size_large</th>\n",
       "      <th>Size_medium</th>\n",
       "      <th>Size_small</th>\n",
       "      <th>Material_metal</th>\n",
       "      <th>Material_plastic</th>\n",
       "      <th>Material_wood</th>\n",
       "    </tr>\n",
       "  </thead>\n",
       "  <tbody>\n",
       "    <tr>\n",
       "      <th>0</th>\n",
       "      <td>0.0</td>\n",
       "      <td>0.0</td>\n",
       "      <td>1.0</td>\n",
       "      <td>0.0</td>\n",
       "      <td>0.0</td>\n",
       "      <td>1.0</td>\n",
       "      <td>0.0</td>\n",
       "      <td>0.0</td>\n",
       "      <td>1.0</td>\n",
       "    </tr>\n",
       "    <tr>\n",
       "      <th>1</th>\n",
       "      <td>0.0</td>\n",
       "      <td>1.0</td>\n",
       "      <td>0.0</td>\n",
       "      <td>0.0</td>\n",
       "      <td>1.0</td>\n",
       "      <td>0.0</td>\n",
       "      <td>1.0</td>\n",
       "      <td>0.0</td>\n",
       "      <td>0.0</td>\n",
       "    </tr>\n",
       "    <tr>\n",
       "      <th>2</th>\n",
       "      <td>1.0</td>\n",
       "      <td>0.0</td>\n",
       "      <td>0.0</td>\n",
       "      <td>1.0</td>\n",
       "      <td>0.0</td>\n",
       "      <td>0.0</td>\n",
       "      <td>0.0</td>\n",
       "      <td>1.0</td>\n",
       "      <td>0.0</td>\n",
       "    </tr>\n",
       "  </tbody>\n",
       "</table>\n",
       "</div>"
      ],
      "text/plain": [
       "   Color_blue  Color_green  Color_red  Size_large  Size_medium  Size_small  \\\n",
       "0         0.0          0.0        1.0         0.0          0.0         1.0   \n",
       "1         0.0          1.0        0.0         0.0          1.0         0.0   \n",
       "2         1.0          0.0        0.0         1.0          0.0         0.0   \n",
       "\n",
       "   Material_metal  Material_plastic  Material_wood  \n",
       "0             0.0               0.0            1.0  \n",
       "1             1.0               0.0            0.0  \n",
       "2             0.0               1.0            0.0  "
      ]
     },
     "execution_count": 22,
     "metadata": {},
     "output_type": "execute_result"
    }
   ],
   "source": [
    "encoded = encoder.fit_transform(df[['Color','Size','Material']]).toarray()\n",
    "encoded_df = pd.DataFrame(encoded,columns = encoder.get_feature_names_out())\n",
    "encoded_df"
   ]
  },
  {
   "cell_type": "code",
   "execution_count": null,
   "id": "d6eeb71c",
   "metadata": {},
   "outputs": [],
   "source": [
    "#Second method"
   ]
  },
  {
   "cell_type": "code",
   "execution_count": 23,
   "id": "8e5b765b",
   "metadata": {},
   "outputs": [
    {
     "name": "stdout",
     "output_type": "stream",
     "text": [
      "Encoded Color: [2 1 0 2 0 1]\n",
      "Encoded Size: [2 1 0 1 2 0]\n",
      "Encoded Material: [2 0 1 1 2 0]\n"
     ]
    }
   ],
   "source": [
    "from sklearn.preprocessing import LabelEncoder\n",
    "\n",
    "color = ['red', 'green', 'blue', 'red', 'blue', 'green']\n",
    "size = ['small', 'medium', 'large', 'medium', 'small', 'large']\n",
    "material = ['wood', 'metal', 'plastic', 'plastic', 'wood', 'metal']\n",
    "\n",
    "label_encoder = LabelEncoder()\n",
    "\n",
    "color_encoded = label_encoder.fit_transform(color)\n",
    "print(\"Encoded Color:\", color_encoded)\n",
    "\n",
    "size_encoded = label_encoder.fit_transform(size)\n",
    "print(\"Encoded Size:\", size_encoded)\n",
    "material_encoded = label_encoder.fit_transform(material)\n",
    "print(\"Encoded Material:\", material_encoded)"
   ]
  },
  {
   "cell_type": "markdown",
   "id": "1d3d360d",
   "metadata": {},
   "source": [
    "Q5. Calculate the covariance matrix for the following variables in a dataset: Age, Income, and Education\n",
    "level. Interpret the results."
   ]
  },
  {
   "cell_type": "code",
   "execution_count": 26,
   "id": "a45b6cbf",
   "metadata": {},
   "outputs": [
    {
     "name": "stdout",
     "output_type": "stream",
     "text": [
      "The covariance matrix is [[5.48666667e+02 1.93800000e+05 6.38666667e+01]\n",
      " [1.93800000e+05 9.41600000e+08 6.80000000e+04]\n",
      " [6.38666667e+01 6.80000000e+04 1.18666667e+01]]\n"
     ]
    }
   ],
   "source": [
    "import numpy as np\n",
    "age = [12,34,56,78,43,25]\n",
    "income = [2000,67000,78000,40000,80000,75000]\n",
    "education = [8,14,16,18,14,16]\n",
    "data = np.vstack((age,income,education))\n",
    "cov_matrix = np.cov(data)\n",
    "print(f\"The covariance matrix is {cov_matrix}\")"
   ]
  },
  {
   "cell_type": "markdown",
   "id": "15063ec1",
   "metadata": {},
   "source": [
    "Q6. You are working on a machine learning project with a dataset containing several categorical\n",
    "variables, including \"Gender\" (Male/Female), \"Education Level\" (High School/Bachelor's/Master's/PhD),\n",
    "and \"Employment Status\" (Unemployed/Part-Time/Full-Time). Which encoding method would you use for\n",
    "each variable, and why?"
   ]
  },
  {
   "cell_type": "markdown",
   "id": "e468bd8f",
   "metadata": {},
   "source": [
    "For the categorical variables \"Gender\", \"Education Level\", and \"Employment Status\" in your machine learning project, there are several encoding methods that you can use to represent these variables as numerical values, depending on the characteristics of your dataset and the machine learning algorithm you plan to use. Here are some common encoding methods and their potential use cases:\n",
    "\n",
    "One-Hot Encoding: This method creates a binary (0/1) indicator variable for each category in a categorical variable. For example, \"Gender\" would be encoded as two binary variables, \"Male\" and \"Female\", with values of 0 or 1 to indicate the presence or absence of each category. One-hot encoding is suitable when there is no ordinal relationship or hierarchy among the categories, and you want to treat all categories as equally important.\n",
    "\n",
    "Label Encoding: This method assigns a unique numerical label to each category in a categorical variable. For example, \"Education Level\" could be encoded as 0 for \"High School\", 1 for \"Bachelor's\", 2 for \"Master's\", and 3 for \"PhD\". Label encoding is suitable when there is an ordinal relationship or hierarchy among the categories, where the numerical values represent the order or level of the categories.\n",
    "\n",
    "Binary Encoding: This method represents each category in a categorical variable as a binary sequence, where each binary digit represents the presence or absence of a category. For example, \"Employment Status\" could be encoded as \"Unemployed\" as 001, \"Part-Time\" as 010, and \"Full-Time\" as 100. Binary encoding is suitable when you have multiple categories and you want to minimize the number of binary variables needed to represent the categories"
   ]
  },
  {
   "cell_type": "markdown",
   "id": "ec190d96",
   "metadata": {},
   "source": [
    "Q7. You are analyzing a dataset with two continuous variables, \"Temperature\" and \"Humidity\", and two\n",
    "categorical variables, \"Weather Condition\" (Sunny/Cloudy/Rainy) and \"Wind Direction\" (North/South/\n",
    "East/West). Calculate the covariance between each pair of variables and interpret the results."
   ]
  },
  {
   "cell_type": "code",
   "execution_count": 39,
   "id": "dc38e3d6",
   "metadata": {},
   "outputs": [
    {
     "name": "stdout",
     "output_type": "stream",
     "text": [
      "32.5\n"
     ]
    }
   ],
   "source": [
    "import numpy as np\n",
    "import pandas as pd\n",
    "data = {'Temperature': [25, 30, 28, 20, 22],\n",
    "        'Humidity': [50, 60, 55, 40, 45],\n",
    "        'Weather Condition': ['Sunny', 'Cloudy', 'Rainy', 'Cloudy', 'Sunny'],\n",
    "        'Wind Direction': ['North', 'South', 'East', 'West', 'North']}\n",
    "df = pd.DataFrame(data)\n",
    "cov_temp_hum = np.cov(df['Temperature'], df['Humidity'])[0][1]\n",
    "print(cov_temp_hum)\n"
   ]
  },
  {
   "cell_type": "code",
   "execution_count": null,
   "id": "bc9f79f8",
   "metadata": {},
   "outputs": [],
   "source": []
  },
  {
   "cell_type": "code",
   "execution_count": null,
   "id": "16b6fe38",
   "metadata": {},
   "outputs": [],
   "source": []
  },
  {
   "cell_type": "code",
   "execution_count": null,
   "id": "1e9acd2e",
   "metadata": {},
   "outputs": [],
   "source": []
  },
  {
   "cell_type": "code",
   "execution_count": null,
   "id": "84303ae0",
   "metadata": {},
   "outputs": [],
   "source": []
  },
  {
   "cell_type": "code",
   "execution_count": null,
   "id": "b9ce9aca",
   "metadata": {},
   "outputs": [],
   "source": []
  },
  {
   "cell_type": "code",
   "execution_count": null,
   "id": "164eac3b",
   "metadata": {},
   "outputs": [],
   "source": []
  },
  {
   "cell_type": "code",
   "execution_count": null,
   "id": "e3afb32b",
   "metadata": {},
   "outputs": [],
   "source": []
  },
  {
   "cell_type": "code",
   "execution_count": null,
   "id": "c024e965",
   "metadata": {},
   "outputs": [],
   "source": []
  },
  {
   "cell_type": "code",
   "execution_count": null,
   "id": "2977b4f6",
   "metadata": {},
   "outputs": [],
   "source": []
  },
  {
   "cell_type": "code",
   "execution_count": null,
   "id": "a1804b33",
   "metadata": {},
   "outputs": [],
   "source": []
  },
  {
   "cell_type": "code",
   "execution_count": null,
   "id": "60e7f080",
   "metadata": {},
   "outputs": [],
   "source": []
  },
  {
   "cell_type": "code",
   "execution_count": null,
   "id": "b1b08d2f",
   "metadata": {},
   "outputs": [],
   "source": []
  },
  {
   "cell_type": "code",
   "execution_count": null,
   "id": "9fa39e87",
   "metadata": {},
   "outputs": [],
   "source": []
  },
  {
   "cell_type": "code",
   "execution_count": null,
   "id": "6835798b",
   "metadata": {},
   "outputs": [],
   "source": []
  },
  {
   "cell_type": "code",
   "execution_count": null,
   "id": "4adc7ac1",
   "metadata": {},
   "outputs": [],
   "source": []
  },
  {
   "cell_type": "code",
   "execution_count": null,
   "id": "5929a812",
   "metadata": {},
   "outputs": [],
   "source": []
  },
  {
   "cell_type": "code",
   "execution_count": null,
   "id": "0f19db93",
   "metadata": {},
   "outputs": [],
   "source": []
  },
  {
   "cell_type": "code",
   "execution_count": null,
   "id": "54b6e823",
   "metadata": {},
   "outputs": [],
   "source": []
  },
  {
   "cell_type": "code",
   "execution_count": null,
   "id": "747d7b7f",
   "metadata": {},
   "outputs": [],
   "source": []
  },
  {
   "cell_type": "code",
   "execution_count": null,
   "id": "76fdce01",
   "metadata": {},
   "outputs": [],
   "source": []
  },
  {
   "cell_type": "code",
   "execution_count": null,
   "id": "69bfb7d8",
   "metadata": {},
   "outputs": [],
   "source": []
  },
  {
   "cell_type": "code",
   "execution_count": null,
   "id": "7f8d7d26",
   "metadata": {},
   "outputs": [],
   "source": []
  },
  {
   "cell_type": "code",
   "execution_count": null,
   "id": "62a98ff5",
   "metadata": {},
   "outputs": [],
   "source": []
  },
  {
   "cell_type": "code",
   "execution_count": null,
   "id": "1e79275f",
   "metadata": {},
   "outputs": [],
   "source": []
  }
 ],
 "metadata": {
  "kernelspec": {
   "display_name": "Python 3 (ipykernel)",
   "language": "python",
   "name": "python3"
  },
  "language_info": {
   "codemirror_mode": {
    "name": "ipython",
    "version": 3
   },
   "file_extension": ".py",
   "mimetype": "text/x-python",
   "name": "python",
   "nbconvert_exporter": "python",
   "pygments_lexer": "ipython3",
   "version": "3.10.5"
  }
 },
 "nbformat": 4,
 "nbformat_minor": 5
}
