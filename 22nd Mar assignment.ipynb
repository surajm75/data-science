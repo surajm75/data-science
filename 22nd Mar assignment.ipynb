{
 "cells": [
  {
   "cell_type": "markdown",
   "id": "f716d977",
   "metadata": {},
   "source": [
    "Q1. Pearson correlation coefficient is a measure of the linear relationship between two variables. Suppose\n",
    "you have collected data on the amount of time students spend studying for an exam and their final exam\n",
    "scores. Calculate the Pearson correlation coefficient between these two variables and interpret the result."
   ]
  },
  {
   "cell_type": "code",
   "execution_count": 124,
   "id": "9e1d4abc",
   "metadata": {},
   "outputs": [
    {
     "name": "stdout",
     "output_type": "stream",
     "text": [
      "Pearson correlation coefficient 0.9483072840452359\n"
     ]
    }
   ],
   "source": [
    "time = [2,3,4,6,5,1]\n",
    "score = [25,30,40,45,42,8]\n",
    "import numpy as np\n",
    "t = np.array(time)\n",
    "s = np.array(score)\n",
    "pcc = np.corrcoef(t,s)\n",
    "print(f\"Pearson correlation coefficient {pcc[1][0]}\")\n",
    "#interpetation is that the time and score highly positively correlated."
   ]
  },
  {
   "cell_type": "markdown",
   "id": "80f8f283",
   "metadata": {},
   "source": [
    "Q2. Spearman's rank correlation is a measure of the monotonic relationship between two variables.\n",
    "Suppose you have collected data on the amount of sleep individuals get each night and their overall job\n",
    "satisfaction level on a scale of 1 to 10. Calculate the Spearman's rank correlation between these two\n",
    "variables and interpret the result."
   ]
  },
  {
   "cell_type": "code",
   "execution_count": 125,
   "id": "66726478",
   "metadata": {},
   "outputs": [
    {
     "name": "stdout",
     "output_type": "stream",
     "text": [
      "Spearman's rank correlation is -0.2572999105304042\n"
     ]
    }
   ],
   "source": [
    "import scipy.stats as stats\n",
    "amount_of_sleep = [6, 7, 5, 8, 6, 9, 10, 8, 6, 7]\n",
    "job_satisfaction = [7, 6, 8, 5, 7, 7, 8, 5, 7, 6]\n",
    "spearman_coef, _ = stats.spearmanr(amount_of_sleep, job_satisfaction)\n",
    "print(f\"Spearman's rank correlation is {spearman_coef}\")\n",
    "#interpretation is that the There is a negative monotonic relationship between the variables"
   ]
  },
  {
   "cell_type": "markdown",
   "id": "28e575c9",
   "metadata": {},
   "source": [
    "Q3. Suppose you are conducting a study to examine the relationship between the number of hours of\n",
    "exercise per week and body mass index (BMI) in a sample of adults. You collected data on both variables\n",
    "for 50 participants. Calculate the Pearson correlation coefficient and the Spearman's rank correlation\n",
    "between these two variables and compare the results."
   ]
  },
  {
   "cell_type": "code",
   "execution_count": 123,
   "id": "262ed40d",
   "metadata": {},
   "outputs": [
    {
     "name": "stdout",
     "output_type": "stream",
     "text": [
      "the dataset of number of hours of exercise per week is [10, 7, 20, 8, 14, 18, 6, 20, 6, 10, 13, 17, 13, 10, 6, 14, 7, 7, 8, 8, 6, 17, 6, 12, 8, 14, 9, 16, 8, 7, 6, 8, 12, 11, 14, 5, 18, 19, 10, 5, 13, 12, 18, 13, 18, 11, 10, 11, 13, 9]\n",
      "the dataset of bmi is[22, 18, 24, 18, 24, 27, 26, 26, 27, 19, 23, 18, 18, 20, 23, 21, 17, 18, 24, 23, 26, 17, 17, 23, 22, 18, 18, 26, 23, 18, 21, 27, 22, 18, 17, 17, 26, 24, 20, 18, 19, 22, 26, 25, 28, 27, 24, 27, 18, 20]\n",
      "Spearman's rank correlation is 0.25450512727706565\n",
      "Pearson correlation coefficient 0.28711103923794196\n"
     ]
    }
   ],
   "source": [
    "import scipy.stats as stats\n",
    "import random\n",
    "no_of_hours_exercise = []\n",
    "for i in range(1,51):\n",
    "    no_of_hours_exercise.append(random.randint(5,20))\n",
    "print(f\"the dataset of number of hours of exercise per week is {no_of_hours_exercise}\")\n",
    "bmi = []\n",
    "for i in range(1,51):\n",
    "    bmi.append(random.randint(17,28))\n",
    "print(f\"the dataset of bmi is{bmi}\")\n",
    "spearman_coef, _ = stats.spearmanr(no_of_hours_exercise,bmi)\n",
    "print(f\"Spearman's rank correlation is {spearman_coef}\")\n",
    "import numpy as np\n",
    "pcc = np.corrcoef(no_of_hours_exercise,bmi)\n",
    "print(f\"Pearson correlation coefficient {pcc[1][0]}\")"
   ]
  },
  {
   "cell_type": "markdown",
   "id": "3bc38629",
   "metadata": {},
   "source": [
    "Q4. A researcher is interested in examining the relationship between the number of hours individuals\n",
    "spend watching television per day and their level of physical activity. The researcher collected data on\n",
    "both variables from a sample of 50 participants. Calculate the Pearson correlation coefficient between\n",
    "these two variables."
   ]
  },
  {
   "cell_type": "code",
   "execution_count": 77,
   "id": "74ce1f5c",
   "metadata": {},
   "outputs": [
    {
     "name": "stdout",
     "output_type": "stream",
     "text": [
      "the dataset of number of hours individuals spend watching television per day is [3, 4, 8, 8, 10, 5, 8, 8, 10, 6, 9, 7, 3, 1, 4, 7, 3, 6, 10, 10, 9, 6, 9, 4, 2, 3, 3, 5, 10, 6, 10, 9, 9, 3, 7, 2, 10, 3, 2, 2, 5, 10, 8, 5, 7, 1, 1, 10, 10, 1]\n",
      "the dataset of number of hours individuals spend their level of physical activity is[4, 2, 1, 2, 5, 2, 5, 5, 4, 5, 5, 4, 4, 4, 1, 1, 2, 1, 5, 3, 5, 5, 1, 1, 1, 2, 3, 2, 4, 2, 4, 3, 2, 5, 2, 2, 1, 2, 4, 2, 2, 5, 3, 5, 3, 1, 2, 5, 1, 5]\n",
      "the Pearson correlation coefficient between these two datsets is 0.21987890162943907\n"
     ]
    }
   ],
   "source": [
    "import random\n",
    "no_of_hours_tv = []\n",
    "for i in range(1,51):\n",
    "    no_of_hours_tv.append(random.randint(1,10))\n",
    "print(f\"the dataset of number of hours individuals spend watching television per day is {no_of_hours_tv}\")\n",
    "no_of_hours_pa = []\n",
    "for i in range(1,51):\n",
    "    no_of_hours_pa.append(random.randint(1,5))\n",
    "print(f\"the dataset of number of hours individuals spend their level of physical activity is{no_of_hours_pa}\")\n",
    "import numpy as np\n",
    "tv = np.array(no_of_hours_tv)\n",
    "pa = np.array(no_of_hours_pa)\n",
    "pcc = np.corrcoef(tv,pa)\n",
    "print(f\"the Pearson correlation coefficient between these two datsets is {pcc[1][0]}\")"
   ]
  },
  {
   "cell_type": "code",
   "execution_count": null,
   "id": "a23ef1aa",
   "metadata": {},
   "outputs": [],
   "source": [
    "Q5. A survey was conducted to examine the relationship between age and preference for a particular\n",
    "brand of soft drink. The survey results are shown below:\n",
    "    Age(Years)\n",
    "25 Coke\n",
    "42 Pepsi\n",
    "37\n",
    "19\n",
    "31\n",
    "28Mountain dew\n",
    "Coke\n",
    "Pepsi\n",
    "Coke\n",
    "Soft drink Preference"
   ]
  },
  {
   "cell_type": "code",
   "execution_count": 78,
   "id": "5f67afb3",
   "metadata": {},
   "outputs": [],
   "source": [
    "#the above question is incomplete as written in assignment, please provide complete details and requirements."
   ]
  },
  {
   "cell_type": "markdown",
   "id": "4467ea4b",
   "metadata": {},
   "source": [
    "Q6. A company is interested in examining the relationship between the number of sales calls made per day\n",
    "and the number of sales made per week. The company collected data on both variables from a sample of\n",
    "30 sales representatives. Calculate the Pearson correlation coefficient between these two variables."
   ]
  },
  {
   "cell_type": "code",
   "execution_count": 103,
   "id": "0c60778f",
   "metadata": {},
   "outputs": [
    {
     "name": "stdout",
     "output_type": "stream",
     "text": [
      "the dataset of number of sales calls made per day is [24, 45, 48, 75, 24, 74, 75, 78, 82, 50, 59, 7, 67, 58, 54, 94, 45, 43, 98, 99, 50, 86, 81, 89, 14, 13, 17, 37, 54, 91]\n",
      "the dataset of number of sales made per day is [48, 13, 17, 7, 35, 5, 13, 8, 36, 8, 35, 28, 29, 31, 4, 40, 30, 6, 4, 24, 40, 21, 21, 35, 42, 27, 8, 46, 21, 24]\n",
      "the Pearson correlation coefficient between these two datsets is -0.22457491154756212\n"
     ]
    }
   ],
   "source": [
    "import random\n",
    "no_of_sales_call = []\n",
    "for i in range(1,31):\n",
    "    no_of_sales_call.append(random.randint(1,100))\n",
    "print(f\"the dataset of number of sales calls made per day is {no_of_sales_call}\")\n",
    "no_of_sales_made = []\n",
    "for i in range(1,31):\n",
    "    no_of_sales_made.append(random.randint(1,50))\n",
    "print(f\"the dataset of number of sales made per day is {no_of_sales_made}\")\n",
    "import numpy as np\n",
    "s_call = np.array(no_of_sales_call)\n",
    "s_made = np.array(no_of_sales_made)\n",
    "pcc = np.corrcoef(s_call,s_made)\n",
    "print(f\"the Pearson correlation coefficient between these two datsets is {pcc[1][0]}\")"
   ]
  },
  {
   "cell_type": "code",
   "execution_count": null,
   "id": "ce813bf6",
   "metadata": {},
   "outputs": [],
   "source": []
  },
  {
   "cell_type": "code",
   "execution_count": null,
   "id": "5789cd6c",
   "metadata": {},
   "outputs": [],
   "source": []
  }
 ],
 "metadata": {
  "kernelspec": {
   "display_name": "Python 3 (ipykernel)",
   "language": "python",
   "name": "python3"
  },
  "language_info": {
   "codemirror_mode": {
    "name": "ipython",
    "version": 3
   },
   "file_extension": ".py",
   "mimetype": "text/x-python",
   "name": "python",
   "nbconvert_exporter": "python",
   "pygments_lexer": "ipython3",
   "version": "3.10.5"
  }
 },
 "nbformat": 4,
 "nbformat_minor": 5
}
