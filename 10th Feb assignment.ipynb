{
 "cells": [
  {
   "cell_type": "markdown",
   "id": "713a6d50",
   "metadata": {},
   "source": [
    "Q1. Which function is used to open a file? What are the different modes of opening a file? Explain each mode\n",
    "of file opening."
   ]
  },
  {
   "cell_type": "markdown",
   "id": "ac53496a",
   "metadata": {},
   "source": [
    "In Python, the open() function is used to open a file. It returns a file object that allows you to perform various operations on the file.\n",
    "\n",
    "The open() function takes two arguments: the file name or path and the mode in which the file should be opened. The mode specifies how the file should be treated when it is opened. Here are the different modes of opening a file in Python:\n",
    "\n",
    "\"r\": Read Mode\n",
    "\n",
    "This is the default mode if no mode is specified.\n",
    "Opens the file for reading.\n",
    "Raises an error if the file does not exist.\n",
    "The file pointer is placed at the beginning of the file.\n",
    "\n",
    "\"w\": Write Mode\n",
    "\n",
    "Opens the file for writing.\n",
    "If the file already exists, its contents are truncated (cleared).\n",
    "If the file does not exist, a new file is created.\n",
    "The file pointer is placed at the beginning of the file.\n",
    "\n",
    "\"a\": Append Mode\n",
    "\n",
    "Opens the file for appending (writing at the end of the file).\n",
    "If the file exists, the file pointer is placed at the end of the file.\n",
    "If the file does not exist, a new file is created.\n",
    "\n",
    "\"x\": Exclusive Creation Mode\n",
    "\n",
    "Opens a file for exclusive creation.\n",
    "If the file already exists, an error is raised.\n",
    "If the file does not exist, a new file is created.\n",
    "\n",
    "\"t\": Text Mode (default)\n",
    "\n",
    "Opens the file in text mode, which is the default mode.\n",
    "Text mode is used for reading or writing characters and strings.\n",
    "\n",
    "\"b\": Binary Mode\n",
    "\n",
    "Opens the file in binary mode.\n",
    "Binary mode is used for reading or writing binary data, such as images or executable files.\n",
    "\n",
    "\"+\": Read and Write Mode\n",
    "\n",
    "Opens the file for both reading and writing (updating).\n",
    "Allows you to perform both read and write operations on the file."
   ]
  },
  {
   "cell_type": "code",
   "execution_count": 2,
   "id": "b7b810fd",
   "metadata": {},
   "outputs": [
    {
     "name": "stdout",
     "output_type": "stream",
     "text": [
      "Read Mode:\n",
      "This is file for read.\n"
     ]
    }
   ],
   "source": [
    "file_path = \"example.txt\"\n",
    "\n",
    "# Read mode\n",
    "file_read = open(file_path, \"r\")\n",
    "content = file_read.read()\n",
    "print(\"Read Mode:\")\n",
    "print(content)\n",
    "file_read.close()"
   ]
  },
  {
   "cell_type": "code",
   "execution_count": 3,
   "id": "8bef4e9c",
   "metadata": {},
   "outputs": [],
   "source": [
    "# Write mode\n",
    "file_write = open(file_path, \"w\")\n",
    "file_write.write(\"This is file for write\")\n",
    "file_write.close()\n"
   ]
  },
  {
   "cell_type": "code",
   "execution_count": 4,
   "id": "818208b8",
   "metadata": {},
   "outputs": [],
   "source": [
    "# Append mode\n",
    "file_append = open(file_path, \"a\")\n",
    "file_append.write(\"\\nAppended Text\")\n",
    "file_append.close()"
   ]
  },
  {
   "cell_type": "markdown",
   "id": "58b21242",
   "metadata": {},
   "source": [
    "Q2. Why close() function is used? Why is it important to close a file?"
   ]
  },
  {
   "cell_type": "markdown",
   "id": "ceab3aa7",
   "metadata": {},
   "source": [
    "\n",
    "The close() function is used to explicitly close a file that has been opened using the open() function. It is important to close a file after you have finished working with it for several reasons:\n",
    "\n",
    "Resource Management: When a file is opened, system resources, such as file descriptors, are allocated to it. These resources are limited, and if too many files are opened without closing them, it can lead to resource exhaustion. By closing the file, you release these system resources, allowing them to be used by other parts of your program or other programs running on the system.\n",
    "\n",
    "Data Integrity: When you write data to a file, it is often buffered in memory before being written to the underlying storage. Closing a file ensures that any remaining buffered data is flushed and written to the file before it is closed. If you don't close the file and the program terminates unexpectedly, the buffered data may not be written, leading to potential data loss or corruption.\n",
    "\n",
    "File Locking: In some cases, when a file is opened, it may be locked by the operating system to prevent other processes from accessing or modifying it. Closing the file releases the lock, allowing other processes to access the file if needed.\n",
    "\n",
    "Portability: While most operating systems automatically close open files when a program exits, it is considered good practice to explicitly close files to ensure portability across different platforms and to make the code more robust and reliable."
   ]
  },
  {
   "cell_type": "markdown",
   "id": "c76991f9",
   "metadata": {},
   "source": [
    "Q3. Write a python program to create a text file. Write ‘I want to become a Data Scientist’ in that file. Then\n",
    "close the file. Open this file and read the content of the file."
   ]
  },
  {
   "cell_type": "code",
   "execution_count": 6,
   "id": "053972cc",
   "metadata": {},
   "outputs": [],
   "source": [
    "file_name = \"dream.txt\"\n",
    "\n",
    "file_to_write = open(file_name, \"w\")\n",
    "file_to_write.write(\"I want to become a Data Scientist\")\n",
    "file_to_write.close()"
   ]
  },
  {
   "cell_type": "code",
   "execution_count": 7,
   "id": "bee61226",
   "metadata": {},
   "outputs": [
    {
     "data": {
      "text/plain": [
       "'I want to become a Data Scientist'"
      ]
     },
     "execution_count": 7,
     "metadata": {},
     "output_type": "execute_result"
    }
   ],
   "source": [
    "file_to_read = open(file_name, \"r\")\n",
    "file_to_read.read()"
   ]
  },
  {
   "cell_type": "markdown",
   "id": "a45b29a2",
   "metadata": {},
   "source": [
    "Q4. Explain the following with python code: read(), readline() and readlines()."
   ]
  },
  {
   "cell_type": "markdown",
   "id": "0f13ec63",
   "metadata": {},
   "source": [
    "In Python, the read(), readline(), and readlines() are methods used to read data from a file. Here's an explanation of each method along with example code:\n",
    "\n",
    "read():\n",
    "\n",
    "The read() method is used to read the entire contents of a file as a single string.\n",
    "It reads from the current position of the file pointer up to the end of the file or a specified number of characters if provided.\n",
    "If no argument is given, it reads the entire file.\n",
    "After calling read(), the file pointer is positioned at the end of the file."
   ]
  },
  {
   "cell_type": "code",
   "execution_count": 8,
   "id": "021208bf",
   "metadata": {},
   "outputs": [
    {
     "name": "stdout",
     "output_type": "stream",
     "text": [
      "This is file for write\n",
      "Appended Text\n"
     ]
    }
   ],
   "source": [
    "\n",
    "file = open(\"example.txt\", \"r\")\n",
    "content = file.read()\n",
    "print(content)\n",
    "file.close()\n"
   ]
  },
  {
   "cell_type": "markdown",
   "id": "d2236b66",
   "metadata": {},
   "source": [
    "readline():\n",
    "\n",
    "The readline() method is used to read a single line from a file.\n",
    "It reads from the current position of the file pointer up to the next newline character (\"\\n\") or the end of the file.\n",
    "If called multiple times, it reads subsequent lines from the file.\n",
    "After calling readline(), the file pointer moves to the beginning of the next line."
   ]
  },
  {
   "cell_type": "code",
   "execution_count": 9,
   "id": "b5c8d66f",
   "metadata": {},
   "outputs": [
    {
     "name": "stdout",
     "output_type": "stream",
     "text": [
      "This is file for write\n",
      "\n",
      "Appended Text\n"
     ]
    }
   ],
   "source": [
    "file = open(\"example.txt\", \"r\")\n",
    "line1 = file.readline()\n",
    "line2 = file.readline()\n",
    "print(line1)\n",
    "print(line2)\n",
    "file.close()"
   ]
  },
  {
   "cell_type": "markdown",
   "id": "c029475a",
   "metadata": {},
   "source": [
    "readlines():\n",
    "\n",
    "The readlines() method is used to read all lines from a file and returns them as a list of strings.\n",
    "Each line in the file is treated as a separate element in the list.\n",
    "It reads from the current position of the file pointer up to the end of the file.\n",
    "After calling readlines(), the file pointer is positioned at the end of the file."
   ]
  },
  {
   "cell_type": "code",
   "execution_count": 13,
   "id": "f2a00dd8",
   "metadata": {},
   "outputs": [
    {
     "name": "stdout",
     "output_type": "stream",
     "text": [
      "This is file for write\n",
      "\n",
      "Appended Text\n"
     ]
    }
   ],
   "source": [
    "file = open(\"example.txt\", \"r\")\n",
    "lines = file.readlines()\n",
    "for line in lines:\n",
    "    print(line)\n",
    "    \n",
    "file.close()"
   ]
  },
  {
   "cell_type": "markdown",
   "id": "7a2eb07d",
   "metadata": {},
   "source": [
    "Q5. Explain why with statement is used with open(). What is the advantage of using with statement and\n",
    "open() together?"
   ]
  },
  {
   "cell_type": "markdown",
   "id": "36ee9d67",
   "metadata": {},
   "source": [
    "The with statement in Python is used in conjunction with the open() function to provide a convenient and safe way to work with files. It ensures that the file is automatically closed when the block of code within the with statement is exited, regardless of whether an exception occurs or not. Here are the advantages of using the with statement with open():\n",
    "\n",
    "Automatic Resource Management: When you open a file using the open() function without the with statement, you need to explicitly call the close() method to close the file and release system resources. Forgetting to close the file can lead to resource leaks and potential issues. However, with the with statement, the file is automatically closed when the block of code is exited, even if an exception occurs. This ensures proper resource management without the need for manual cleanup.\n",
    "\n",
    "Exception Safety: When working with files, there is a possibility of exceptions occurring, such as file not found errors or permission issues. If an exception is raised before the close() method is called, the file may remain open and resources may not be released properly. By using the with statement, the file is automatically closed, even in the presence of exceptions, ensuring that resources are properly released and the file is not left in an inconsistent state.\n",
    "\n",
    "Readability and Conciseness: The with statement improves the readability and conciseness of the code. It clearly delineates the block of code that operates within the context of the file, making it easier to understand the code's intention. The with statement eliminates the need for explicitly calling the close() method, reducing the clutter and making the code more concise and readable."
   ]
  },
  {
   "cell_type": "code",
   "execution_count": 14,
   "id": "7441134d",
   "metadata": {},
   "outputs": [
    {
     "name": "stdout",
     "output_type": "stream",
     "text": [
      "This is file for write\n",
      "Appended Text\n"
     ]
    }
   ],
   "source": [
    "file_name = \"example.txt\"\n",
    "with open(file_name, \"r\") as file:\n",
    "    content = file.read()\n",
    "    print(content)"
   ]
  },
  {
   "cell_type": "markdown",
   "id": "ad3ef201",
   "metadata": {},
   "source": [
    "Q6. Explain the write() and writelines() functions. Give a suitable example."
   ]
  },
  {
   "cell_type": "markdown",
   "id": "54e37365",
   "metadata": {},
   "source": [
    "In Python, the write() and writelines() functions are used to write data to a file. Here's an explanation of each function along with an example:\n",
    "\n",
    "write():\n",
    "\n",
    "The write() function is used to write a string of data to a file.\n",
    "It appends the specified string to the end of the file or overwrites the existing contents if the file is opened in write mode.\n",
    "After writing the data, the file pointer is positioned at the end of the written data.\n",
    "If you want to write multiple lines, you need to include the newline character (\"\\n\") at the end of each line."
   ]
  },
  {
   "cell_type": "code",
   "execution_count": 15,
   "id": "40893a5b",
   "metadata": {},
   "outputs": [],
   "source": [
    "# Writing data to a file using write()\n",
    "file = open(\"example.txt\", \"w\")\n",
    "file.write(\"Hello, World!\\n\")\n",
    "file.write(\"This is a new line.\")\n",
    "file.close()\n"
   ]
  },
  {
   "cell_type": "markdown",
   "id": "2afd2599",
   "metadata": {},
   "source": [
    "writelines():\n",
    "\n",
    "The writelines() function is used to write multiple lines of data to a file.\n",
    "It takes a sequence (such as a list or tuple) of strings as input and writes each string as a separate line in the file.\n",
    "Each line in the sequence should include the newline character (\"\\n\") if you want to start a new line.\n",
    "The writelines() function does not automatically append a newline character to the end of each line."
   ]
  },
  {
   "cell_type": "code",
   "execution_count": 18,
   "id": "1c9c1695",
   "metadata": {},
   "outputs": [],
   "source": [
    "lines = [\"Line 1\\n\", \"Line 2\\n\", \"Line 3\\n\"]\n",
    "file = open(\"example.txt\", \"w\")\n",
    "file.writelines(lines)\n",
    "file.close()"
   ]
  },
  {
   "cell_type": "code",
   "execution_count": null,
   "id": "3a02fe6e",
   "metadata": {},
   "outputs": [],
   "source": []
  }
 ],
 "metadata": {
  "kernelspec": {
   "display_name": "Python 3 (ipykernel)",
   "language": "python",
   "name": "python3"
  },
  "language_info": {
   "codemirror_mode": {
    "name": "ipython",
    "version": 3
   },
   "file_extension": ".py",
   "mimetype": "text/x-python",
   "name": "python",
   "nbconvert_exporter": "python",
   "pygments_lexer": "ipython3",
   "version": "3.10.5"
  }
 },
 "nbformat": 4,
 "nbformat_minor": 5
}
