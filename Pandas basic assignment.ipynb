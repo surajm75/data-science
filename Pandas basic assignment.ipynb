{
 "cells": [
  {
   "cell_type": "markdown",
   "id": "0354c4ca",
   "metadata": {},
   "source": [
    "Q1. Create a Pandas Series that contains the following data: 4, 8, 15, 16, 23, and 42. Then, print the series."
   ]
  },
  {
   "cell_type": "code",
   "execution_count": 2,
   "id": "de3ee262",
   "metadata": {},
   "outputs": [
    {
     "name": "stdout",
     "output_type": "stream",
     "text": [
      "0     4\n",
      "1     8\n",
      "2    15\n",
      "3    16\n",
      "4    23\n",
      "5    42\n",
      "dtype: int64\n"
     ]
    }
   ],
   "source": [
    "lst = [4, 8, 15, 16, 23, 42]\n",
    "import pandas as pd\n",
    "series = pd.Series(lst)\n",
    "print(series)"
   ]
  },
  {
   "cell_type": "markdown",
   "id": "943db138",
   "metadata": {},
   "source": [
    "Q2. Create a variable of list type containing 10 elements in it, and apply pandas.Series function on the\n",
    "variable print it."
   ]
  },
  {
   "cell_type": "code",
   "execution_count": 5,
   "id": "8d8424a7",
   "metadata": {},
   "outputs": [
    {
     "name": "stdout",
     "output_type": "stream",
     "text": [
      "0     7\n",
      "1     5\n",
      "2    12\n",
      "3    14\n",
      "4     2\n",
      "5    10\n",
      "6     4\n",
      "7    14\n",
      "8     6\n",
      "9    15\n",
      "dtype: int64\n"
     ]
    }
   ],
   "source": [
    "import random\n",
    "lst = []\n",
    "for i in range(10):\n",
    "    lst.append(random.randint(1,15))\n",
    "series = pd.Series(lst)\n",
    "print(series)"
   ]
  },
  {
   "cell_type": "markdown",
   "id": "30a29d68",
   "metadata": {},
   "source": [
    "Q3. Create a Pandas DataFrame that contains the following data:"
   ]
  },
  {
   "cell_type": "code",
   "execution_count": 7,
   "id": "8b34e864",
   "metadata": {},
   "outputs": [
    {
     "name": "stdout",
     "output_type": "stream",
     "text": [
      "     Name  Age  Gender\n",
      "0   Alice   25  Female\n",
      "1     Bob   30    Male\n",
      "2  Claire   27  Female\n"
     ]
    }
   ],
   "source": [
    "import pandas as pd\n",
    "df = pd.DataFrame({'Name':['Alice','Bob','Claire'],'Age':[25,30,27],'Gender':['Female','Male','Female']})\n",
    "print(df)"
   ]
  },
  {
   "cell_type": "markdown",
   "id": "1ee81c14",
   "metadata": {},
   "source": [
    "Q4. What is ‘DataFrame’ in pandas and how is it different from pandas.series? Explain with an example."
   ]
  },
  {
   "cell_type": "markdown",
   "id": "9d532b69",
   "metadata": {},
   "source": [
    "In pandas, a DataFrame is a two-dimensional labeled data structure that is used for data manipulation and analysis. It can be thought of as a tabular data structure similar to a spreadsheet or a SQL table, where data is organized in rows and columns. A DataFrame can contain data of different data types and is highly flexible for handling data with varying structures and formats.\n",
    "\n",
    "On the other hand, a Series in pandas is a one-dimensional labeled data structure that is used to represent a single column or a single row of data in a DataFrame. A Series is similar to a Python list or a NumPy array, but it has additional features such as labeled indices, which allows for easy data retrieval and manipulation.\n",
    "\n",
    "ExP - Solution of Q3 is a DataFrame, whether solution of Q1 & Q2 is Series."
   ]
  },
  {
   "cell_type": "markdown",
   "id": "e5550302",
   "metadata": {},
   "source": [
    "Q5. What are some common functions you can use to manipulate data in a Pandas DataFrame? Can\n",
    "you give an example of when you might use one of these functions?"
   ]
  },
  {
   "cell_type": "markdown",
   "id": "3812b5ce",
   "metadata": {},
   "source": [
    "Pandas provides a wide range of built-in functions for data manipulation in a DataFrame. Some of the common functions that can be used to manipulate data in a Pandas DataFrame include:\n",
    "\n",
    "DataFrame.rename(): This function is used to rename columns or index labels in a DataFrame. For example, you can use it to rename columns to make them more meaningful or to comply with a specific naming convention."
   ]
  },
  {
   "cell_type": "code",
   "execution_count": 8,
   "id": "c22dc83c",
   "metadata": {},
   "outputs": [
    {
     "name": "stdout",
     "output_type": "stream",
     "text": [
      "   X  Y\n",
      "0  1  4\n",
      "1  2  5\n",
      "2  3  6\n"
     ]
    }
   ],
   "source": [
    "import pandas as pd\n",
    "\n",
    "# Create a DataFrame\n",
    "data = {\"A\": [1, 2, 3], \"B\": [4, 5, 6]}\n",
    "df = pd.DataFrame(data)\n",
    "\n",
    "# Rename columns\n",
    "df.rename(columns={\"A\": \"X\", \"B\": \"Y\"}, inplace=True)\n",
    "\n",
    "# Print the DataFrame with renamed columns\n",
    "print(df)"
   ]
  },
  {
   "cell_type": "markdown",
   "id": "f0f2b504",
   "metadata": {},
   "source": [
    "DataFrame.drop(): This function is used to drop specified columns or rows from a DataFrame. For example, you can use it to remove unnecessary columns or rows that are not relevant to your analysis."
   ]
  },
  {
   "cell_type": "code",
   "execution_count": 9,
   "id": "75b3e0d5",
   "metadata": {},
   "outputs": [
    {
     "name": "stdout",
     "output_type": "stream",
     "text": [
      "   A\n",
      "0  1\n",
      "1  2\n",
      "2  3\n"
     ]
    }
   ],
   "source": [
    "import pandas as pd\n",
    "\n",
    "# Create a DataFrame\n",
    "data = {\"A\": [1, 2, 3], \"B\": [4, 5, 6]}\n",
    "df = pd.DataFrame(data)\n",
    "\n",
    "# Drop a column\n",
    "df.drop(\"B\", axis=1, inplace=True)\n",
    "\n",
    "# Print the DataFrame with dropped column\n",
    "print(df)"
   ]
  },
  {
   "cell_type": "markdown",
   "id": "1a976800",
   "metadata": {},
   "source": [
    "DataFrame.groupby(): This function is used to group data in a DataFrame based on one or more columns, and perform aggregate functions on the grouped data. For example, you can use it to calculate summary statistics for different categories of data."
   ]
  },
  {
   "cell_type": "code",
   "execution_count": 10,
   "id": "eac4667b",
   "metadata": {},
   "outputs": [
    {
     "name": "stdout",
     "output_type": "stream",
     "text": [
      "              Age\n",
      "City             \n",
      "Chicago      31.5\n",
      "Los Angeles  25.0\n",
      "New York     26.0\n"
     ]
    },
    {
     "name": "stderr",
     "output_type": "stream",
     "text": [
      "C:\\Users\\Suraj Mishra\\AppData\\Local\\Temp\\ipykernel_31332\\3407127228.py:10: FutureWarning: The default value of numeric_only in DataFrameGroupBy.mean is deprecated. In a future version, numeric_only will default to False. Either specify numeric_only or select only columns which should be valid for the function.\n",
      "  grouped_data = df.groupby(\"City\").mean()\n"
     ]
    }
   ],
   "source": [
    "import pandas as pd\n",
    "\n",
    "# Create a DataFrame\n",
    "data = {\"Name\": [\"John\", \"Alice\", \"Bob\", \"Alice\", \"Bob\"],\n",
    "        \"Age\": [30, 25, 35, 22, 28],\n",
    "        \"City\": [\"New York\", \"Los Angeles\", \"Chicago\", \"New York\", \"Chicago\"]}\n",
    "df = pd.DataFrame(data)\n",
    "\n",
    "# Group data by \"City\" column and calculate mean of \"Age\" column for each group\n",
    "grouped_data = df.groupby(\"City\").mean()\n",
    "\n",
    "# Print the grouped data\n",
    "print(grouped_data)"
   ]
  },
  {
   "cell_type": "markdown",
   "id": "7ca14fba",
   "metadata": {},
   "source": [
    "DataFrame.merge(): This function is used to merge two DataFrames based on common columns or indices. For example, you can use it to combine data from multiple DataFrames into a single DataFrame for analysis."
   ]
  },
  {
   "cell_type": "code",
   "execution_count": 11,
   "id": "ff13eb97",
   "metadata": {},
   "outputs": [
    {
     "name": "stdout",
     "output_type": "stream",
     "text": [
      "    Name  Age      City\n",
      "0  Alice   25  New York\n",
      "1    Bob   35   Chicago\n"
     ]
    }
   ],
   "source": [
    "import pandas as pd\n",
    "\n",
    "# Create two DataFrames\n",
    "data1 = {\"Name\": [\"John\", \"Alice\", \"Bob\"],\n",
    "         \"Age\": [30, 25, 35]}\n",
    "data2 = {\"Name\": [\"Alice\", \"Bob\", \"Charlie\"],\n",
    "         \"City\": [\"New York\", \"Chicago\", \"Los Angeles\"]}\n",
    "df1 = pd.DataFrame(data1)\n",
    "df2 = pd.DataFrame(data2)\n",
    "\n",
    "# Merge DataFrames based on \"Name\" column\n",
    "merged_df = pd.merge(df1, df2, on=\"Name\")\n",
    "\n",
    "# Print the merged DataFrame\n",
    "print(merged_df)"
   ]
  },
  {
   "cell_type": "markdown",
   "id": "cbe2967b",
   "metadata": {},
   "source": [
    "Q6. Which of the following is mutable in nature Series, DataFrame, Panel?"
   ]
  },
  {
   "cell_type": "markdown",
   "id": "97e62757",
   "metadata": {},
   "source": [
    "In Pandas, both Series and DataFrame are mutable in nature, which means they can be modified after they are created. However, Panel is deprecated in the latest versions of Pandas (since version 1.0.0) and is no longer recommended to be used. Instead, multi-dimensional data can be represented and manipulated using the more flexible and efficient data structures like Series and DataFrame."
   ]
  },
  {
   "cell_type": "markdown",
   "id": "61d2502a",
   "metadata": {},
   "source": [
    "Q7. Create a DataFrame using multiple Series. Explain with an example."
   ]
  },
  {
   "cell_type": "code",
   "execution_count": 13,
   "id": "534da77d",
   "metadata": {},
   "outputs": [
    {
     "name": "stdout",
     "output_type": "stream",
     "text": [
      "    Name  Age\n",
      "0   John   25\n",
      "1  Alice   37\n",
      "2    Bob   27\n"
     ]
    }
   ],
   "source": [
    "import pandas as pd\n",
    "name = pd.Series([\"John\", \"Alice\", \"Bob\"], name=\"Name\")\n",
    "age = pd.Series([25,37,27],name = \"Age\")\n",
    "df = pd.DataFrame({\"Name\":name,\"Age\":age})\n",
    "print(df)"
   ]
  },
  {
   "cell_type": "code",
   "execution_count": null,
   "id": "43f18060",
   "metadata": {},
   "outputs": [],
   "source": []
  },
  {
   "cell_type": "code",
   "execution_count": null,
   "id": "7c0d8f10",
   "metadata": {},
   "outputs": [],
   "source": []
  }
 ],
 "metadata": {
  "kernelspec": {
   "display_name": "Python 3 (ipykernel)",
   "language": "python",
   "name": "python3"
  },
  "language_info": {
   "codemirror_mode": {
    "name": "ipython",
    "version": 3
   },
   "file_extension": ".py",
   "mimetype": "text/x-python",
   "name": "python",
   "nbconvert_exporter": "python",
   "pygments_lexer": "ipython3",
   "version": "3.10.5"
  }
 },
 "nbformat": 4,
 "nbformat_minor": 5
}
