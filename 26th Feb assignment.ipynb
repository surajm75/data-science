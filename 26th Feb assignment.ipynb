{
 "cells": [
  {
   "cell_type": "markdown",
   "id": "7747aa58",
   "metadata": {},
   "source": [
    "Consider the below code to answer further questions:\n",
    "import numpy as np\n",
    "list_ = [ ‘1’ , ’2’ , ‘3’ , ‘4’ , ‘5’ ]\n",
    "array_list = np.array(object = list_)\n",
    "Q1. Is there any difference in the data type of variables list_ and array_list? If there is then write a code\n",
    "to print the data types of both the variables."
   ]
  },
  {
   "cell_type": "code",
   "execution_count": 14,
   "id": "550971f8",
   "metadata": {},
   "outputs": [
    {
     "name": "stdout",
     "output_type": "stream",
     "text": [
      "the data type of variable list_ is <class 'list'>\n",
      "the data type of variable array_list is <class 'numpy.ndarray'>\n"
     ]
    }
   ],
   "source": [
    "import numpy as np\n",
    "list_ = [ '1' , '2' , '3' , '4' , '6']\n",
    "array_list = np.array(object = list_) \n",
    "#Yes there is difference is the data type of variables list_ and array_list.\n",
    "print(f\"the data type of variable list_ is {type(list_)}\")\n",
    "print(f\"the data type of variable array_list is {type(array_list)}\")"
   ]
  },
  {
   "cell_type": "markdown",
   "id": "a74d9e56",
   "metadata": {},
   "source": [
    "Q2. Write a code to print the data type of each and every element of both the variables list_ and\n",
    "arra_list."
   ]
  },
  {
   "cell_type": "code",
   "execution_count": 9,
   "id": "b1bf499f",
   "metadata": {},
   "outputs": [
    {
     "name": "stdout",
     "output_type": "stream",
     "text": [
      " the data type of element 1 in variable list_ is <class 'str'>\n",
      " the data type of element 2 in variable list_ is <class 'str'>\n",
      " the data type of element 3 in variable list_ is <class 'str'>\n",
      " the data type of element 4 in variable list_ is <class 'str'>\n",
      " the data type of element 6 in variable list_ is <class 'str'>\n"
     ]
    }
   ],
   "source": [
    "for i in list_:\n",
    "    print(f\" the data type of element {i[0]} in variable list_ is {type(i)}\")"
   ]
  },
  {
   "cell_type": "code",
   "execution_count": 15,
   "id": "1d755e92",
   "metadata": {},
   "outputs": [
    {
     "name": "stdout",
     "output_type": "stream",
     "text": [
      " the data type of element 1 in variable list_ is <class 'numpy.str_'>\n",
      " the data type of element 2 in variable list_ is <class 'numpy.str_'>\n",
      " the data type of element 3 in variable list_ is <class 'numpy.str_'>\n",
      " the data type of element 4 in variable list_ is <class 'numpy.str_'>\n",
      " the data type of element 6 in variable list_ is <class 'numpy.str_'>\n"
     ]
    }
   ],
   "source": [
    "for x in array_list:\n",
    "    print(f\" the data type of element {x[0]} in variable list_ is {type(x)}\")"
   ]
  },
  {
   "cell_type": "code",
   "execution_count": null,
   "id": "8093fe58",
   "metadata": {},
   "outputs": [],
   "source": []
  },
  {
   "cell_type": "markdown",
   "id": "3b2b654e",
   "metadata": {},
   "source": [
    "Q3. Considering the following changes in the variable, array_list:\n",
    "array_list = np.array(object = list_, dtype = int)\n",
    "Will there be any difference in the data type of the elements present in both the variables, list_ and\n",
    "arra_list? If so then print the data types of each and every element present in both the variables, list_\n",
    "and arra_list."
   ]
  },
  {
   "cell_type": "code",
   "execution_count": 17,
   "id": "cad4b3df",
   "metadata": {},
   "outputs": [
    {
     "name": "stdout",
     "output_type": "stream",
     "text": [
      " the data type of element 1 in variable list_ is <class 'str'>\n",
      " the data type of element 2 in variable list_ is <class 'str'>\n",
      " the data type of element 3 in variable list_ is <class 'str'>\n",
      " the data type of element 4 in variable list_ is <class 'str'>\n",
      " the data type of element 6 in variable list_ is <class 'str'>\n"
     ]
    }
   ],
   "source": [
    "import numpy as np\n",
    "list_ = [ '1' , '2' , '3' , '4' , '6']\n",
    "array_list = np.array(object = list_, dtype = int)\n",
    "for i in list_:\n",
    "    print(f\" the data type of element {i[0]} in variable list_ is {type(i)}\")"
   ]
  },
  {
   "cell_type": "code",
   "execution_count": 30,
   "id": "185ecc81",
   "metadata": {},
   "outputs": [
    {
     "name": "stdout",
     "output_type": "stream",
     "text": [
      " the data type of element 1 in variable list_ is <class 'numpy.int32'>\n",
      " the data type of element 2 in variable list_ is <class 'numpy.int32'>\n",
      " the data type of element 3 in variable list_ is <class 'numpy.int32'>\n",
      " the data type of element 4 in variable list_ is <class 'numpy.int32'>\n",
      " the data type of element 6 in variable list_ is <class 'numpy.int32'>\n"
     ]
    }
   ],
   "source": [
    "for x in array_list:\n",
    "    print(f\" the data type of element {str(x)[0]} in variable list_ is {type(x)}\")"
   ]
  },
  {
   "cell_type": "markdown",
   "id": "6ed22140",
   "metadata": {},
   "source": [
    "Consider the below code to answer further questions:\n",
    "import numpy as np\n",
    "num_list = [ [ 1 , 2 , 3 ] , [ 4 , 5 , 6 ] ]\n",
    "num_array = np.array(object = num_list)\n",
    "Q4. Write a code to find the following characteristics of variable, num_array:\n",
    "(i) shape\n",
    "(ii) size"
   ]
  },
  {
   "cell_type": "code",
   "execution_count": 24,
   "id": "8ab7e9d0",
   "metadata": {},
   "outputs": [
    {
     "name": "stdout",
     "output_type": "stream",
     "text": [
      "the shape of array is (2, 3)\n",
      "the size of array is 6\n"
     ]
    }
   ],
   "source": [
    "import numpy as np\n",
    "num_list = [ [ 1 , 2 , 3 ] , [ 4 , 5 , 6 ] ]\n",
    "num_array = np.array(object = num_list)\n",
    "print(f\"the shape of array is {num_array.shape}\")\n",
    "print(f\"the size of array is {num_array.size}\")"
   ]
  },
  {
   "cell_type": "markdown",
   "id": "c204ddfa",
   "metadata": {},
   "source": [
    "Q5. Write a code to create numpy array of 3*3 matrix containing zeros only, using a numpy array\n",
    "creation function.\n",
    "[Hint: The size of the array will be 9 and the shape will be (3,3).]"
   ]
  },
  {
   "cell_type": "code",
   "execution_count": 26,
   "id": "503f6e7b",
   "metadata": {},
   "outputs": [
    {
     "data": {
      "text/plain": [
       "array([[0., 0., 0.],\n",
       "       [0., 0., 0.],\n",
       "       [0., 0., 0.]])"
      ]
     },
     "execution_count": 26,
     "metadata": {},
     "output_type": "execute_result"
    }
   ],
   "source": [
    "import numpy as np\n",
    "np.zeros((3,3))"
   ]
  },
  {
   "cell_type": "markdown",
   "id": "c755f114",
   "metadata": {},
   "source": [
    "Q6. Create an identity matrix of shape (5,5) using numpy functions?\n",
    "[Hint: An identity matrix is a matrix containing 1 diagonally and other elements will be 0.]"
   ]
  },
  {
   "cell_type": "code",
   "execution_count": 29,
   "id": "1593f375",
   "metadata": {},
   "outputs": [
    {
     "data": {
      "text/plain": [
       "array([[1., 0., 0., 0., 0.],\n",
       "       [0., 1., 0., 0., 0.],\n",
       "       [0., 0., 1., 0., 0.],\n",
       "       [0., 0., 0., 1., 0.],\n",
       "       [0., 0., 0., 0., 1.]])"
      ]
     },
     "execution_count": 29,
     "metadata": {},
     "output_type": "execute_result"
    }
   ],
   "source": [
    "import numpy as np\n",
    "np.identity((5))"
   ]
  },
  {
   "cell_type": "code",
   "execution_count": null,
   "id": "ef294acd",
   "metadata": {},
   "outputs": [],
   "source": []
  },
  {
   "cell_type": "code",
   "execution_count": null,
   "id": "33028e27",
   "metadata": {},
   "outputs": [],
   "source": []
  },
  {
   "cell_type": "code",
   "execution_count": null,
   "id": "d29b2f4c",
   "metadata": {},
   "outputs": [],
   "source": []
  }
 ],
 "metadata": {
  "kernelspec": {
   "display_name": "Python 3 (ipykernel)",
   "language": "python",
   "name": "python3"
  },
  "language_info": {
   "codemirror_mode": {
    "name": "ipython",
    "version": 3
   },
   "file_extension": ".py",
   "mimetype": "text/x-python",
   "name": "python",
   "nbconvert_exporter": "python",
   "pygments_lexer": "ipython3",
   "version": "3.10.5"
  }
 },
 "nbformat": 4,
 "nbformat_minor": 5
}
